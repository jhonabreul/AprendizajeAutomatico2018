{
 "cells": [
  {
   "cell_type": "markdown",
   "metadata": {},
   "source": [
    "# Tarea 2: Implementar Regresión Lineal en Python"
   ]
  },
  {
   "cell_type": "markdown",
   "metadata": {},
   "source": [
    "Crear una clase python llamada RegresionLineal que contenga los siguientes métodos:\n",
    "\n",
    "- Un método para generar el intercepto y la pendiente de la línea de mínimos cuadrados. (Método `fit` del modelo)\n",
    "\n",
    "- Un método para realizar la predicción. (Método `predict` del modelo)\n",
    "\n",
    "- Un método para calcular el R-cuadrado. (Método `score` del modelo)\n",
    "\n",
    "Probar los métodos de la clase usando los datos del archivo `Advertising.csv`\n",
    "\n",
    "Envie la tarea colocando su nombre en el nombre del notebook. Ejemplo: Tarea2_WladimirRodriguez.ipynb\n",
    "\n",
    "No es necesario enviar el archivo `Advertising.csv`\n",
    "\n",
    "Fecha de entrega: Viernes 23 de Febrero (antes de la hora de clase)"
   ]
  },
  {
   "cell_type": "code",
   "execution_count": null,
   "metadata": {},
   "outputs": [],
   "source": []
  }
 ],
 "metadata": {
  "kernelspec": {
   "display_name": "Python 3",
   "language": "python",
   "name": "python3"
  },
  "language_info": {
   "codemirror_mode": {
    "name": "ipython",
    "version": 3
   },
   "file_extension": ".py",
   "mimetype": "text/x-python",
   "name": "python",
   "nbconvert_exporter": "python",
   "pygments_lexer": "ipython3",
   "version": "3.6.4"
  }
 },
 "nbformat": 4,
 "nbformat_minor": 2
}
