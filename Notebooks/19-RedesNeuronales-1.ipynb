{
 "cells": [
  {
   "cell_type": "markdown",
   "metadata": {},
   "source": [
    "# Redes Neuronales"
   ]
  },
  {
   "cell_type": "markdown",
   "metadata": {},
   "source": [
    "En este tema vamos a tratar las redes neuronales multicapa, cómo funcionan y cómo entrenarlas para resolver problemas complejos. Sin embargo, antes de profundizar en una arquitectura de red neuronal multicapa particular, reiteremos brevemente algunos de los conceptos de redes neuronales de una sola capa que presentamos anteriormente, el algoritmo ADAptive LInear NEuron (Adaline ), que se muestra en la siguiente figura:"
   ]
  },
  {
   "cell_type": "markdown",
   "metadata": {},
   "source": [
    "<img src=\"figuras/adaline2.png\" width=\"75%\">"
   ]
  },
  {
   "cell_type": "markdown",
   "metadata": {},
   "source": [
    "### Funciones de Coste"
   ]
  },
  {
   "cell_type": "markdown",
   "metadata": {},
   "source": [
    "Uno de los ingredientes clave de los algoritmos supervisados de aprendizaje automático es definir una función objetivo que se debe optimizar durante el proceso de aprendizaje. Esta función objetivo es a menudo una función de coste que queremos minimizar. En el caso del Adaline, podemos determinar la función de coste $J$ para aprender los pesos como la Suma de Errores al Cuadrado entre el resultado calculado y la etiqueta de clase verdadera.\n",
    "\n",
    "&nbsp;&nbsp;&nbsp;&nbsp;&nbsp;&nbsp;$J(w) = \\frac{1}{2}\\sum_{i}(y^{(i)}-𝜙(z^{(i)}))^2$\n",
    "\n",
    "La ventaja principal de esta función de activación lineal continua es que la función de coste se vuelve diferenciable. Otra propiedad importante de esta función de coste es que es convexa; Por lo tanto, podemos usar un algoritmo de optimización simple, pero potente, llamado descenso de gradiente para encontrar los pesos que minimizan nuestra función de coste para clasificar las muestras en el conjunto de datos."
   ]
  },
  {
   "cell_type": "markdown",
   "metadata": {},
   "source": [
    "### Descenso de Gradiente"
   ]
  },
  {
   "cell_type": "markdown",
   "metadata": {},
   "source": [
    "Como se ilustra en la siguiente figura, se puede describir el principio detrás del descenso del gradiente como bajar una colina hasta alcanzar un mínimo de coste local o global. En cada iteración, se toma un paso en sentido contrario del gradiente donde el tamaño del paso se determina por el valor de la tasa de aprendizaje, así como la pendiente del gradiente:"
   ]
  },
  {
   "cell_type": "markdown",
   "metadata": {},
   "source": [
    "<img src=\"figuras/gradiente.png\" width=\"75%\">"
   ]
  },
  {
   "cell_type": "markdown",
   "metadata": {},
   "source": [
    "Usando descenso del gradiente, se pueden actualizar los pesos tomando un paso en sentido contrario al gradiente $∇J(w)$  de la función de coste $J(w)$\n",
    "\n",
    "&nbsp;&nbsp;&nbsp;&nbsp;&nbsp;&nbsp;$w = w + ∆w$\n",
    "\n",
    "Donde, el cambio de los pesos $∆w$ es definido como gradiente negativo multiplicado por la tasa de aprendizaje _η_:\n",
    "\n",
    "&nbsp;&nbsp;&nbsp;&nbsp;&nbsp;&nbsp;$∆w = -η∆J(w)$\n",
    "\n",
    "Para calcular el gradiente de la función de coste, se necesita calcular la derivada parcial de la función de coste con respecto a cada peso $w_j$,\n",
    "\n",
    "&nbsp;&nbsp;&nbsp;&nbsp;&nbsp;&nbsp;$\\frac{∂J}{∂w_j} = -\\sum_{i}(y^{(i)}-𝜙(z^{(i)}))x_{j}^{(i)}$\n",
    "\n",
    "de esta forma se puede escribir la actualización del peso $w_j$ como:\n",
    "\n",
    "&nbsp;&nbsp;&nbsp;&nbsp;&nbsp;&nbsp;$∆w_{j} = -η\\frac{∂J}{∂w_j} = η\\sum_{i}(y^{(i)}-𝜙(z^{(i)}))x_{j}^{(i)}$\n",
    "\n",
    "Como todos los pesos se actualizan simultaneamente, la regla de aprendizaje del Adaline se convierte en:\n",
    "\n",
    "&nbsp;&nbsp;&nbsp;&nbsp;&nbsp;&nbsp;$w = w + ∆w$\n",
    "\n",
    "Aunque la regla de aprendizaje del Adaline se parece a la del Perceptrón, la $𝜙(z^{(i)})$ con $z^{(i)} = w^{T}x^{(i)}$ es un número real y no una etiqueta de clase entera. Además, la actualización de los pesos se calcula tomando en cuenta todos las muestras del conjunto de entrenamiento, en vez de, actualizar los pesos incrementalmente despues de cada muestra. Por lo que a este enfoque se le denomina descenso del gradiente por lotes."
   ]
  },
  {
   "cell_type": "markdown",
   "metadata": {},
   "source": [
    "## Redes Neuronales Multicapa"
   ]
  },
  {
   "cell_type": "markdown",
   "metadata": {},
   "source": [
    "En esta clase, aprenderemos cómo conectar múltiples neuronas individuales a una red neuronal de propagación hacia adelante de múltiples capas; este tipo especial de red totalmente conectada también se llama Perceptrón Multicapa. La siguiente figura ilustra el concepto de un Perceptrón Multicapa que consta de tres capas:\n"
   ]
  },
  {
   "cell_type": "markdown",
   "metadata": {},
   "source": [
    "<img src=\"figuras/MLP.png\" width=\"75%\">"
   ]
  },
  {
   "cell_type": "markdown",
   "metadata": {},
   "source": [
    "El Perceptrón Multicapa representado en la figura anterior tiene una capa de entrada, una capa oculta y una capa de salida. Las unidades en la capa oculta están completamente conectadas a la capa de entrada, y la capa de salida está completamente conectada a la capa oculta. Si dicha red tiene más de una capa oculta, también la llamamos una red neuronal artificial profunda.\n",
    "\n",
    "Como se muestra en la figura anterior, denotamos la i-ésima unidad de activación en la capa $l$ como $a_i^{(l)}$. Por ejemplo, $a_i^{(1)}$ se refiere al i-esimo valor de la capa de entrada, $a_i^{(2)}$ se refiere a la iesima unidad de la capa oculta y $a_i^{(3)}$ a la iesima unidad de la capa de salida. Las unidades de activación $a_0^{(1)}$ y $a_0^{(2)}$ son las unidades de sesgo, las cuales se fijan al valor 1. La activación de las unidades en la capa de entrada es su misma entrada más la unidad de sesgo:\n",
    "\n",
    "$a^{(1)} = \\left[\\\n",
    "\\begin{array}{ll}\n",
    "      a_0^{(1)} \\\\\n",
    "      a_1^{(1)} \\\\\n",
    "      \\vdots \\\\\n",
    "      a_n^{(1)} \\\\\n",
    "\\end{array} \n",
    "\\right]\\ $ = $ \\left[\\\n",
    "\\begin{array}{ll}\n",
    "      1 \\\\\n",
    "      x_1^{(1)} \\\\\n",
    "      \\vdots \\\\\n",
    "      x_n^{(1)} \\\\\n",
    "\\end{array}\n",
    "\\right]$\n",
    "\n",
    "Cada unidad de la capa $l$ esta conectada a todas las unidades de la capa $l-1$ por medio de los coeficientes de pesos. Por ejemplo, la connección entre la k-ésima unidad en la capa $l$ y la j-ésima unidad en la capa $l+1$ se denota $w_{k,j}^{(l)}$. Donde la matriz de pesos que conectan la capa de entrada y la capa oculta se denomina $W^{(2)}$ y la que conecta la capa oculta con la capa de salida $W^{(3)}$.\n",
    "\n",
    "Si bien una unidad en la capa de salida sería suficiente para una tarea de clasificación binaria, en la figura anterior se muestra una forma más general de red neuronal, que nos permite realizar una clasificación multiclase a través de la generalización de la técnica uno contra todos (OvA). Para lo cual utilizaremos la codificación \"One-Hot\" en el caso de clasificación multiclase. "
   ]
  },
  {
   "cell_type": "markdown",
   "metadata": {},
   "source": [
    "### Codficación One-Hot"
   ]
  },
  {
   "cell_type": "markdown",
   "metadata": {},
   "source": [
    "\"One-Hot\" se refiere a un estado en ingeniería eléctrica donde todos los bits en un circuito son 0, excepto un único bit con un valor de 1. Se dice que el bit con un valor de 1 es \"caliente\".\n",
    "\n",
    "Este sistema de codificación se usa para evitar el problema de que cuando se convieten datos categoricos a una representación numérica, esto implicaría que hay una relación de orden entre las diferentes categorias, lo que podría provocar que el algoritmo de apendizaje no tuviera un buen rendimiento.\n",
    "\n",
    "Por ejemplo en el caso del conjunto de datos iris, podríamos codificar las tres etiquetas de clases (0=Setosa, 1=Versicolor, 2=Virginica), esto implicaría que Virginica > Versicolor > Setosa.\n",
    "\n",
    "Usando codificación \"One-Hot\" para las tres clases de iris, creará tres variables una para cada una de las clases como se muestra a continuación:\n",
    "\n",
    "$0 = \\left[\\\n",
    "\\begin{array}{ll}\n",
    "      1 \\\\\n",
    "      0 \\\\\n",
    "      0 \\\\\n",
    "\\end{array} \n",
    "\\right]\\ $, $\\ 1 = \\left[\\\n",
    "\\begin{array}{ll}\n",
    "      0 \\\\\n",
    "      1 \\\\\n",
    "      0 \\\\\n",
    "\\end{array}\n",
    "\\right]\\ $, $\\ 2 = \\left[\\\n",
    "\\begin{array}{ll}\n",
    "      0 \\\\\n",
    "      0 \\\\\n",
    "      1 \\\\\n",
    "\\end{array}\n",
    "\\right]$\n",
    "\n",
    "Esta representación vectorial \"One-Hot\" nos permite abordar tareas de clasificación con un número arbitrario de etiquetas de clase únicas presentes en el conjunto de entrenamiento."
   ]
  },
  {
   "cell_type": "markdown",
   "metadata": {},
   "source": [
    "### Ejemplo de un Perceptrón Multicapa"
   ]
  },
  {
   "cell_type": "markdown",
   "metadata": {},
   "source": [
    "Resumamos lo que acabamos de aprender en una ilustración descriptiva de un Perceptrón Multicapa 3-4-3 simplificado:"
   ]
  },
  {
   "cell_type": "markdown",
   "metadata": {},
   "source": [
    "<img src=\"figuras/MLP343.png\" width=\"50%\">"
   ]
  },
  {
   "cell_type": "markdown",
   "metadata": {},
   "source": [
    "### Activación de una red neuronal via propagación hacia adelante"
   ]
  },
  {
   "cell_type": "markdown",
   "metadata": {},
   "source": [
    "El proceso de propagación hacia adelante para calcular la salida de un Perceptron Multicapa se puede resumir en estos tres simples pasos:\n",
    "\n",
    "1. Comenzando en la capa de entrada, propagamos los patrones de los datos de entrenamiento a través de la red para generar una salida.\n",
    "2. Basado en la salida de la red, calculamos el error que queremos minimizar usando una función de costo que describiremos más adelante.\n",
    "3. Propagamos hacia atras el error, encontramos su derivada con respecto a cada peso en la red y actualizamos el modelo.\n",
    "\n",
    "Finalmente, después de repetir estos tres pasos por múltiples épocas para aprendernos los pesos del Perceptron Multicapa, utilizamos la propagación hacia adelante para calcular la salida de la red y aplicamos una función de umbral para obtener las etiquetas de clase pronosticadas en la representación \"one-hot\", que describimos anteriormente."
   ]
  },
  {
   "cell_type": "markdown",
   "metadata": {},
   "source": [
    "### Propagación hacia adelante"
   ]
  },
  {
   "cell_type": "markdown",
   "metadata": {},
   "source": [
    "Dado que cada unidad en la capa oculta está conectada a todas las unidades en las capas de entrada, primero calculamos la activación de cada unidad de la capa oculta $a_1^{(2)}$ de la siguiente manera:\n",
    "\n",
    "$$z_1^{(2)}=a_0^{(1)}w_{0,1}^{(2)}+a_1^{(1)}w_{1,1}^{(2)}+\\cdots+a_n^{(1)}w_{n,1}^{(2)}$$\n",
    "\n",
    "$$a_1^{(2)}=\\phi(z_1^{(1)})$$\n",
    "\n",
    "Donde $z_1^{(2)}$ en la entrada neta y $\\phi(\\cdot)$ es la función de activación. Un ejemplo de función de activación es la función sigmoide (logistica):\n",
    "\n",
    "$$\\phi(z)=\\frac{1}{1+e^{-z}}$$\n",
    "\n",
    "<img src=\"figuras/sigmoide.png\" width=\"50%\">\n",
    "\n",
    "Vectorizando podemos escribir la activación de una manera más compacta:\n",
    "\n",
    "$$\\boldsymbol{z}^{(2)}=\\boldsymbol{a}^{(1)}\\boldsymbol{W}^{(2)}$$\n",
    "\n",
    "$$\\boldsymbol{a}^{(2)}=\\phi(\\boldsymbol{z}^{(2)})$$\n",
    "\n",
    "Donde $\\boldsymbol{a}^{(1)}$ es el vector de dimensiones $1 \\times m$ de una muestra $\\boldsymbol{x}^{(1)}$ más la unidad de sesgo. $\\boldsymbol{W}^{(2)}$ es una matrix de dimensiones $m \\times d$ donde $d$ es el número de unidades en la capa oculta.\n",
    "\n",
    "Posteriormente se calcula la activación de la capa de salida:\n",
    "\n",
    "$$\\boldsymbol{z}^{(3)}=\\boldsymbol{a}^{(2)}\\boldsymbol{W}^{(3)}$$\n",
    "\n",
    "$$\\boldsymbol{a}^{(3)}=\\phi(\\boldsymbol{z}^{(3)})$$"
   ]
  },
  {
   "cell_type": "markdown",
   "metadata": {},
   "source": [
    "### Implementar un Perceptrón Multicapa"
   ]
  },
  {
   "cell_type": "code",
   "execution_count": 1,
   "metadata": {
    "collapsed": true
   },
   "outputs": [],
   "source": [
    "import numpy as np\n",
    "import sys\n",
    "\n",
    "\n",
    "class PerceptronMulticapa(object):\n",
    "    \"\"\" Perceptrón Multicapa / Red Neuronal\n",
    "\n",
    "    Parámetros\n",
    "    ------------\n",
    "    n_ocultas : int (default: 30)\n",
    "        Número de unidades ocultas.\n",
    "    l2 : float (default: 0.)\n",
    "        Valor lambda value para la regularización L2.\n",
    "        Sin regularización si l2=0. (defecto)\n",
    "    epocas : int (default: 100)\n",
    "        Número de pasos sobre el conjunto de entrenamiento.\n",
    "    eta : float (default: 0.001)\n",
    "        Tasa de aprendizaje.\n",
    "    barajar : bool (default: True)\n",
    "        Barajar los datos de entrenamiento cada epoca si True para prevenir ciclos.\n",
    "    tamaño_mini_lote : int (default: 1)\n",
    "        NNúmero de mueatras de entrenamiento por mini lote.\n",
    "    semilla : int (default: None)\n",
    "        Semilla aleatoria para inicializar los pesos y barajar.\n",
    "\n",
    "    Atributos\n",
    "    -----------\n",
    "    eval_ : dict\n",
    "      Diccionario para almacenar el costo, exactitud del entrenamiento,\n",
    "      y exactitud de la validación para cada epoca durante entrenamiento.\n",
    "\n",
    "    \"\"\"\n",
    "    def __init__(self, n_ocultas=30,\n",
    "                 l2=0., epocas=100, eta=0.001,\n",
    "                 barajar=True, tamaño_mini_lote=1, semilla=None):\n",
    "\n",
    "        self.random = np.random.RandomState(semilla)\n",
    "        self.n_ocultas = n_ocultas\n",
    "        self.l2 = l2\n",
    "        self.epocas = epocas\n",
    "        self.eta = eta\n",
    "        self.barajar = barajar\n",
    "        self.tamaño_mini_lote = tamaño_mini_lote\n",
    "\n",
    "    def _onehot(self, y, n_clases):\n",
    "        \"\"\"Codificar etiquetas en representación one-hot\n",
    "\n",
    "        Parámetros\n",
    "        ------------\n",
    "        y : array, shape = [n_muestras]\n",
    "            Target values.\n",
    "\n",
    "        Retorna\n",
    "        -----------\n",
    "        onehot : array, shape = (n_muestras, n_etiquetas)\n",
    "\n",
    "        \"\"\"\n",
    "        onehot = np.zeros((n_clases, y.shape[0]))\n",
    "        for idx, val in enumerate(y.astype(int)):\n",
    "            onehot[val, idx] = 1.\n",
    "        return onehot.T\n",
    "\n",
    "    def _sigmoide(self, z):\n",
    "        \"\"\"Calcular la función logística (sigmoide)\"\"\"\n",
    "        return 1. / (1. + np.exp(-np.clip(z, -250, 250)))\n",
    "\n",
    "    def _hacia_adelante(self, X):\n",
    "        \"\"\"Calcular pasos de propagación hacia_adelante\"\"\"\n",
    "\n",
    "        # paso 1: entrada neta a la capa oculta\n",
    "        # [n_muestras, n_atributos] dot [n_atributos, n_ocultas]\n",
    "        # -> [n_muestras, n_ocultas]\n",
    "        z_oculta = np.dot(X, self.w_oculta) + self.b_oculta\n",
    "\n",
    "        # paso 2: activación de la capa oculta\n",
    "        a_oculta = self._sigmoide(z_oculta)\n",
    "\n",
    "        # paso 3: entrada neta a la capa de salida\n",
    "        # [n_muestras, n_ocultas] dot [n_ocultas, n_etiquetas_clases]\n",
    "        # -> [n_muestras, n_etiquetas_clases]\n",
    "\n",
    "        z_salida = np.dot(a_oculta, self.w_salida) + self.b_salida\n",
    "\n",
    "        # paso 4: activación capa de salida\n",
    "        a_salida = self._sigmoide(z_salida)\n",
    "\n",
    "        return z_oculta, a_oculta, z_salida, a_salida\n",
    "\n",
    "    def _calcular_costo(self, y_enc, salida):\n",
    "        \"\"\"Calcular la función de costo.\n",
    "\n",
    "        Parámetros\n",
    "        ----------\n",
    "        y_enc : array, shape = (n_muestras, n_etiquetas)\n",
    "            etiquetas de clases codificadas one-hot.\n",
    "        salida : array, shape = [n_muestras, n_unidades_salida]\n",
    "            Activación de la capa de salida (propagación hacia_adelante)\n",
    "\n",
    "        Retorna\n",
    "        ---------\n",
    "        costo : float\n",
    "            Costo regularizado\n",
    "\n",
    "        \"\"\"\n",
    "        L2_termino = (self.l2 *\n",
    "                   (np.sum(self.w_oculta ** 2.) +\n",
    "                    np.sum(self.w_salida ** 2.)))\n",
    "\n",
    "        termino1 = -y_enc * (np.log(salida))\n",
    "        termino2 = (1. - y_enc) * np.log(1. - salida)\n",
    "        costo = np.sum(termino1 - termino2) + L2_termino\n",
    "        return costo\n",
    "\n",
    "    def predict(self, X):\n",
    "        \"\"\"Predice etiquetas de clase\n",
    "\n",
    "        Parámetros\n",
    "        -----------\n",
    "        X : array, shape = [n_muestras, n_atributos]\n",
    "            Capa de entrada con atributos originales.\n",
    "\n",
    "        Retorna:\n",
    "        ----------\n",
    "        y_pred : array, shape = [n_muestras]\n",
    "            Etiquetas de clase predichas.\n",
    "\n",
    "        \"\"\"\n",
    "        z_oculta, a_oculta, z_salida, a_salida = self._hacia_adelante(X)\n",
    "        y_pred = np.argmax(z_salida, axis=1)\n",
    "        return y_pred\n",
    "\n",
    "    def fit(self, X_entrenamiento, y_entrenamiento, X_validacion, y_validacion):\n",
    "        \"\"\" Aprende pesos a partir de los datos de entrenamiento.\n",
    "\n",
    "        Parámetros\n",
    "        -----------\n",
    "        X_entrenamiento : array, shape = [n_muestras, n_atributos]\n",
    "            Capa de entrada con atributos originales.\n",
    "        y_entrenamiento: array, shape = [n_muestras]\n",
    "            Etiquetas de clase verdaderas.\n",
    "        X_validacion : array, shape = [n_muestras, n_atributos]\n",
    "            Muestras de atributos para validación durante entrenamiento\n",
    "        y_validacion : array, shape = [n_muestras]\n",
    "            Muestras de etiquetas para validación durante entrenamiento\n",
    "\n",
    "        Retorna:\n",
    "        ----------\n",
    "        self\n",
    "\n",
    "        \"\"\"\n",
    "        n_salida = np.unique(y_entrenamiento).shape[0]  # número de etiquetas de clase\n",
    "        n_atributos = X_entrenamiento.shape[1]\n",
    "\n",
    "        #########################\n",
    "        # Inicialización de Pesos\n",
    "        #########################\n",
    "\n",
    "        # pesos para entrada -> oculta\n",
    "        self.b_oculta = np.zeros(self.n_ocultas)\n",
    "        self.w_oculta = self.random.normal(loc=0.0, scale=0.1,\n",
    "                                      size=(n_atributos, self.n_ocultas))\n",
    "\n",
    "        # pesos para oculta -> salida\n",
    "        self.b_salida = np.zeros(n_salida)\n",
    "        self.w_salida = self.random.normal(loc=0.0, scale=0.1,\n",
    "                                        size=(self.n_ocultas, n_salida))\n",
    "\n",
    "        epoch_strlen = len(str(self.epocas))  # para formato del progreso\n",
    "        self.eval_ = {'Costo': [], 'Exactitud_entrenamiento': [], 'Exactitud_validación': []}\n",
    "\n",
    "        y_entrenamiento_enc = self._onehot(y_entrenamiento, n_salida)\n",
    "\n",
    "        # iterar sobre las epocas de entrenamiento\n",
    "        for i in range(self.epocas):\n",
    "\n",
    "            # iterar sobre los mini lotes\n",
    "            indices = np.arange(X_entrenamiento.shape[0])\n",
    "\n",
    "            if self.barajar:\n",
    "                self.random.shuffle(indices)\n",
    "\n",
    "            for start_idx in range(0, indices.shape[0] - self.tamaño_mini_lote +\n",
    "                                   1, self.tamaño_mini_lote):\n",
    "                batch_idx = indices[start_idx:start_idx + self.tamaño_mini_lote]\n",
    "\n",
    "                # propagación hacia_adelante\n",
    "                z_oculta, a_oculta, z_salida, a_salida = self._hacia_adelante(X_entrenamiento[batch_idx])\n",
    "\n",
    "                #########################\n",
    "                # Propagación hacia atras\n",
    "                #########################\n",
    "\n",
    "                # [n_muestras, n_etiquetas_clases]\n",
    "                sigma_salida = a_salida - y_entrenamiento_enc[batch_idx]\n",
    "\n",
    "                # [n_muestras, n_ocultas]\n",
    "                sigmoide_derivada_oculta = a_oculta * (1. - a_oculta)\n",
    "\n",
    "                # [n_muestras, n_etiquetas_clases] dot [n_etiquetas_clases, n_ocultas]\n",
    "                # -> [n_muestras, n_ocultas]\n",
    "                sigma_oculta = (np.dot(sigma_salida, self.w_salida.T) *\n",
    "                           sigmoide_derivada_oculta)\n",
    "\n",
    "                # [n_atributos, n_muestras] dot [n_muestras, n_ocultas]\n",
    "                # -> [n_atributos, n_ocultas]\n",
    "                grad_w_oculta = np.dot(X_entrenamiento[batch_idx].T, sigma_oculta)\n",
    "                grad_b_oculta = np.sum(sigma_oculta, axis=0)\n",
    "\n",
    "                # [n_ocultas, n_muestras] dot [n_muestras, n_etiquetas_clases]\n",
    "                # -> [n_ocultas, n_etiquetas_clases]\n",
    "                grad_w_salida = np.dot(a_oculta.T, sigma_salida)\n",
    "                grad_b_salida = np.sum(sigma_salida, axis=0)\n",
    "\n",
    "                # Regularización y actualización de pesos\n",
    "                delta_w_oculta = (grad_w_oculta + self.l2*self.w_oculta)\n",
    "                delta_b_oculta = grad_b_oculta # el sesgo no se regulariza\n",
    "                self.w_oculta -= self.eta * delta_w_oculta\n",
    "                self.b_oculta -= self.eta * delta_b_oculta\n",
    "\n",
    "                delta_w_salida = (grad_w_salida + self.l2*self.w_salida)\n",
    "                delta_b_salida = grad_b_salida  # el sesgo no se regulariza\n",
    "                self.w_salida -= self.eta * delta_w_salida\n",
    "                self.b_salida -= self.eta * delta_b_salida\n",
    "\n",
    "            #############\n",
    "            # Evaluación\n",
    "            #############\n",
    "\n",
    "            # Evaluación después de cada epoca durante entrenamiento\n",
    "            z_oculta, a_oculta, z_salida, a_salida = self._hacia_adelante(X_entrenamiento)\n",
    "            \n",
    "            costo = self._calcular_costo(y_enc=y_entrenamiento_enc,\n",
    "                                      salida=a_salida)\n",
    "\n",
    "            y_entrenamiento_pred = self.predict(X_entrenamiento)\n",
    "            y_validacion_pred = self.predict(X_validacion)\n",
    "\n",
    "            exactitud_entrenamiento = ((np.sum(y_entrenamiento == y_entrenamiento_pred)).astype(np.float) /\n",
    "                         X_entrenamiento.shape[0])\n",
    "            exactitud_validacion = ((np.sum(y_validacion == y_validacion_pred)).astype(np.float) /\n",
    "                         X_validacion.shape[0])\n",
    "\n",
    "            sys.stderr.write('\\r%0*d/%d | Costo: %.2f '\n",
    "                             '| Exactitud Entrenamiento/Validación: %.2f%%/%.2f%% ' %\n",
    "                             (epoch_strlen, i+1, self.epocas, costo,\n",
    "                              exactitud_entrenamiento*100, exactitud_validacion*100))\n",
    "            sys.stderr.flush()\n",
    "\n",
    "            self.eval_['Costo'].append(costo)\n",
    "            self.eval_['Exactitud_entrenamiento'].append(exactitud_entrenamiento)\n",
    "            self.eval_['Exactitud_validación'].append(exactitud_validacion)\n",
    "\n",
    "        return self"
   ]
  },
  {
   "cell_type": "markdown",
   "metadata": {},
   "source": [
    "## Clasificar dígitos escritos a mano"
   ]
  },
  {
   "cell_type": "markdown",
   "metadata": {},
   "source": [
    "El conjunto de datos MNIST está disponible públicamente en http://yann.lecun.com/exdb/mnist/ y consta de las siguientes cuatro partes:\n",
    "\n",
    "- Imágenes del conjunto de entrenamiento: train-images-idx3-ubyte.gz (9.9 MB, 47 MB descomprimido, 60,000 muestras)\n",
    "- Etiquetas del conjunto de entrenamiento: train-labels-idx1-ubyte.gz (29 KB, 60 KB descomprimido, 60,000 etiquetas)\n",
    "- Imágenes del conjunto de prueba: t10k-images-idx3-ubyte.gz (1.6 MB, 7.8 MB, 10,000 muestras)\n",
    "- Etiquetas de conjunto de prueba: t10k-labels-idx1-ubyte.gz (5 KB, 10 KB descomprimido, 10.000 etiquetas)\n",
    "\n",
    "Después de descargar los archivos, se recomienda descomprimir los archivos usando la herramienta gzip de Unix / Linux desde el terminal para mayor eficiencia, por ejemplo, usando el comando\n",
    "\n",
    "    gzip *ubyte.gz -d\n",
    " \n",
    "en su directorio de descargas MNIST local, o usando su herramienta de descompresión favorita si está trabajando con una máquina que se ejecuta en Microsoft Windows. Las imágenes se almacenan en forma de byte y, con la siguiente función, las leeremos en matrices NumPy que usaremos para entrenar a nuestro Perceptrón Multicapa."
   ]
  },
  {
   "cell_type": "code",
   "execution_count": 2,
   "metadata": {
    "collapsed": true
   },
   "outputs": [],
   "source": [
    "import os\n",
    "import struct\n",
    "import numpy as np\n",
    " \n",
    "def cargar_mnist(ruta, tipo='train'):\n",
    "    \"\"\"Cargar los datos MNIST desde `ruta`\"\"\"\n",
    "    ruta_etiquetas = os.path.join(ruta, \n",
    "                               '%s-labels.idx1-ubyte' % tipo)\n",
    "    ruta_imagenes = os.path.join(ruta, \n",
    "                               '%s-images.idx3-ubyte' % tipo)    \n",
    "    with open(ruta_etiquetas, 'rb') as rutaet:\n",
    "        magic, n = struct.unpack('>II', \n",
    "                                 rutaet.read(8))\n",
    "        etiquetas = np.fromfile(rutaet, \n",
    "                             dtype=np.uint8)\n",
    "\n",
    "    with open(ruta_imagenes, 'rb') as rutaim:\n",
    "        magic, num, filas, columnas = struct.unpack(\">IIII\", \n",
    "                                               rutaim.read(16))\n",
    "        imagenes = np.fromfile(rutaim, \n",
    "                             dtype=np.uint8).reshape(len(etiquetas), 784)\n",
    "        imagenes = ((imagenes / 255.) - .5) * 2\n",
    " \n",
    "    return imagenes, etiquetas"
   ]
  },
  {
   "cell_type": "markdown",
   "metadata": {},
   "source": [
    "Cargar el conjunto de entrenamiento"
   ]
  },
  {
   "cell_type": "code",
   "execution_count": 5,
   "metadata": {},
   "outputs": [
    {
     "name": "stdout",
     "output_type": "stream",
     "text": [
      "Filas: 60000, columnas: 784\n"
     ]
    }
   ],
   "source": [
    "X_entrenamiento, y_entrenamiento = cargar_mnist('datos/', tipo='train')\n",
    "print('Filas: %d, columnas: %d' % (X_entrenamiento.shape[0], X_entrenamiento.shape[1]))"
   ]
  },
  {
   "cell_type": "markdown",
   "metadata": {},
   "source": [
    "Cargar el conjunto de prueba"
   ]
  },
  {
   "cell_type": "code",
   "execution_count": 6,
   "metadata": {},
   "outputs": [
    {
     "name": "stdout",
     "output_type": "stream",
     "text": [
      "Filas: 10000, columnas: 784\n"
     ]
    }
   ],
   "source": [
    "X_prueba, y_prueba = cargar_mnist('datos/', tipo='t10k')\n",
    "print('Filas: %d, columnas: %d' % (X_prueba.shape[0], X_prueba.shape[1]))"
   ]
  },
  {
   "cell_type": "markdown",
   "metadata": {},
   "source": [
    "Visualizar el primer dígito de cada clase"
   ]
  },
  {
   "cell_type": "code",
   "execution_count": 7,
   "metadata": {},
   "outputs": [
    {
     "data": {
      "image/png": "[encoded data removed]",
      "text/plain": [
       "<Figure size 432x288 with 10 Axes>"
      ]
     },
     "metadata": {},
     "output_type": "display_data"
    }
   ],
   "source": [
    "%matplotlib inline\n",
    "import matplotlib.pyplot as plt\n",
    "\n",
    "fig, ax = plt.subplots(nrows=2, ncols=5, sharex=True, sharey=True,)\n",
    "ax = ax.flatten()\n",
    "for i in range(10):\n",
    "    img = X_entrenamiento[y_entrenamiento == i][0].reshape(28, 28)\n",
    "    ax[i].imshow(img, cmap='Greys')\n",
    "\n",
    "ax[0].set_xticks([])\n",
    "ax[0].set_yticks([])\n",
    "plt.tight_layout()\n",
    "plt.show()"
   ]
  },
  {
   "cell_type": "markdown",
   "metadata": {},
   "source": [
    "Visualizar 25 versiones diferentes de \"9\""
   ]
  },
  {
   "cell_type": "code",
   "execution_count": 8,
   "metadata": {},
   "outputs": [
    {
     "data": {
      "image/png": "[encoded data removed]",
      "text/plain": [
       "<Figure size 432x288 with 25 Axes>"
      ]
     },
     "metadata": {},
     "output_type": "display_data"
    }
   ],
   "source": [
    "fig, ax = plt.subplots(nrows=5, ncols=5, sharex=True, sharey=True,)\n",
    "ax = ax.flatten()\n",
    "for i in range(25):\n",
    "    img = X_entrenamiento[y_entrenamiento == 7][i].reshape(28, 28)\n",
    "    ax[i].imshow(img, cmap='Greys')\n",
    "\n",
    "ax[0].set_xticks([])\n",
    "ax[0].set_yticks([])\n",
    "plt.tight_layout()\n",
    "# plt.savefig('images/12_6.png', dpi=300)\n",
    "plt.show()"
   ]
  },
  {
   "cell_type": "markdown",
   "metadata": {},
   "source": [
    "#### Entrenar una Red Neuronal con l2=0.0"
   ]
  },
  {
   "cell_type": "code",
   "execution_count": 14,
   "metadata": {},
   "outputs": [
    {
     "name": "stderr",
     "output_type": "stream",
     "text": [
      "200/200 | Costo: 10187.16 | Exactitud Entrenamiento/Validación: 97.76%/96.88% "
     ]
    },
    {
     "data": {
      "text/plain": [
       "<__main__.PerceptronMulticapa at 0x150cb86a0>"
      ]
     },
     "execution_count": 14,
     "metadata": {},
     "output_type": "execute_result"
    }
   ],
   "source": [
    "n_epocas = 200\n",
    "Red_Neuronal = PerceptronMulticapa(n_ocultas=30, \n",
    "                  l2=0.0, \n",
    "                  epocas=n_epocas, \n",
    "                  eta=0.0005,\n",
    "                  tamaño_mini_lote=100, \n",
    "                  barajar=True,\n",
    "                  semilla=1)\n",
    "\n",
    "Red_Neuronal.fit(X_entrenamiento=X_entrenamiento[:55000], \n",
    "       y_entrenamiento=y_entrenamiento[:55000],\n",
    "       X_validacion=X_entrenamiento[55000:],\n",
    "       y_validacion=y_entrenamiento[55000:])"
   ]
  },
  {
   "cell_type": "markdown",
   "metadata": {},
   "source": [
    "Gráfico del costo sobre las 200 epocas sin penalización L2"
   ]
  },
  {
   "cell_type": "code",
   "execution_count": 15,
   "metadata": {},
   "outputs": [
    {
     "data": {
      "image/png": "[encoded data removed]",
      "text/plain": [
       "<Figure size 432x288 with 1 Axes>"
      ]
     },
     "metadata": {},
     "output_type": "display_data"
    }
   ],
   "source": [
    "plt.plot(range(Red_Neuronal.epocas), Red_Neuronal.eval_['Costo'])\n",
    "plt.title('L2 = 0')\n",
    "plt.ylabel('Costo')\n",
    "plt.xlabel('Epocas')\n",
    "plt.show()"
   ]
  },
  {
   "cell_type": "markdown",
   "metadata": {},
   "source": [
    "Gráfico de la exactitud sobre el conjunto de entrenamiento y el de validación para L2=0"
   ]
  },
  {
   "cell_type": "code",
   "execution_count": 16,
   "metadata": {},
   "outputs": [
    {
     "data": {
      "image/png": "[encoded data removed]",
      "text/plain": [
       "<Figure size 432x288 with 1 Axes>"
      ]
     },
     "metadata": {},
     "output_type": "display_data"
    }
   ],
   "source": [
    "plt.plot(range(Red_Neuronal.epocas), Red_Neuronal.eval_['Exactitud_entrenamiento'], \n",
    "         label='entrenamiento')\n",
    "plt.plot(range(Red_Neuronal.epocas), Red_Neuronal.eval_['Exactitud_validación'], \n",
    "         label='validación', linestyle='--')\n",
    "plt.title('L2 = 0')\n",
    "plt.ylabel('Exactitud')\n",
    "plt.xlabel('Epocas')\n",
    "plt.legend()\n",
    "plt.show()"
   ]
  },
  {
   "cell_type": "code",
   "execution_count": 17,
   "metadata": {},
   "outputs": [
    {
     "name": "stdout",
     "output_type": "stream",
     "text": [
      "Exactitud prueba: 95.75%\n"
     ]
    }
   ],
   "source": [
    "y_prueba_pred = Red_Neuronal.predict(X_prueba)\n",
    "exactitud = (np.sum(y_prueba == y_prueba_pred)\n",
    "       .astype(np.float) / X_prueba.shape[0])\n",
    "\n",
    "print('Exactitud prueba: %.2f%%' % (exactitud * 100))"
   ]
  },
  {
   "cell_type": "markdown",
   "metadata": {},
   "source": [
    "A pesar del ligero sobreajuste en los datos de entrenamiento, nuestra red neuronal de una capa oculta relativamente simple logró un rendimiento relativamente bueno en el conjunto de datos de prueba, similar a la precisión del conjunto de validación (96.88 por ciento)."
   ]
  },
  {
   "cell_type": "markdown",
   "metadata": {},
   "source": [
    "#### Entrenar una Red Neuronal con l2=0.01"
   ]
  },
  {
   "cell_type": "code",
   "execution_count": 18,
   "metadata": {},
   "outputs": [
    {
     "name": "stderr",
     "output_type": "stream",
     "text": [
      "200/200 | Costo: 11520.41 | Exactitud Entrenamiento/Validación: 97.45%/96.90% "
     ]
    },
    {
     "data": {
      "text/plain": [
       "<__main__.PerceptronMulticapa at 0x150d77da0>"
      ]
     },
     "execution_count": 18,
     "metadata": {},
     "output_type": "execute_result"
    }
   ],
   "source": [
    "n_epocas = 200\n",
    "Red_Neuronal2 = PerceptronMulticapa(n_ocultas=30, \n",
    "                  l2=0.01, \n",
    "                  epocas=n_epocas, \n",
    "                  eta=0.0005,\n",
    "                  tamaño_mini_lote=100, \n",
    "                  barajar=True,\n",
    "                  semilla=1)\n",
    "\n",
    "Red_Neuronal2.fit(X_entrenamiento=X_entrenamiento[:55000], \n",
    "       y_entrenamiento=y_entrenamiento[:55000],\n",
    "       X_validacion=X_entrenamiento[55000:],\n",
    "       y_validacion=y_entrenamiento[55000:])"
   ]
  },
  {
   "cell_type": "markdown",
   "metadata": {},
   "source": [
    "Gráfico del costo sobre las 200 epocas con penalización L2=0.01"
   ]
  },
  {
   "cell_type": "code",
   "execution_count": 19,
   "metadata": {},
   "outputs": [
    {
     "data": {
      "image/png": "[encoded data removed]",
      "text/plain": [
       "<Figure size 432x288 with 1 Axes>"
      ]
     },
     "metadata": {},
     "output_type": "display_data"
    }
   ],
   "source": [
    "plt.plot(range(Red_Neuronal2.epocas), Red_Neuronal2.eval_['Costo'])\n",
    "plt.title('L2 = 0.01')\n",
    "plt.ylabel('Costo')\n",
    "plt.xlabel('Epocas')\n",
    "plt.show()"
   ]
  },
  {
   "cell_type": "markdown",
   "metadata": {},
   "source": [
    "Gráfico de la exactitud sobre el conjunto de entrenamiento y el de validación para L2=0.01"
   ]
  },
  {
   "cell_type": "code",
   "execution_count": 20,
   "metadata": {},
   "outputs": [
    {
     "data": {
      "image/png": "[encoded data removed]",
      "text/plain": [
       "<Figure size 432x288 with 1 Axes>"
      ]
     },
     "metadata": {},
     "output_type": "display_data"
    }
   ],
   "source": [
    "plt.plot(range(Red_Neuronal2.epocas), Red_Neuronal2.eval_['Exactitud_entrenamiento'], \n",
    "         label='entrenamiento')\n",
    "plt.plot(range(Red_Neuronal2.epocas), Red_Neuronal2.eval_['Exactitud_validación'], \n",
    "         label='validación', linestyle='--')\n",
    "plt.title('L2 = 0.01')\n",
    "plt.ylabel('Exactitud')\n",
    "plt.xlabel('Epocas')\n",
    "plt.legend()\n",
    "plt.show()"
   ]
  },
  {
   "cell_type": "code",
   "execution_count": 22,
   "metadata": {},
   "outputs": [
    {
     "name": "stdout",
     "output_type": "stream",
     "text": [
      "Exactitud prueba: 95.87%\n"
     ]
    }
   ],
   "source": [
    "y_prueba_pred = Red_Neuronal2.predict(X_prueba)\n",
    "exactitud = (np.sum(y_prueba == y_prueba_pred)\n",
    "       .astype(np.float) / X_prueba.shape[0])\n",
    "\n",
    "print('Exactitud prueba: %.2f%%' % (exactitud * 100))"
   ]
  },
  {
   "cell_type": "markdown",
   "metadata": {},
   "source": [
    "#### Entrenar una Red Neuronal con l2=0.1"
   ]
  },
  {
   "cell_type": "code",
   "execution_count": 23,
   "metadata": {},
   "outputs": [
    {
     "name": "stderr",
     "output_type": "stream",
     "text": [
      "200/200 | Costo: 20907.03 | Exactitud Entrenamiento/Validación: 95.36%/96.16% "
     ]
    },
    {
     "data": {
      "text/plain": [
       "<__main__.PerceptronMulticapa at 0x127233048>"
      ]
     },
     "execution_count": 23,
     "metadata": {},
     "output_type": "execute_result"
    }
   ],
   "source": [
    "n_epocas = 200\n",
    "Red_Neuronal3 = PerceptronMulticapa(n_ocultas=30, \n",
    "                  l2=0.1, \n",
    "                  epocas=n_epocas, \n",
    "                  eta=0.0005,\n",
    "                  tamaño_mini_lote=100, \n",
    "                  barajar=True,\n",
    "                  semilla=1)\n",
    "\n",
    "Red_Neuronal3.fit(X_entrenamiento=X_entrenamiento[:55000], \n",
    "       y_entrenamiento=y_entrenamiento[:55000],\n",
    "       X_validacion=X_entrenamiento[55000:],\n",
    "       y_validacion=y_entrenamiento[55000:])"
   ]
  },
  {
   "cell_type": "markdown",
   "metadata": {},
   "source": [
    "Gráfico del costo sobre las 200 epocas con penalización L2=0.1"
   ]
  },
  {
   "cell_type": "code",
   "execution_count": 24,
   "metadata": {},
   "outputs": [
    {
     "data": {
      "image/png": "[encoded data removed]",
      "text/plain": [
       "<Figure size 432x288 with 1 Axes>"
      ]
     },
     "metadata": {},
     "output_type": "display_data"
    }
   ],
   "source": [
    "plt.plot(range(Red_Neuronal3.epocas), Red_Neuronal3.eval_['Costo'])\n",
    "plt.title('L2 = 0.1')\n",
    "plt.ylabel('Costo')\n",
    "plt.xlabel('Epocas')\n",
    "plt.show()"
   ]
  },
  {
   "cell_type": "markdown",
   "metadata": {},
   "source": [
    "Gráfico de la exactitud sobre el conjunto de entrenamiento y el de validación para L2=0.1"
   ]
  },
  {
   "cell_type": "code",
   "execution_count": 25,
   "metadata": {},
   "outputs": [
    {
     "data": {
      "image/png": "[encoded data removed]",
      "text/plain": [
       "<Figure size 432x288 with 1 Axes>"
      ]
     },
     "metadata": {},
     "output_type": "display_data"
    }
   ],
   "source": [
    "plt.plot(range(Red_Neuronal3.epocas), Red_Neuronal3.eval_['Exactitud_entrenamiento'], \n",
    "         label='entrenamiento')\n",
    "plt.plot(range(Red_Neuronal3.epocas), Red_Neuronal3.eval_['Exactitud_validación'], \n",
    "         label='validación', linestyle='--')\n",
    "plt.title('L2 = 0.1')\n",
    "plt.ylabel('Exactitud')\n",
    "plt.xlabel('Epocas')\n",
    "plt.legend()\n",
    "plt.show()"
   ]
  },
  {
   "cell_type": "code",
   "execution_count": 27,
   "metadata": {},
   "outputs": [
    {
     "name": "stdout",
     "output_type": "stream",
     "text": [
      "Exactitud prueba: 95.04%\n"
     ]
    }
   ],
   "source": [
    "y_prueba_pred = Red_Neuronal3.predict(X_prueba)\n",
    "exactitud = (np.sum(y_prueba == y_prueba_pred)\n",
    "       .astype(np.float) / X_prueba.shape[0])\n",
    "\n",
    "print('Exactitud prueba: %.2f%%' % (exactitud * 100))"
   ]
  },
  {
   "cell_type": "code",
   "execution_count": null,
   "metadata": {
    "collapsed": true
   },
   "outputs": [],
   "source": []
  }
 ],
 "metadata": {
  "kernelspec": {
   "display_name": "Python 3",
   "language": "python",
   "name": "python3"
  },
  "language_info": {
   "codemirror_mode": {
    "name": "ipython",
    "version": 3
   },
   "file_extension": ".py",
   "mimetype": "text/x-python",
   "name": "python",
   "nbconvert_exporter": "python",
   "pygments_lexer": "ipython3",
   "version": "3.6.5"
  }
 },
 "nbformat": 4,
 "nbformat_minor": 2
}
