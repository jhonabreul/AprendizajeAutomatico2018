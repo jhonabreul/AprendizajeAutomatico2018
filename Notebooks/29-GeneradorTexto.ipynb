{
 "cells": [
  {
   "cell_type": "markdown",
   "metadata": {},
   "source": [
    "\n",
    "# Generador de Textos con PyTorch"
   ]
  },
  {
   "cell_type": "markdown",
   "metadata": {},
   "source": [
    "Vamos a utilizar el framework [PyTorch](https://pytorch.org/) para implementar la RNR.\n",
    "\n",
    "<img src=\"figuras/pytorch-logo.svg\" width=\"50%\">\n",
    "\n",
    "Es un paquete de Python diseñado para realizar cálculos numéricos haciendo uso de la programación de tensores. Además permite su ejecución en GPU para acelerar los cálculos.\n",
    "\n",
    "Normalmente PyTorch es usado tanto para sustituir numpy y procesar los cálculos en GPU como para la investigación y desarrollo en el campo del aprendizaje automático, centrado principalmente en el desarrollo de redes neuronales.\n",
    "\n",
    "PyTorch es una librería muy reciente y pese a ello dispone de una gran cantidad de manuales y [tutoriales](http://pytorch.org/tutorials/) donde encontrar ejemplos. Además de una comunidad que crece a pasos agigantados.\n",
    "\n",
    "PyTorch dispone una interfaz muy sencilla para la creación de redes neuronales pese a trabajar de forma directa con tensores sin la necesidad de una librería a un nivel superior como pueda ser Keras para Theano o Tensorflow.\n",
    "\n",
    "Al contrario que otros paquetes como Tensorflow, PyTorch trabaja con grafos dinámicos en vez de estáticos. Esto significa que en tiempo de ejecución se pueden ir modificando las funciones y el cálculo del gradiente variará con ellas. En cambio en Tensorflow debemos definir primero el grafo de computación y después utilizar la session para calcular los resultados de los tensores, esto dificulta la depuración de código y hace más tediosa su implementación.\n",
    "\n",
    "PyTorch dispone de soporte para su ejecución en tarjetas gráficas (GPU), utiliza internamente CUDA, una API que conecta la CPU con la GPU que ha sido desarrollado por [NVIDIA](http://www.nvidia.es/page/home.html).\n",
    "\n",
    "Para instalar PyTorch ejecutar el siguiente comando:\n",
    "\n",
    "`conda install pytorch torchvision -c pytorch`\n",
    "\n"
   ]
  },
  {
   "cell_type": "code",
   "execution_count": null,
   "metadata": {},
   "outputs": [],
   "source": [
    "Las Redes Neuronales Recurrentes se pueden utilizar para la generación de texto. En este ejemplo utilizaremos una RNR del tipo GRU para generar texto usando como conjunto de entrenamiento el Don Quijote de Miguel de Cervantes Saavedra.\n",
    "\n",
    "![Miguel de Cervantes Saavedra](figuras/cervantes.jpg)"
   ]
  },
  {
   "cell_type": "markdown",
   "metadata": {},
   "source": [
    "## Preparación de datos \n",
    "\n",
    "Si no tienes instalada la libreria unidecode ingresa el siguiente comando en Linux\n",
    "```\n",
    "conda install -c anaconda unidecode\n",
    "```"
   ]
  },
  {
   "cell_type": "code",
   "execution_count": 3,
   "metadata": {},
   "outputs": [
    {
     "name": "stdout",
     "output_type": "stream",
     "text": [
      "Tamaño del archivo en caracteres:  2071608\n"
     ]
    }
   ],
   "source": [
    "import unidecode\n",
    "import string\n",
    "import random\n",
    "import re\n",
    "\n",
    "#para la clase RNN\n",
    "import torch\n",
    "import torch.nn as nn\n",
    "from torch.autograd import Variable\n",
    "\n",
    "#Para medir tiempos de ejecucion y calculos \n",
    "import time, math\n",
    "\n",
    "todos_caracteres = string.printable\n",
    "n_caracteres = len(todos_caracteres)\n",
    "\n",
    "archivo = unidecode.unidecode(open('datos/don_quijote.txt',encoding=\"UTF-8\").read())\n",
    "tam_archivo = len(archivo)\n",
    "print('Tamaño del archivo en caracteres: ', tam_archivo)"
   ]
  },
  {
   "cell_type": "markdown",
   "metadata": {},
   "source": [
    "Ahora fragmentaremos el texto"
   ]
  },
  {
   "cell_type": "code",
   "execution_count": 4,
   "metadata": {},
   "outputs": [
    {
     "name": "stdout",
     "output_type": "stream",
     "text": [
      "d puede ver?\n",
      "\n",
      "Mirole entonces el oidor mas atentamente y conociole; y, abrazandole, dijo:\n",
      "\n",
      "-?Que ninerias son estas, senor don Luis, o que causas tan poderosas, que\n",
      "os hayan movido a venir desta manera, y en este traje, que dice tan mal con\n",
      "la calidad vuestra?\n",
      "\n",
      "Al mozo se le vinieron las lagrimas a los ojos, y no pudo responder\n",
      "palabra. El oidor dijo a los cuatro que se sosegasen, que todo se haria\n",
      "bien; y, tomando por la mano a don Luis, le aparto a una parte y le\n",
      "pregunto que venida habia sido aquella.\n",
      "\n",
      "Y, en tanto que le hacia esta y otras preguntas, oyeron grandes voces a la\n",
      "puerta de la venta, y era la causa dellas que dos huespedes que aquella\n",
      "noche habian alojado en ella, viendo a toda la gente ocupada en saber lo\n",
      "que los cuatro buscaban, habian intentado a irse sin pagar lo que debian;\n",
      "mas el ventero, que atendia mas a su negocio que a los ajenos, les asio al\n",
      "salir de la puerta y pidio su paga, y les afeo su mala intencion con tales\n",
      "palabras, que les movio a que le respondiesen \n"
     ]
    }
   ],
   "source": [
    "longitud_fragmento = 1000\n",
    "\n",
    "def fragmento_aleatorio():\n",
    "    i_ini = random.randint(0, tam_archivo - longitud_fragmento)\n",
    "    i_final = i_ini + longitud_fragmento + 1\n",
    "    return archivo[i_ini:i_final]\n",
    "\n",
    "print(fragmento_aleatorio())"
   ]
  },
  {
   "cell_type": "markdown",
   "metadata": {},
   "source": [
    "## Construyendo el modelo"
   ]
  },
  {
   "cell_type": "code",
   "execution_count": 5,
   "metadata": {},
   "outputs": [],
   "source": [
    "class RNN(nn.Module):\n",
    "    def __init__(self, tam_entrada, tam_oculto, tam_salida, num_capas=1):\n",
    "        super(RNN, self).__init__()\n",
    "        self.tam_entrada = tam_entrada\n",
    "        self.tam_oculto = tam_oculto\n",
    "        self.tam_salida = tam_salida\n",
    "        self.num_capas = num_capas\n",
    "        \n",
    "        self.encoder = nn.Embedding(tam_entrada, tam_oculto)\n",
    "        self.gru = nn.GRU(tam_oculto, tam_oculto, num_capas)\n",
    "        self.decoder = nn.Linear(tam_oculto, tam_salida)\n",
    "    \n",
    "    def forward(self, entrada, oculta):\n",
    "        entrada = self.encoder(entrada.view(1, -1))\n",
    "        salida, oculta = self.gru(entrada.view(1, 1, -1), oculta)\n",
    "        salida = self.decoder(salida.view(1, -1))\n",
    "        return salida, oculta\n",
    "\n",
    "    def init_hidden(self):\n",
    "        return Variable(torch.zeros(self.num_capas, 1, self.tam_oculto))"
   ]
  },
  {
   "cell_type": "markdown",
   "metadata": {},
   "source": [
    "## Entradas y objetivos"
   ]
  },
  {
   "cell_type": "code",
   "execution_count": 6,
   "metadata": {},
   "outputs": [
    {
     "name": "stdout",
     "output_type": "stream",
     "text": [
      "Variable containing:\n",
      " 10\n",
      " 11\n",
      " 12\n",
      " 39\n",
      " 40\n",
      " 41\n",
      "[torch.LongTensor of size 6]\n",
      "\n"
     ]
    }
   ],
   "source": [
    "# Convierta la cadena en una lista larga\n",
    "def caracter_tensor(string):\n",
    "    tensor = torch.zeros(len(string)).long()\n",
    "    for c in range(len(string)):\n",
    "        tensor[c] = todos_caracteres.index(string[c])\n",
    "    return Variable(tensor)\n",
    "\n",
    "print(caracter_tensor('abcDEF'))"
   ]
  },
  {
   "cell_type": "code",
   "execution_count": 7,
   "metadata": {},
   "outputs": [],
   "source": [
    "def conjunto_entrenamiento_aleatorio():    \n",
    "    pedazo = fragmento_aleatorio()\n",
    "    entrada = caracter_tensor(pedazo[:-1])\n",
    "    objetivo = caracter_tensor(pedazo[1:])\n",
    "    return entrada, objetivo"
   ]
  },
  {
   "cell_type": "markdown",
   "metadata": {},
   "source": [
    "## Evaluando\n",
    "\n",
    "Para evaluar la red la alimentaremos con un carácter a la vez, usaremos los resultados de la red como una distribución de probabilidad para el siguiente carácter y repetiremos este proceso."
   ]
  },
  {
   "cell_type": "code",
   "execution_count": 8,
   "metadata": {},
   "outputs": [],
   "source": [
    "def evaluar(prime_str='A', predict_len=100, temperature=0.8):\n",
    "    oculta = decoder.init_hidden()\n",
    "    entrada_principal = caracter_tensor(prime_str)\n",
    "    prediccion = prime_str\n",
    "\n",
    "    # Use priming string to \"build up\" hidden state\n",
    "    for p in range(len(prime_str) - 1):\n",
    "        _, oculta = decoder(entrada_principal[p], oculta)\n",
    "    entrada = entrada_principal[-1]\n",
    "    \n",
    "    for p in range(predict_len):\n",
    "        salida, oculta = decoder(entrada, oculta)\n",
    "        \n",
    "        # Muestra de la red como una distribución multinomial\n",
    "        distribucion_salida = salida.data.view(-1).div(temperature).exp()\n",
    "        top_i = torch.multinomial(distribucion_salida, 1)[0]\n",
    "        \n",
    "        # Add predicted character to string and use as next input\n",
    "        caracter_predicho = todos_caracteres[top_i]\n",
    "        prediccion += caracter_predicho\n",
    "        entrada = caracter_tensor(caracter_predicho)\n",
    "\n",
    "    return prediccion"
   ]
  },
  {
   "cell_type": "markdown",
   "metadata": {},
   "source": [
    "## Entrenamiento"
   ]
  },
  {
   "cell_type": "code",
   "execution_count": 9,
   "metadata": {},
   "outputs": [],
   "source": [
    "def tiempo(since):\n",
    "    s = time.time() - since\n",
    "    m = math.floor(s / 60)\n",
    "    s -= m * 60\n",
    "    return '%dm %ds' % (m, s)"
   ]
  },
  {
   "cell_type": "code",
   "execution_count": 10,
   "metadata": {},
   "outputs": [],
   "source": [
    "def entrenamiento(entrada, objetivo):\n",
    "    oculta = decoder.init_hidden()\n",
    "    decoder.zero_grad()\n",
    "    perdida = 0\n",
    "\n",
    "    for c in range(longitud_fragmento):\n",
    "        salida, oculta = decoder(entrada[c], oculta)\n",
    "        perdida += criterion(salida, objetivo[c])\n",
    "\n",
    "    perdida.backward()\n",
    "    decoder_optimizer.step()\n",
    "\n",
    "    return perdida.data[0] / longitud_fragmento"
   ]
  },
  {
   "cell_type": "markdown",
   "metadata": {},
   "source": [
    "Definimos los parámetros de entrenamiento, instanciamos el modelo y comenzamos a entrenar:"
   ]
  },
  {
   "cell_type": "code",
   "execution_count": 11,
   "metadata": {},
   "outputs": [
    {
     "name": "stdout",
     "output_type": "stream",
     "text": [
      "[2m 49s (100 2%) 2.1408]\n",
      "Jue cuimebanra hi\n",
      "ques ula vano y tua arel cober que rella, que yres rado hiera como ananio la y, esp \n",
      "\n",
      "[5m 39s (200 5%) 1.9594]\n",
      "Juescos a a quulo de una bues las de por lo podircia quien mas de estes de viante lerres reseyos sin  \n",
      "\n",
      "[8m 30s (300 7%) 1.9847]\n",
      "Jos dieso de senol rerbres conores, que dunas, y duiecha, pero almeso, decio a Han despero su me ya g \n",
      "\n",
      "[11m 23s (400 10%) 1.7691]\n",
      "Jo su suciando se dole contos la desencella atido y, a calibando de mera habia cielmara de el con la  \n",
      "\n",
      "[14m 16s (500 12%) 1.7362]\n",
      "Ja-; por lo esposo, y yeste y tos de pusto y mo resparo que a ampo\n",
      "con adabes de no la se haber la lo \n",
      "\n",
      "[17m 11s (600 15%) 1.7628]\n",
      "Juestros acomenia, ni feguacivinio la hate pritajos si de la mas pedia mano, y la mandante grales de  \n",
      "\n",
      "[20m 5s (700 17%) 1.6553]\n",
      "Juesa, por en el vida de hoimbre destas tojos al mibien deseres y las leco que descubrido de lo el bu \n",
      "\n",
      "[23m 0s (800 20%) 1.6417]\n",
      "JAso el higaba, que, por\n",
      "es. Dillo canto de haber por de los quita senor a con\n",
      "presunos, y,\n",
      "y otro -d \n",
      "\n",
      "[25m 59s (900 22%) 1.6364]\n",
      "Juesta de dice y progero, por salos y de lecros comil de su del hacias a Robrecia por estas\n",
      "de comeng \n",
      "\n",
      "[28m 55s (1000 25%) 1.8465]\n",
      "Jo le le los las pesito; que en Don Quijoterlo de que posible la ser tiene de tante se escudo manera  \n",
      "\n",
      "[31m 49s (1100 27%) 1.6014]\n",
      "Jesia, que no pueda,\n",
      "por ella sogra el castisia a la los mandodarias y monido no se lodo y fue el mig \n",
      "\n",
      "[34m 43s (1200 30%) 1.5343]\n",
      "Juestra yeremorian y estomenta; ni aunque segro, y que le los puesto, si tu traba de la obia de su de \n",
      "\n",
      "[37m 39s (1300 32%) 1.7252]\n",
      "Jense consiblieza los del aparte; y a las muchas de al mabata en\n",
      "la maposimada de la sus otro callar  \n",
      "\n",
      "[40m 33s (1400 35%) 1.5187]\n",
      "Jeroso del Mancha con les acebre,\n",
      "moro andandole razon se una cualven entre llecho del borilla de vol \n",
      "\n",
      "[43m 34s (1500 37%) 1.5553]\n",
      "Juatra brazanas la contentos, a que dar se horrer de la licos, que yo\n",
      "ordena, los parecia la mista qu \n",
      "\n",
      "[46m 34s (1600 40%) 1.5088]\n",
      "Jarse, sin hecho de hablo de lugar en el un empenante, o por muchos, el\n",
      "caballeros espantos pasaba di \n",
      "\n",
      "[49m 43s (1700 42%) 1.6256]\n",
      "Jeso-d. Vote mentiro mejores en tantas de plardole, y la dijo:\n",
      "\n",
      "-Micion-, dijo el dana.\n",
      "\n",
      "-Menered la  \n",
      "\n",
      "[52m 47s (1800 45%) 1.5163]\n",
      "Jir a con vino el menecidas,\n",
      "pues seyo, cuya de tenio que se no suele la impregojos, yo que por la re \n",
      "\n",
      "[55m 55s (1900 47%) 1.4745]\n",
      "Jeroso vio de Sancho. El panas en peso andante a Secho de olga no se estato que habia podria la agran \n",
      "\n",
      "[58m 57s (2000 50%) 1.4055]\n",
      "Jestaba sal espero de la subia por contra con mil ni pueblo dijo volvio a debir alguna cela de las bi \n",
      "\n",
      "[62m 14s (2100 52%) 1.4051]\n",
      "Jeza, y a el nuerza dese mas; y tanta maliciesed entre las manana una su seuer de la merced otra se p \n",
      "\n",
      "[65m 21s (2200 55%) 1.6767]\n",
      "Jo deblitos de la liendon en la isentrare, y no deseaertado y caber respondio acomo desviabazon desco \n",
      "\n",
      "[68m 24s (2300 57%) 1.6447]\n",
      "Jertad y\n",
      "tal\n",
      "hech y\n",
      "trabajo, que argunto entraviesa, desta encubrira hizo a vaba, en miera en los ard \n",
      "\n",
      "[71m 18s (2400 60%) 1.5265]\n",
      "Jesce con\n",
      "el espano\n",
      "en se lo que se tres sus alcanzar una cual le parte es los mejorlo de lo que el v \n",
      "\n",
      "[74m 14s (2500 62%) 1.7690]\n",
      "Jidad a el cautisa de lo que tenga de esto y\n",
      "de todo a hombre manos encamina\n",
      "que\n",
      "eran de nuevo escude \n",
      "\n",
      "[77m 8s (2600 65%) 1.4053]\n",
      "Jes y nos llevantares se mas aqui y mas vales su aqui.\n",
      "\n",
      "-Undio don Quijote-,\n",
      "   un parecer eso, ?que  \n",
      "\n",
      "[80m 1s (2700 67%) 1.5022]\n",
      "Jese aquel repartidas esperar que hacer no hayendole y estalla brazo este\n",
      "de vuestra merced se puerta \n",
      "\n",
      "[82m 56s (2800 70%) 1.4946]\n",
      "Jere de Zororrancia que ha de venga de\n",
      "encontar que el debian o el nofecer tocarle crieno\n",
      "y encerrarm \n",
      "\n",
      "[85m 46s (2900 72%) 1.4881]\n",
      "Juesa que, habia es tres que no, pergon me le hadas pasaban en su hijados\n",
      "eres mientad a mi los escur \n",
      "\n",
      "[88m 35s (3000 75%) 1.4267]\n",
      "Juelas el montado su galeroso a Dulcinea estan\n",
      "penas diente parte con la de venia poco contino, y\n",
      "de  \n",
      "\n",
      "[91m 24s (3100 77%) 1.4615]\n",
      "Jia, tan senor a la bachillare la macho que a profeida a tantador mi habia de mi alcanza, vio un el a \n",
      "\n",
      "[94m 18s (3200 80%) 1.5484]\n",
      "Jes toda a bazan, preguntos debia, sin padre: mira, comenzo a otra conceran de un paseza, trabajo, en \n",
      "\n",
      "[97m 15s (3300 82%) 1.4329]\n",
      "Jor un cien vio va por senora que caballero -respondio Sancho-, que\n",
      "si le duico y menos en la caballe \n",
      "\n",
      "[100m 39s (3400 85%) 1.5053]\n",
      "Jo:\n",
      "\n",
      "-Pues, se que a cual es habia respondernadime le hame el caballero mozo yo la toda cama impribaj \n",
      "\n",
      "[103m 42s (3500 87%) 1.5256]\n",
      "J pueden que fue al arate realeas\n",
      "sino menos seadores grandes, y que libro en esta ayeraba de aposent \n",
      "\n",
      "[106m 37s (3600 90%) 1.4282]\n",
      "Jso no\n",
      "entre la antil, que se se mas de cual no dijo que esta intaciones de\n",
      "cual mas de escuderos mor \n",
      "\n",
      "[109m 28s (3700 92%) 1.5440]\n",
      "Jvera parece a Zaarde castillo, de la\n",
      "disma dejaria\n",
      "estaba de uno a los de mi de mala de la tla falta \n",
      "\n",
      "[112m 17s (3800 95%) 1.3688]\n",
      "Jadas,\n",
      "  que sino de aquellos, que en esta entendo con dos\n",
      "estimarle de ser de la rigoronades de ojo  \n",
      "\n",
      "[115m 8s (3900 97%) 1.3012]\n",
      "JU?\n",
      ">>Si para el cura;\n",
      "a la hiza, y ni no te la rodia Sancho, pero por su sola ansi el cielo como te  \n",
      "\n",
      "[118m 0s (4000 100%) 1.6136]\n",
      "Jene y de grande, dejando que es conditias y resquesa de las cardas de unas sernados, que estado de s \n",
      "\n"
     ]
    }
   ],
   "source": [
    "max_epoch = 4000 #numero de epoch para el entrenamiento\n",
    "impresion = 100\n",
    "graficar = 10\n",
    "tam_oculto = 100\n",
    "num_capas = 2\n",
    "epsilon = 0.005\n",
    "\n",
    "decoder = RNN(n_caracteres, tam_oculto, n_caracteres, num_capas)\n",
    "decoder_optimizer = torch.optim.Adam(decoder.parameters(), lr=epsilon)\n",
    "criterion = nn.CrossEntropyLoss()\n",
    "\n",
    "comienzo = time.time()\n",
    "historial_perdidas = []\n",
    "prmedio_perdida = 0\n",
    "\n",
    "for epoch in range(1, max_epoch + 1):\n",
    "    perdida = entrenamiento(*conjunto_entrenamiento_aleatorio())       \n",
    "    prmedio_perdida += perdida\n",
    "\n",
    "    if epoch % impresion == 0:\n",
    "        print('[%s (%d %d%%) %.4f]' % (tiempo(comienzo), epoch, epoch / max_epoch * 100, perdida))\n",
    "        print(evaluar('J', 100), '\\n')\n",
    "\n",
    "    if epoch % graficar == 0:\n",
    "        historial_perdidas.append(prmedio_perdida / graficar)\n",
    "        prmedio_perdida = 0"
   ]
  },
  {
   "cell_type": "markdown",
   "metadata": {},
   "source": [
    "## Graficación de los errores"
   ]
  },
  {
   "cell_type": "code",
   "execution_count": 12,
   "metadata": {},
   "outputs": [
    {
     "data": {
      "text/plain": [
       "[<matplotlib.lines.Line2D at 0x1276d16a0>]"
      ]
     },
     "execution_count": 12,
     "metadata": {},
     "output_type": "execute_result"
    },
    {
     "data": {
      "image/png": "[encoded data removed]",
      "text/plain": [
       "<Figure size 432x288 with 1 Axes>"
      ]
     },
     "metadata": {},
     "output_type": "display_data"
    }
   ],
   "source": [
    "import matplotlib.pyplot as plt\n",
    "import matplotlib.ticker as ticker\n",
    "%matplotlib inline\n",
    "\n",
    "plt.figure()\n",
    "plt.plot(historial_perdidas)"
   ]
  },
  {
   "cell_type": "markdown",
   "metadata": {},
   "source": [
    "## Resultados con diferentes temperaturas \n",
    "\n",
    "En la función de evaluación anterior, cada vez que se realiza una predicción, las salidas se dividen por el argumento \"temperatura\" pasado. Usar un número más alto hace que todas las acciones sean más equitativas y, por lo tanto, nos brinda salidas \"más aleatorias\".\n",
    "\n",
    "Usar un valor más bajo (menos de 1) hace que las probabilidades altas contribuyan más. A medida que aumentamos la temperatura hacia cero, estamos eligiendo solo las salidas más probables."
   ]
  },
  {
   "cell_type": "code",
   "execution_count": 13,
   "metadata": {},
   "outputs": [
    {
     "name": "stdout",
     "output_type": "stream",
     "text": [
      "Caballero\n",
      "es padre, acierno.\n",
      "\n",
      "Y, debada en\n",
      "regocinia, y para de adelantes, que te los dico y\n",
      "dijo don Fernando no me sera aquel comparon de aquella, peso de la de unas el cual de virtud, que estaba salido de don Quijote, pues, bico, y que no te desosas primerle se\n",
      "purto. Su el letrado que de los primerosos que todos apartastros de\n",
      "su remedia a los mas fuerza de la suerte de lo que te corrales mas desta parte muchas otras respondio:\n",
      "\n",
      "         \n",
      "\n",
      "\n",
      "Capalaba, que aquel primera, sin grrado a su largo, sin\n",
      "espada: que se es de orrea que quiso se han de las presentes que caballero y bese\n",
      "cuales dar a\n",
      "le tiempo aventura.\n",
      "\n",
      "\n",
      "\n",
      "\n",
      "\n",
      "\n",
      "\n",
      "\n",
      "\n",
      "\n",
      "\n",
      "Capitulo\n",
      "es esto se saber de real y ser cabrero dorperon un tremer en don Quijote Coro, y una puerta trasfu era Loto y estos razon con esta de lo que no haciendera y creer un das como decir todos los\n",
      "desdetas espacuia, porque yo por aqui pensamiento que tomo te pasadas de una que\n",
      "desta bien esta acerrara para\n",
      "principito a su sabian a la cuerdo, porque nunca la mandaba, que se\n"
     ]
    }
   ],
   "source": [
    "print(evaluar('Caballero', 1000, temperature=0.8))"
   ]
  },
  {
   "cell_type": "code",
   "execution_count": 14,
   "metadata": {},
   "outputs": [
    {
     "name": "stdout",
     "output_type": "stream",
     "text": [
      "Togoso de la casa de la de la mano de la de los desde alguna de los desmas de los despues de la mano de la casa de su arralado, que te despues de la caballero de la mano de la de aquel de la caballero de la de la caballero y de la mano de la caballero, que es de la verdad de los despues de aquella de su para de los desenvaas de la mano de la de la caballero de la caballero de la caballero de los despues de la mano de la caballero de su para de la de la de la de su para de la de la caballero de la de su caballero de los destas de sus despecho de la de la manos de su senora de la de la caballero de la manos de la de la caballero de la de la parece de los destas destas destas de sus pasados de la mano de la caballero de la casa de su amor de la de la desencantado de la caballero de los destas de las caballeros de los despues de los destas de su senora de la pierdo de su amor de la caballero de los dos de la caballero de su arromente de la caballero de los destas destas destas manos de la mano d\n"
     ]
    }
   ],
   "source": [
    "print(evaluar('Togoso', 1000, temperature=0.2))"
   ]
  },
  {
   "cell_type": "code",
   "execution_count": 15,
   "metadata": {},
   "outputs": [
    {
     "name": "stdout",
     "output_type": "stream",
     "text": [
      "Sancho sino de nuestra de los brazos que el traza de las dias que la discresa y a tal y a la habia se desta verdad de la bajas servir de los destas deste pierdole de la companero, y a sus arrazon tenia de aquel respondio de los andantes, que de arrica de para de no me tengo de la dia de dos desasia y decir y saber con sus ardenados, y asi tanto, que ahora de su respondio del caminos estas caminar sin mas de descontiga a esta ventura, que se estandole de aquella principales por don Fernandole de los desenvase de aquello de priesa de panero de un mananas de los cosas que del cual, que a don Quijote, cuando le deste despues puntas, porque a la cuales se esas de voluntad de aquella saber en manera\n",
      "consentado que las dardas y la sabir para de la de manera se aqui esta orden de aquel senora se determir de padre y trabajas que le dije que se puede la manos de la caballero, sin dandole de la venta de la que alguna le dieron de todas caballeros de la alguna sana trazo y le dijo que es de los respondi\n"
     ]
    }
   ],
   "source": [
    "print(evaluar('Sancho', 1000, temperature=.5))"
   ]
  },
  {
   "cell_type": "code",
   "execution_count": null,
   "metadata": {},
   "outputs": [],
   "source": []
  }
 ],
 "metadata": {
  "celltoolbar": "Raw Cell Format",
  "kernelspec": {
   "display_name": "Python 3",
   "language": "python",
   "name": "python3"
  },
  "language_info": {
   "codemirror_mode": {
    "name": "ipython",
    "version": 3
   },
   "file_extension": ".py",
   "mimetype": "text/x-python",
   "name": "python",
   "nbconvert_exporter": "python",
   "pygments_lexer": "ipython3",
   "version": "3.6.5"
  }
 },
 "nbformat": 4,
 "nbformat_minor": 2
}
