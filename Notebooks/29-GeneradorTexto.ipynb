{
 "cells": [
  {
   "cell_type": "markdown",
   "metadata": {},
   "source": [
    "\n",
    "# Generador de textos"
   ]
  },
  {
   "cell_type": "markdown",
   "metadata": {},
   "source": [
    "## Definición\n",
    "\n",
    "Para la realizacion de esta libreta fue elaborado a partir de esta otra [libreta](https://github.com/spro/practical-pytorch/blob/master/char-rnn-generation/char-rnn-generation.ipynb) la cual se encuentra en el idioma ingles, utilizaremos las bases para nuestro proyecto haciendo algunas modificaciónes con nuestro dataset de [municipios de México](datos/BIBLIA_COMPLETA.txt).\n",
    "Nuestro proposito es generar parrafos los cuales se generan caracter por caracter a partir deldocumento de la biblia utilizando el framework de redes profundas **PyTorch**.\n",
    "\n",
    "\n"
   ]
  },
  {
   "cell_type": "markdown",
   "metadata": {},
   "source": [
    "## Preparación de datos \n",
    "\n",
    "Si no tienes instalada la libreria unidecode ingresa el siguiente comando en Linux\n",
    "```\n",
    "conda install -c anaconda unidecode\n",
    "```"
   ]
  },
  {
   "cell_type": "code",
   "execution_count": 1,
   "metadata": {},
   "outputs": [
    {
     "ename": "FileNotFoundError",
     "evalue": "[Errno 2] No such file or directory: 'datos/DonQuijote.txt'",
     "output_type": "error",
     "traceback": [
      "\u001b[0;31m---------------------------------------------------------------------------\u001b[0m",
      "\u001b[0;31mFileNotFoundError\u001b[0m                         Traceback (most recent call last)",
      "\u001b[0;32m<ipython-input-1-321900dcb897>\u001b[0m in \u001b[0;36m<module>\u001b[0;34m()\u001b[0m\n\u001b[1;32m     15\u001b[0m \u001b[0mn_caracteres\u001b[0m \u001b[0;34m=\u001b[0m \u001b[0mlen\u001b[0m\u001b[0;34m(\u001b[0m\u001b[0mtodos_caracteres\u001b[0m\u001b[0;34m)\u001b[0m\u001b[0;34m\u001b[0m\u001b[0m\n\u001b[1;32m     16\u001b[0m \u001b[0;34m\u001b[0m\u001b[0m\n\u001b[0;32m---> 17\u001b[0;31m \u001b[0marchivo\u001b[0m \u001b[0;34m=\u001b[0m \u001b[0munidecode\u001b[0m\u001b[0;34m.\u001b[0m\u001b[0munidecode\u001b[0m\u001b[0;34m(\u001b[0m\u001b[0mopen\u001b[0m\u001b[0;34m(\u001b[0m\u001b[0;34m'datos/DonQuijote.txt'\u001b[0m\u001b[0;34m,\u001b[0m\u001b[0mencoding\u001b[0m\u001b[0;34m=\u001b[0m\u001b[0;34m\"UTF-8\"\u001b[0m\u001b[0;34m)\u001b[0m\u001b[0;34m.\u001b[0m\u001b[0mread\u001b[0m\u001b[0;34m(\u001b[0m\u001b[0;34m)\u001b[0m\u001b[0;34m)\u001b[0m\u001b[0;34m\u001b[0m\u001b[0m\n\u001b[0m\u001b[1;32m     18\u001b[0m \u001b[0mtam_archivo\u001b[0m \u001b[0;34m=\u001b[0m \u001b[0mlen\u001b[0m\u001b[0;34m(\u001b[0m\u001b[0marchivo\u001b[0m\u001b[0;34m)\u001b[0m\u001b[0;34m\u001b[0m\u001b[0m\n\u001b[1;32m     19\u001b[0m \u001b[0mprint\u001b[0m\u001b[0;34m(\u001b[0m\u001b[0;34m'Tamaño del archivo en caracteres: '\u001b[0m\u001b[0;34m,\u001b[0m \u001b[0mtam_archivo\u001b[0m\u001b[0;34m)\u001b[0m\u001b[0;34m\u001b[0m\u001b[0m\n",
      "\u001b[0;31mFileNotFoundError\u001b[0m: [Errno 2] No such file or directory: 'datos/DonQuijote.txt'"
     ]
    }
   ],
   "source": [
    "import unidecode\n",
    "import string\n",
    "import random\n",
    "import re\n",
    "\n",
    "#para la clase RNN\n",
    "import torch\n",
    "import torch.nn as nn\n",
    "from torch.autograd import Variable\n",
    "\n",
    "#Para medir tiempos de ejecucion y calculos \n",
    "import time, math\n",
    "\n",
    "todos_caracteres = string.printable\n",
    "n_caracteres = len(todos_caracteres)\n",
    "\n",
    "archivo = unidecode.unidecode(open('datos/DonQuijote.txt',encoding=\"UTF-8\").read())\n",
    "tam_archivo = len(archivo)\n",
    "print('Tamaño del archivo en caracteres: ', tam_archivo)"
   ]
  },
  {
   "cell_type": "markdown",
   "metadata": {},
   "source": [
    "Ahora fragmentaremos el texto"
   ]
  },
  {
   "cell_type": "code",
   "execution_count": 2,
   "metadata": {},
   "outputs": [
    {
     "name": "stdout",
     "output_type": "stream",
     "text": [
      "e\n",
      "que te vuelves al sicut erat; habla a lo llano, a lo liso, a lo no\n",
      "intricado, como muchas veces te he dicho, y veras como te vale un pan por\n",
      "ciento.\n",
      "\n",
      "-No se que mala ventura es esta mia -respondio Sancho-, que no se decir\n",
      "razon sin refran, ni refran que no me parezca razon; pero yo me enmendare,\n",
      "si pudiere.\n",
      "\n",
      "Y, con esto, ceso por entonces su platica.\n",
      "\n",
      "\n",
      "\n",
      "\n",
      "\n",
      "Capitulo LXXII. De como don Quijote y Sancho llegaron a su aldea\n",
      "\n",
      "\n",
      "Todo aquel dia, esperando la noche, estuvieron en aquel lugar y meson don\n",
      "Quijote y Sancho: el uno, para acabar en la campana rasa la tanda de su\n",
      "diciplina, y el otro, para ver el fin della, en el cual consistia el de su\n",
      "deseo. Llego en esto al meson un caminante a caballo, con tres o cuatro\n",
      "criados, uno de los cuales dijo al que el senor dellos parecia:\n",
      "\n",
      "-Aqui puede vuestra merced, senor don Alvaro Tarfe, pasar hoy la siesta: la\n",
      "posada parece limpia y fresca.\n",
      "\n",
      "Oyendo esto don Quijote, le dijo a Sancho:\n",
      "\n",
      "-Mira, Sancho: cuando yo hojee aquel libro de la segunda parte d\n"
     ]
    }
   ],
   "source": [
    "longitud_fragmento = 1000\n",
    "\n",
    "def fragmento_aleatorio():\n",
    "    i_ini = random.randint(0, tam_archivo - longitud_fragmento)\n",
    "    i_final = i_ini + longitud_fragmento + 1\n",
    "    return archivo[i_ini:i_final]\n",
    "\n",
    "print(fragmento_aleatorio())"
   ]
  },
  {
   "cell_type": "markdown",
   "metadata": {},
   "source": [
    "## Construyendo el modelo"
   ]
  },
  {
   "cell_type": "code",
   "execution_count": 3,
   "metadata": {},
   "outputs": [],
   "source": [
    "class RNN(nn.Module):\n",
    "    def __init__(self, tam_entrada, tam_oculto, tam_salida, num_capas=1):\n",
    "        super(RNN, self).__init__()\n",
    "        self.tam_entrada = tam_entrada\n",
    "        self.tam_oculto = tam_oculto\n",
    "        self.tam_salida = tam_salida\n",
    "        self.num_capas = num_capas\n",
    "        \n",
    "        self.encoder = nn.Embedding(tam_entrada, tam_oculto)\n",
    "        self.gru = nn.GRU(tam_oculto, tam_oculto, num_capas)\n",
    "        self.decoder = nn.Linear(tam_oculto, tam_salida)\n",
    "    \n",
    "    def forward(self, entrada, oculta):\n",
    "        entrada = self.encoder(entrada.view(1, -1))\n",
    "        salida, oculta = self.gru(entrada.view(1, 1, -1), oculta)\n",
    "        salida = self.decoder(salida.view(1, -1))\n",
    "        return salida, oculta\n",
    "\n",
    "    def init_hidden(self):\n",
    "        return Variable(torch.zeros(self.num_capas, 1, self.tam_oculto))"
   ]
  },
  {
   "cell_type": "markdown",
   "metadata": {},
   "source": [
    "## Entradas y objetivos"
   ]
  },
  {
   "cell_type": "code",
   "execution_count": 4,
   "metadata": {},
   "outputs": [
    {
     "name": "stdout",
     "output_type": "stream",
     "text": [
      "Variable containing:\n",
      " 10\n",
      " 11\n",
      " 12\n",
      " 39\n",
      " 40\n",
      " 41\n",
      "[torch.LongTensor of size 6]\n",
      "\n"
     ]
    }
   ],
   "source": [
    "# Convierta la cadena en una lista larga\n",
    "def caracter_tensor(string):\n",
    "    tensor = torch.zeros(len(string)).long()\n",
    "    for c in range(len(string)):\n",
    "        tensor[c] = todos_caracteres.index(string[c])\n",
    "    return Variable(tensor)\n",
    "\n",
    "print(caracter_tensor('abcDEF'))"
   ]
  },
  {
   "cell_type": "code",
   "execution_count": 5,
   "metadata": {},
   "outputs": [],
   "source": [
    "def conjunto_entrenamiento_aleatorio():    \n",
    "    pedazo = fragmento_aleatorio()\n",
    "    entrada = caracter_tensor(pedazo[:-1])\n",
    "    objetivo = caracter_tensor(pedazo[1:])\n",
    "    return entrada, objetivo"
   ]
  },
  {
   "cell_type": "markdown",
   "metadata": {},
   "source": [
    "## Evaluando\n",
    "\n",
    "Para evaluar la red la alimentaremos con un carácter a la vez, usaremos los resultados de la red como una distribución de probabilidad para el siguiente carácter y repetiremos este proceso."
   ]
  },
  {
   "cell_type": "code",
   "execution_count": 6,
   "metadata": {},
   "outputs": [],
   "source": [
    "def evaluar(prime_str='A', predict_len=100, temperature=0.8):\n",
    "    oculta = decoder.init_hidden()\n",
    "    entrada_principal = caracter_tensor(prime_str)\n",
    "    prediccion = prime_str\n",
    "\n",
    "    # Use priming string to \"build up\" hidden state\n",
    "    for p in range(len(prime_str) - 1):\n",
    "        _, oculta = decoder(entrada_principal[p], oculta)\n",
    "    entrada = entrada_principal[-1]\n",
    "    \n",
    "    for p in range(predict_len):\n",
    "        salida, oculta = decoder(entrada, oculta)\n",
    "        \n",
    "        # Muestra de la red como una distribución multinomial\n",
    "        distribucion_salida = salida.data.view(-1).div(temperature).exp()\n",
    "        top_i = torch.multinomial(distribucion_salida, 1)[0]\n",
    "        \n",
    "        # Add predicted character to string and use as next input\n",
    "        caracter_predicho = todos_caracteres[top_i]\n",
    "        prediccion += caracter_predicho\n",
    "        entrada = caracter_tensor(caracter_predicho)\n",
    "\n",
    "    return prediccion"
   ]
  },
  {
   "cell_type": "markdown",
   "metadata": {},
   "source": [
    "## Entrenamiento"
   ]
  },
  {
   "cell_type": "code",
   "execution_count": 7,
   "metadata": {},
   "outputs": [],
   "source": [
    "def tiempo(since):\n",
    "    s = time.time() - since\n",
    "    m = math.floor(s / 60)\n",
    "    s -= m * 60\n",
    "    return '%dm %ds' % (m, s)"
   ]
  },
  {
   "cell_type": "code",
   "execution_count": 8,
   "metadata": {},
   "outputs": [],
   "source": [
    "def entrenamiento(entrada, objetivo):\n",
    "    oculta = decoder.init_hidden()\n",
    "    decoder.zero_grad()\n",
    "    perdida = 0\n",
    "\n",
    "    for c in range(longitud_fragmento):\n",
    "        salida, oculta = decoder(entrada[c], oculta)\n",
    "        perdida += criterion(salida, objetivo[c])\n",
    "\n",
    "    perdida.backward()\n",
    "    decoder_optimizer.step()\n",
    "\n",
    "    return perdida.data[0] / longitud_fragmento"
   ]
  },
  {
   "cell_type": "markdown",
   "metadata": {},
   "source": [
    "Definimos los parámetros de entrenamiento, instanciamos el modelo y comenzamos a entrenar:"
   ]
  },
  {
   "cell_type": "code",
   "execution_count": 10,
   "metadata": {},
   "outputs": [
    {
     "name": "stdout",
     "output_type": "stream",
     "text": [
      "[2m 47s (100 2%) 2.1040]\n",
      "J. a puon\n",
      "seros cido, no, que de cen que ma hha endie, de que que no la, de que pasoo; tas acono abas \n",
      "\n",
      "[5m 41s (200 5%) 1.9375]\n",
      "Jecho el cabonbrando don Quijote de nanaciara senor que ala.\n",
      "-ser llanda y de pidar desaque sotuenda  \n",
      "\n",
      "[8m 35s (300 7%) 1.8600]\n",
      "Ja todo por en hiciando notre en en no que leciente el la me lacia los Quijote el tendien de los caba \n",
      "\n",
      "[11m 29s (400 10%) 1.6649]\n",
      "JKpora como puestara se lo pordes la mejoraron; y con tampare esterma, con receriese que esto la lleg \n",
      "\n",
      "[14m 24s (500 12%) 1.7705]\n",
      "J|$, y hablas que parte peredendo el sienta del que tubiendo ander le caste de cuasa de acazon el qui \n",
      "\n",
      "[17m 18s (600 15%) 1.6333]\n",
      "Jueno que lo se de\n",
      "vero prando con tiene con pormino lugranda los con encamilon, y con fimos la ser q \n",
      "\n",
      "[20m 10s (700 17%) 1.5713]\n",
      "Jar a puntado.\n",
      "\n",
      "-Agra male quecho de la abulesto seguian que nenorudora, y, y entre menor de han su n \n",
      "\n",
      "[23m 2s (800 20%) 1.5649]\n",
      "J, que hubos La verdad de quiere satra. En ala diente, mas dreseamado del arruego el ventitoro porque \n",
      "\n",
      "[25m 54s (900 22%) 1.6793]\n",
      "Juicida manado a su ciestos respondos alguna de\n",
      "caballaron a dama letra partos y fin avio las muy cas \n",
      "\n",
      "[28m 46s (1000 25%) 1.5475]\n",
      "J_ances asi ha de si le cartan no el soyen de don Quijote, no apecia y manto, hallado viene que de ir \n",
      "\n",
      "[31m 38s (1100 27%) 1.6302]\n",
      "Juenclucotos,\n",
      "y que le veniento al ciabrase de la palabros supistar con el dresfue. Pardar ni me verl \n",
      "\n",
      "[34m 29s (1200 30%) 1.5476]\n",
      "Jban, sento toya para venian a entendio senorablara\n",
      "todo es la maran sin tarse ni que yo buen habia u \n",
      "\n",
      "[37m 21s (1300 32%) 1.5903]\n",
      "Judo de lo menestere; y, cosa amido de pargante despuestro, escrito en\n",
      "estaba de los suyes que estaba \n",
      "\n",
      "[40m 13s (1400 35%) 1.3558]\n",
      "J doncella- a habianosen quedo esta y don Quijote a\n",
      "a castillos\n",
      "que ve hacer con cuidado -respondio S \n",
      "\n",
      "[43m 6s (1500 37%) 1.5937]\n",
      "Jadas bien al no le los mudidas a que se tal no de don Quijote, y ni arromponedo ya mas dias de lo qu \n",
      "\n",
      "[46m 0s (1600 40%) 1.5219]\n",
      "Jodo de todos entreminio con divermente del duque yo\n",
      "plabrado criando, llegar le las\n",
      "imaginoso, que s \n",
      "\n",
      "[48m 52s (1700 42%) 1.5717]\n",
      "Juieramente a la de genia.\n",
      "\n",
      "Y sobre oidas son ederitan desparecer,\n",
      "           la bendia: lo que la ca \n",
      "\n",
      "[51m 46s (1800 45%) 1.4226]\n",
      "Juscan en dectrado esta ver en la bien otro razonar la Miriginaltos por su mujerido de Cama\n",
      "hacienda\n",
      " \n",
      "\n",
      "[54m 40s (1900 47%) 1.5454]\n",
      "Juento que su lengua mundo bien estemovo a hay estaban el aqui que en estos perdona por la aqui su sa \n",
      "\n",
      "[57m 34s (2000 50%) 1.4336]\n",
      "Jra caballeros el caballeros que, donde solo se estan son la vistoses de castillo algun\n",
      "se noche caba \n",
      "\n",
      "[60m 30s (2100 52%) 1.5178]\n",
      "Jravada. De al oibimiencio como esta espaja al gio de la coma verdades a felicas de un cual maridos s \n",
      "\n",
      "[63m 25s (2200 55%) 1.4658]\n",
      "Jarsa donde se al curso, que y\n",
      "se se da buen yo fue luego, se al senora\n",
      "del senor, yo he esto que yo  \n",
      "\n",
      "[66m 19s (2300 57%) 1.6600]\n",
      "Jerra puede por aguaten.\n",
      "\n",
      "-Para dispular con otro hallara -respondio Sancho-, que la ceneas el libre  \n",
      "\n",
      "[69m 10s (2400 60%) 1.4470]\n",
      "Juerta. Yo has deseos ala mania, que se despues de la buena denas las antes de mi altura; y contaron  \n",
      "\n",
      "[72m 2s (2500 62%) 1.4737]\n",
      "Jinar sentema teneros bollos palabras lamante, que yo haya en que el duque que\n",
      "tales bocase a aqui qu \n",
      "\n",
      "[74m 53s (2600 65%) 1.4846]\n",
      "Juera., dijo:\n",
      "\n",
      "-?-Yo guendo -dijo Sancho- que de la corridad a la apuda que\n",
      "no simplino a companado\n",
      "c \n",
      "\n",
      "[77m 49s (2700 67%) 1.5020]\n",
      "Jierta,  perderos, el alla, y el mismo yo del hablado temor del estaba, pues es tan buen a todo oidor \n",
      "\n",
      "[81m 4s (2800 70%) 1.4668]\n",
      "Jueron no es piedensas y provesa para Histerro de la varia de mi saber y el viese por la\n",
      "Distes a los \n",
      "\n",
      "[84m 21s (2900 72%) 1.4770]\n",
      "Jueron, y le dijo:\n",
      "\n",
      "-Seis, que ya habia -como sobre si esta desirvirar con esto en ligo, que ya a el  \n",
      "\n",
      "[87m 33s (3000 75%) 1.3690]\n",
      "Jucilleries de otra merced -respondio Sancho-, sino por hemos porque a don Quijote a triste el\n",
      "grande \n",
      "\n",
      "[90m 44s (3100 77%) 1.5061]\n",
      "Juena a vuestras parecer que pasar, sentimo dijesen muy buena, no habias, a los diendeles, aunque, si \n",
      "\n",
      "[93m 55s (3200 80%) 1.4287]\n",
      "Juer, mi las mesmo, la tiese que siempre luveis\n",
      "el dificio mi me el decir de la tierra, de verdele qu \n",
      "\n",
      "[97m 6s (3300 82%) 1.5271]\n",
      "Junda pendendidad en los pano de esta una\n",
      "marceas, los cosas fueran de haran adelas mas altar que fue \n",
      "\n",
      "[100m 20s (3400 85%) 1.5468]\n",
      "Josa que estaba estas este amigos?'', porque mi se se los fuele''. Y a pensamiento don Quijote de ven \n",
      "\n",
      "[103m 31s (3500 87%) 1.5172]\n",
      "Jineras de revesco y discuales, y sin huestros en la sea mis pader esta de, por la cuerpo en el\n",
      "ver d \n",
      "\n",
      "[106m 25s (3600 90%) 1.5503]\n",
      "Jilmar -dijo la hacer mas pasa de aquella sobre la buen las manos, y tocas, y pidio de de tan pensanc \n",
      "\n",
      "[109m 19s (3700 92%) 1.4176]\n",
      "Jues llevado don Quijote, segundo es hombre que en ella que una caballo a desto pensamiencia se aquel \n",
      "\n",
      "[112m 13s (3800 95%) 1.4910]\n",
      "Jirades que puedole montase de la tiempo la vinos de su ver las invencias de Greidos del agrado\n",
      "traci \n",
      "\n",
      "[115m 8s (3900 97%) 1.4703]\n",
      "Jrazado de mi huespecho, al cuarta su senor Licerle ser venian con los senales, de las procrisarse a  \n",
      "\n",
      "[118m 2s (4000 100%) 1.4759]\n",
      "Jeron a la todas Panzarosos la ciertas. Pero gobernadore que vuestra merced, y sino que no primer all \n",
      "\n"
     ]
    }
   ],
   "source": [
    "max_epoch = 4000 #numero de epoch para el entrenamiento\n",
    "impresion = 100\n",
    "graficar = 10\n",
    "tam_oculto = 100\n",
    "num_capas = 2\n",
    "epsilon = 0.005\n",
    "\n",
    "decoder = RNN(n_caracteres, tam_oculto, n_caracteres, num_capas)\n",
    "decoder_optimizer = torch.optim.Adam(decoder.parameters(), lr=epsilon)\n",
    "criterion = nn.CrossEntropyLoss()\n",
    "\n",
    "comienzo = time.time()\n",
    "historial_perdidas = []\n",
    "prmedio_perdida = 0\n",
    "\n",
    "for epoch in range(1, max_epoch + 1):\n",
    "    perdida = entrenamiento(*conjunto_entrenamiento_aleatorio())       \n",
    "    prmedio_perdida += perdida\n",
    "\n",
    "    if epoch % impresion == 0:\n",
    "        print('[%s (%d %d%%) %.4f]' % (tiempo(comienzo), epoch, epoch / max_epoch * 100, perdida))\n",
    "        print(evaluar('J', 100), '\\n')\n",
    "\n",
    "    if epoch % graficar == 0:\n",
    "        historial_perdidas.append(prmedio_perdida / graficar)\n",
    "        prmedio_perdida = 0"
   ]
  },
  {
   "cell_type": "markdown",
   "metadata": {},
   "source": [
    "## Graficación de los errores"
   ]
  },
  {
   "cell_type": "code",
   "execution_count": 11,
   "metadata": {},
   "outputs": [
    {
     "data": {
      "text/plain": [
       "[<matplotlib.lines.Line2D at 0x11bdb7710>]"
      ]
     },
     "execution_count": 11,
     "metadata": {},
     "output_type": "execute_result"
    },
    {
     "data": {
      "image/png": "[encoded data removed]",
      "text/plain": [
       "<Figure size 432x288 with 1 Axes>"
      ]
     },
     "metadata": {},
     "output_type": "display_data"
    }
   ],
   "source": [
    "import matplotlib.pyplot as plt\n",
    "import matplotlib.ticker as ticker\n",
    "%matplotlib inline\n",
    "\n",
    "plt.figure()\n",
    "plt.plot(historial_perdidas)"
   ]
  },
  {
   "cell_type": "markdown",
   "metadata": {},
   "source": [
    "## Resultados con diferentes temperaturas \n",
    "\n",
    "En la función de evaluación anterior, cada vez que se realiza una predicción, las salidas se dividen por el argumento \"temperatura\" pasado. Usar un número más alto hace que todas las acciones sean más equitativas y, por lo tanto, nos brinda salidas \"más aleatorias\".\n",
    "\n",
    "Usar un valor más bajo (menos de 1) hace que las probabilidades altas contribuyan más. A medida que aumentamos la temperatura hacia cero, estamos eligiendo solo las salidas más probables."
   ]
  },
  {
   "cell_type": "code",
   "execution_count": 17,
   "metadata": {},
   "outputs": [
    {
     "name": "stdout",
     "output_type": "stream",
     "text": [
      "Caballero en los dos desperalosas y contras que cuester mostrar gustaron a quien a cosa esperanzado -respondio Sancho-, esta causara la muchas hermosas, o miraba les igual y desderecario su no agora junto en llevar generes demon no se demanes palabra mandandole, y le senor Lotara del respondida que se parecen la sanarse.\n",
      "\n",
      "-Ni me suerte -respondio -respondio el -dijo don Quijote-. En tan donde por lascinerque, y encima pena en esto y llevado al comoda y del tiempo lo que de tenia aquellos con los ninguna has de terminar con mas haces estistan del loco, ve quiero ancho,\n",
      "la de los que se ella, y no perder si podrido, la mas con su barca una manillon que los cosas del no las hermano, y las armas, estoco: que de su pace de mis hacellanos, casado y el cuales,\n",
      "le me parece y a dormino, porque en las alaban el suelor por los senoras conde su negrativo sein yo hacian de tralicia y mas trabajos las lanzases de mi encimadole senorencias en mas cubra con todo barbero, y con tocado escudante su\n",
      "razon alli\n",
      "p\n"
     ]
    }
   ],
   "source": [
    "print(evaluar('Caballero', 1000, temperature=0.8))"
   ]
  },
  {
   "cell_type": "code",
   "execution_count": 15,
   "metadata": {},
   "outputs": [
    {
     "name": "stdout",
     "output_type": "stream",
     "text": [
      "Togoso de la manos de la caballero, y a lo que se la mano de la mano de la caballeros a los casa de su cola, y se deseo de la manos de la caballero de los casa de las maneras de la menos de las maneras de la mano de la caballero, senora con la cual tenia en la manos de las cuales de la casa de los casa de la manos de los casa, y desta manera la manos de la manos de los caballeros andantes y desta de las manos de las cosas de las cosas de la muchas cosas de su corazon de la menester de la caballero de la cierte de su amorado de la menos la casa de la menos de la caballero de la manos a los callesionas y desta de su casa de la menos de la manos, porque en el cielo a la mano de la casa de los casa de su calentes y desta desta desta manera de la manos, y desta persona de la casa de la cierta de la mano a la manos de la manos, y de la casa de la caballero de la caballero de la mano de la caballero de la manos de la mano de la mano de la manos de la manos de las ciertos no se de la caballeria de l\n"
     ]
    }
   ],
   "source": [
    "print(evaluar('Togoso', 1000, temperature=0.2))"
   ]
  },
  {
   "cell_type": "code",
   "execution_count": 16,
   "metadata": {},
   "outputs": [
    {
     "name": "stdout",
     "output_type": "stream",
     "text": [
      "Sancho menos y en las fuertes, de que en ellos de los casa, con su manos, a lo que tiene de los casa, el caballero de las haber contentados de encantamentos le dejar las decir, senora caballero, y en mis poder que no hay el alido que los menos las locos dos deste contento de las popros en tus senoras los salir al colentes en el senor que en la\n",
      "parte, a lo que sale a las partes por ellas que ser el calle de la cabeza, senor cuando la cosegustar los canas y deshonras de los colgar que se por la caminador de una de ser deste la menos a las intentas de mi comoridado de mucho que se se habia por su prestan las persona, porque dijo que me la cosa y despues de los maneras de ser con la caballero, y la mano a los por las postas, porque el cual la de penar sin presentados de su cual el encantando le senoranza y puesta a la perdurtencia mas ha de diliginar de las personas y cosas de ser el mal con las barbas y senoras tienes las lugar las pintadas de su menos en el camino que le ha de la median de las\n"
     ]
    }
   ],
   "source": [
    "print(evaluar('Sancho', 1000, temperature=.5))"
   ]
  },
  {
   "cell_type": "code",
   "execution_count": null,
   "metadata": {},
   "outputs": [],
   "source": []
  }
 ],
 "metadata": {
  "celltoolbar": "Raw Cell Format",
  "kernelspec": {
   "display_name": "Python 3",
   "language": "python",
   "name": "python3"
  },
  "language_info": {
   "codemirror_mode": {
    "name": "ipython",
    "version": 3
   },
   "file_extension": ".py",
   "mimetype": "text/x-python",
   "name": "python",
   "nbconvert_exporter": "python",
   "pygments_lexer": "ipython3",
   "version": "3.6.5"
  }
 },
 "nbformat": 4,
 "nbformat_minor": 2
}
