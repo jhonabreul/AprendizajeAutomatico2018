{
 "cells": [
  {
   "cell_type": "markdown",
   "metadata": {},
   "source": [
    "# Algoritmos de Clasificación: k-Vecinos más Cercanos"
   ]
  },
  {
   "cell_type": "markdown",
   "metadata": {},
   "source": [
    "El algoritmo de los k-vecinos más cercanos (kNN en inglés) es un algoritmo fácil de entender e implementar.\n",
    "\n",
    "El modelo para kNN es el conjunto de datos de entrenamiento completo. Cuando se requiere una predicción para una instancia de datos aún no vista, el algoritmo kNN buscará en el conjunto de datos de entrenamiento las k-instancias más similares. El atributo de predicción de las instancias más similares se resume y devuelve como la predicción para la instancia aún no vista.\n",
    "\n",
    "La medida de similitud depende del tipo de datos. Para datos reales, se puede usar la distancia euclidiana. Otros otros tipos de datos tales como datos categóricos o binarios, se puede utilizar la distancia de Hamming.\n",
    "\n",
    "En el caso de problemas de regresión, puede devolverse el promedio del atributo predicho. En el caso de clasificación, la clase más prevalente puede ser devuelta.\n",
    "\n",
    "<img src=\"figuras/knn.png\" width=\"75%\">"
   ]
  },
  {
   "cell_type": "markdown",
   "metadata": {},
   "source": [
    "### Como funciona el k-Vecinos más Cercanos"
   ]
  },
  {
   "cell_type": "markdown",
   "metadata": {},
   "source": [
    "El algoritmo kNN pertenece a la familia de aprendizaje basado en instancias, aprendizaje competitivo y algoritmos de aprendizaje perezosos.\n",
    "\n",
    "Los algoritmos basados ​​en instancias son aquellos algoritmos que modelan el problema usando instancias de datos (o filas) para tomar decisiones predictivas. El algoritmo kNN es una forma extrema de métodos basados ​​en instancia porque todas las observaciones de entrenamiento son retenidas como parte del modelo.\n",
    "\n",
    "Se trata de un algoritmo de aprendizaje competitivo, ya que utiliza internamente la competencia entre los elementos del modelo (instancias de datos) para tomar una decisión predictiva. La medida de similitud objetiva entre instancias de datos hace que cada instancia de datos compita para \"ganar\" o sea más similar a una instancia de datos no vista y contribuya a una predicción.\n",
    "\n",
    "Lazy learning se refiere al hecho de que el algoritmo no construye un modelo hasta el momento en que se requiere una predicción. Es perezoso porque sólo funciona en el último segundo. Esto tiene el beneficio de incluir solamente datos relevantes para los datos no vistos, llamados un modelo localizado. Una desventaja es que puede ser costoso desde el punto de vista computacional repetir las mismas o similares búsquedas sobre conjuntos de datos de formación más grandes.\n",
    "\n",
    "Finalmente, kNN es potente porque no asume nada acerca de los datos, aparte de una medida de distancia puede ser calculada consistentemente entre dos instancias cualesquiera. Como tal, se llama no paramétrico o no lineal ya que no asume una forma funcional."
   ]
  },
  {
   "cell_type": "markdown",
   "metadata": {},
   "source": [
    "## Ventajas y desventajas de k-Vecinos más Cercanos"
   ]
  },
  {
   "cell_type": "markdown",
   "metadata": {},
   "source": [
    "### Ventajas\n",
    "+ Facíl de implementar\n",
    "+ El costo del proceso de aprendizaje es cero\n",
    "+ No hace ninguna suposiciones acerca de los atributos de los conceptos a aprender\n",
    "+ Conceptos complejos pueden ser aprendidos usando aproximaciones locales usando procedimientos sencillos"
   ]
  },
  {
   "cell_type": "markdown",
   "metadata": {},
   "source": [
    "### Desventajas:\n",
    "+ El modelo no se puede interpretar\n",
    "+ Es computacionalmente costoso encontrar los k vecinos más cercanos cuando el conjunto de datos es muy grande\n",
    "+ Rendimiento depende del número de dimensiones\n",
    "+ Gran cantidad de almacenamiento"
   ]
  },
  {
   "cell_type": "markdown",
   "metadata": {},
   "source": [
    "## Implementación del algoritmo k-Vecinos más Cercanos en Python"
   ]
  },
  {
   "cell_type": "markdown",
   "metadata": {},
   "source": [
    "### Medida de Similitud\n",
    "\n",
    "Para hacer predicciones necesitamos calcular la similitud entre dos instancias de datos dados. Esto es necesario para poder localizar las instancias de datos más similares en el conjunto de datos de entrenamiento para un miembro dado del conjunto de datos de prueba y, a su vez, hacer una predicción.\n",
    "\n",
    "Para datos numéricos se puede utilizar la medida de distancia euclidiana. Esto se define como la raíz cuadrada de la suma de las diferencias al cuadrado entre las dos matrices de números.\n",
    "\n",
    "Para esto se puede definir la función distanciaEuclidiana de la siguiente manera:"
   ]
  },
  {
   "cell_type": "code",
   "execution_count": 1,
   "metadata": {
    "collapsed": true
   },
   "outputs": [],
   "source": [
    "import math\n",
    "def distanciaEuclidiana(instancia1, instancia2, tamaño):\n",
    "    distancia = 0\n",
    "    for x in range(tamaño):\n",
    "        distancia += pow((instancia1[x] - instancia2[x]), 2)\n",
    "    return math.sqrt(distancia)"
   ]
  },
  {
   "cell_type": "code",
   "execution_count": 2,
   "metadata": {},
   "outputs": [
    {
     "name": "stdout",
     "output_type": "stream",
     "text": [
      "Distancia: 3.4641016151377544\n"
     ]
    }
   ],
   "source": [
    "data1 = [2, 2, 2, 'a']\n",
    "data2 = [4, 4, 4, 'b']\n",
    "distancia = distanciaEuclidiana(data1, data2, 3)\n",
    "print('Distancia: ' + repr(distancia))"
   ]
  },
  {
   "cell_type": "markdown",
   "metadata": {},
   "source": [
    "### Vecinos\n",
    "\n",
    "Al tener una medida de similitud, se puede usar para recopilar las k-instancias más parecidas a una instancia aún no vista.\n",
    "\n",
    "Este es un proceso sencillo de calcular la distancia para todas las instancias y seleccionar un subconjunto con los valores de distancia más pequeños.\n",
    "\n",
    "A continuación se muestra la función `obtenerVecinos` que devuelve los k vecinos más similares del conjunto de entrenamiento para una instancia de prueba dada (utilizando la función `distanciaEuclidiana` ya definida)"
   ]
  },
  {
   "cell_type": "code",
   "execution_count": 4,
   "metadata": {
    "collapsed": true
   },
   "outputs": [],
   "source": [
    "import operator \n",
    "def obtenerVecinos(conjuntoEntrenamiento, instanciaPrueba, k):\n",
    "    distancias = []\n",
    "    tamaño = len(instanciaPrueba)-1\n",
    "    for x in range(len(conjuntoEntrenamiento)):\n",
    "        distancia = distanciaEuclidiana(instanciaPrueba, conjuntoEntrenamiento[x], tamaño)\n",
    "        distancias.append((conjuntoEntrenamiento[x], distancia))\n",
    "    distancias.sort(key=operator.itemgetter(1))\n",
    "    vecinos = []\n",
    "    for x in range(k):\n",
    "        vecinos.append(distancias[x][0])\n",
    "    return vecinos"
   ]
  },
  {
   "cell_type": "code",
   "execution_count": 9,
   "metadata": {},
   "outputs": [
    {
     "name": "stdout",
     "output_type": "stream",
     "text": [
      "[[4, 4, 4, 'b'], [3, 3, 3, 'a']]\n"
     ]
    }
   ],
   "source": [
    "conjuntoEntrenamiento = [[2, 2, 2, 'a'], [4, 4, 4, 'b'], [3, 3, 3, 'a']]\n",
    "instanciaPrueba = [5, 5, 5]\n",
    "k = 2\n",
    "vecinos = obtenerVecinos(conjuntoEntrenamiento, instanciaPrueba, k)\n",
    "print(vecinos)"
   ]
  },
  {
   "cell_type": "markdown",
   "metadata": {},
   "source": [
    "### Respuesta\n",
    "\n",
    "Una vez localizados los vecinos más similares para una instancia de prueba, la siguiente tarea es crear la respuesta de la clase predicha basada en esos vecinos.\n",
    "\n",
    "Podemos hacer esto permitiendo a cada vecino votar por su atributo de clase, y tomar el voto de la mayoría como la predicción.\n",
    "\n",
    "A continuación se proporciona una función para obtener la respuesta de mayoría votada de varios vecinos. Asume que la clase es el último atributo para cada vecino."
   ]
  },
  {
   "cell_type": "code",
   "execution_count": 10,
   "metadata": {
    "collapsed": true
   },
   "outputs": [],
   "source": [
    "import operator\n",
    "def obtenerRespuesta(vecinos):\n",
    "    votosClases = {}\n",
    "    for x in range(len(vecinos)):\n",
    "        respuesta = vecinos[x][-1]\n",
    "        if respuesta in votosClases:\n",
    "            votosClases[respuesta] += 1\n",
    "        else:\n",
    "            votosClases[respuesta] = 1\n",
    "    votosOrdenados = sorted(votosClases.items(), key=operator.itemgetter(1), reverse=True)\n",
    "    return votosOrdenados[0][0]"
   ]
  },
  {
   "cell_type": "code",
   "execution_count": 14,
   "metadata": {},
   "outputs": [
    {
     "name": "stdout",
     "output_type": "stream",
     "text": [
      "a\n"
     ]
    }
   ],
   "source": [
    "vecinos = [[1,1,1,'a'], [2,2,2,'a'], [3,3,3,'b']]\n",
    "respuesta = obtenerRespuesta(vecinos)\n",
    "print(respuesta)"
   ]
  },
  {
   "cell_type": "markdown",
   "metadata": {},
   "source": [
    "### Exactitud\n",
    "\n",
    "Para evaluar la exactitud de las predicciones del modelo se calcula la relación entre el total de predicciones correctas de todas las predicciones hechas, llamada exactitud de clasificación.\n",
    "\n",
    "A continuación se muestra la función `obtenerExactitud` que suma las predicciones correctas totales y devuelve la precisión como un porcentaje de las clasificaciones correctas."
   ]
  },
  {
   "cell_type": "code",
   "execution_count": 15,
   "metadata": {
    "collapsed": true
   },
   "outputs": [],
   "source": [
    "def obtenerExactitud(conjuntoPrueba, predicciones):\n",
    "    correctas = 0\n",
    "    for x in range(len(conjuntoPrueba)):\n",
    "        if conjuntoPrueba[x][-1] == predicciones[x]:\n",
    "            correctas += 1\n",
    "    return correctas/len(conjuntoPrueba)"
   ]
  },
  {
   "cell_type": "code",
   "execution_count": 16,
   "metadata": {},
   "outputs": [
    {
     "name": "stdout",
     "output_type": "stream",
     "text": [
      "0.6666666666666666\n"
     ]
    }
   ],
   "source": [
    "conjuntoPrueba = [[1,1,1,'a'], [2,2,2,'a'], [3,3,3,'b']]\n",
    "predicciones = ['a', 'a', 'a']\n",
    "exactitud = obtenerExactitud(conjuntoPrueba, predicciones)\n",
    "print(exactitud)"
   ]
  },
  {
   "cell_type": "markdown",
   "metadata": {},
   "source": [
    "### Aplicar el algoritmo k-Vecinos más Cercanos al conjunto de datos Iris"
   ]
  },
  {
   "cell_type": "markdown",
   "metadata": {},
   "source": [
    "Cargar los datos"
   ]
  },
  {
   "cell_type": "code",
   "execution_count": 17,
   "metadata": {
    "collapsed": true
   },
   "outputs": [],
   "source": [
    "import numpy as np\n",
    "from sklearn.model_selection import train_test_split\n",
    "from sklearn import datasets\n",
    "\n",
    "iris = datasets.load_iris()\n",
    "X = iris.data\n",
    "y = iris.target\n",
    "X = np.c_[X, y]"
   ]
  },
  {
   "cell_type": "markdown",
   "metadata": {},
   "source": [
    "Crear los conjuntos de entrenamiento y prueba"
   ]
  },
  {
   "cell_type": "code",
   "execution_count": 20,
   "metadata": {},
   "outputs": [
    {
     "data": {
      "text/plain": [
       "45"
      ]
     },
     "execution_count": 20,
     "metadata": {},
     "output_type": "execute_result"
    }
   ],
   "source": [
    "X_entrenamiento, X_prueba = train_test_split(X, test_size=0.3, random_state=0)\n",
    "len(X_prueba)"
   ]
  },
  {
   "cell_type": "markdown",
   "metadata": {},
   "source": [
    "Generar las predicciones"
   ]
  },
  {
   "cell_type": "code",
   "execution_count": 21,
   "metadata": {},
   "outputs": [
    {
     "name": "stdout",
     "output_type": "stream",
     "text": [
      "Exactitud: 0.978\n",
      "45\n"
     ]
    }
   ],
   "source": [
    "predicciones=[]\n",
    "k = 3\n",
    "for x in range(len(X_prueba)):\n",
    "    vecinos = obtenerVecinos(X_entrenamiento, X_prueba[x], k)\n",
    "    resultado = obtenerRespuesta(vecinos)\n",
    "    predicciones.append(resultado)\n",
    "exactitud = obtenerExactitud(X_prueba, predicciones)\n",
    "print('Exactitud: {:.3f}'.format(exactitud))\n",
    "print(len(predicciones))"
   ]
  },
  {
   "cell_type": "markdown",
   "metadata": {},
   "source": [
    "## Aplicar el algoritmo de KNN de sklearn\n",
    "\n",
    "Mostrar gráfico de las regiones de decisión"
   ]
  },
  {
   "cell_type": "code",
   "execution_count": 22,
   "metadata": {
    "collapsed": true
   },
   "outputs": [],
   "source": [
    "from sklearn import datasets\n",
    "from sklearn.neighbors import KNeighborsClassifier\n",
    "from sklearn.model_selection import cross_val_score\n",
    "from sklearn.preprocessing import StandardScaler\n",
    "import graficar_regiones_decision as grd\n",
    "import pandas as pd\n",
    "import matplotlib.pyplot as plt\n",
    "%matplotlib inline\n",
    "plt.rcParams['figure.figsize'] = (10.0, 8.0)\n",
    "\n",
    "iris = datasets.load_iris()\n",
    "X1 = iris.data\n",
    "y1 = iris.target"
   ]
  },
  {
   "cell_type": "markdown",
   "metadata": {},
   "source": [
    "Crear conjuntos de entrenamiento y prueba"
   ]
  },
  {
   "cell_type": "code",
   "execution_count": 23,
   "metadata": {
    "collapsed": true
   },
   "outputs": [],
   "source": [
    "X_entrenamiento, X_prueba, y_entrenamiento, y_prueba = train_test_split(X1, y1, test_size=0.3, random_state=0)"
   ]
  },
  {
   "cell_type": "markdown",
   "metadata": {},
   "source": [
    "Crear clasificador KNN y ajustarlo al conjunto de entrenamiento"
   ]
  },
  {
   "cell_type": "code",
   "execution_count": 24,
   "metadata": {},
   "outputs": [
    {
     "name": "stdout",
     "output_type": "stream",
     "text": [
      "Exactitud: 0.978\n"
     ]
    }
   ],
   "source": [
    "knn = KNeighborsClassifier(n_neighbors=3)\n",
    "knn.fit(X_entrenamiento, y_entrenamiento)\n",
    "print(\"Exactitud: {:.3f}\".format(knn.score(X_prueba, y_prueba)))"
   ]
  },
  {
   "cell_type": "markdown",
   "metadata": {},
   "source": [
    "### Encontrar el valor optimo de k usando validación cruzada"
   ]
  },
  {
   "cell_type": "code",
   "execution_count": 25,
   "metadata": {
    "collapsed": true
   },
   "outputs": [],
   "source": [
    "# crear una lista de valores impares de k\n",
    "vecinos = list(range(1,50,2))\n",
    "\n",
    "# liata para almacenar la exactitud de la validación cruzada\n",
    "exactitud_vc = []\n",
    "# realizar validación cruzada con 10-fold\n",
    "for k in vecinos:\n",
    "    knn = KNeighborsClassifier(n_neighbors=k)\n",
    "    puntajes = cross_val_score(knn, X_entrenamiento, y_entrenamiento, cv=10, scoring='accuracy')\n",
    "    exactitud_vc.append(puntajes.mean())"
   ]
  },
  {
   "cell_type": "code",
   "execution_count": 26,
   "metadata": {},
   "outputs": [
    {
     "data": {
      "text/plain": [
       "[0.943888888888889,\n",
       " 0.943888888888889,\n",
       " 0.95257575757575752,\n",
       " 0.96055555555555561,\n",
       " 0.96055555555555561,\n",
       " 0.96055555555555561,\n",
       " 0.96055555555555561,\n",
       " 0.96055555555555561,\n",
       " 0.96055555555555561,\n",
       " 0.95146464646464646,\n",
       " 0.95146464646464646,\n",
       " 0.94313131313131326,\n",
       " 0.93479797979797985,\n",
       " 0.94590909090909092,\n",
       " 0.94590909090909092,\n",
       " 0.95590909090909082,\n",
       " 0.94479797979797975,\n",
       " 0.94590909090909092,\n",
       " 0.94590909090909092,\n",
       " 0.94590909090909092,\n",
       " 0.93479797979797985,\n",
       " 0.9257070707070707,\n",
       " 0.93681818181818177,\n",
       " 0.92737373737373741,\n",
       " 0.9073737373737375]"
      ]
     },
     "execution_count": 26,
     "metadata": {},
     "output_type": "execute_result"
    }
   ],
   "source": [
    "exactitud_vc"
   ]
  },
  {
   "cell_type": "code",
   "execution_count": 27,
   "metadata": {},
   "outputs": [
    {
     "name": "stdout",
     "output_type": "stream",
     "text": [
      "El número optimo de vecinos es 7\n"
     ]
    },
    {
     "data": {
      "image/png": "[encoded data removed]",
      "text/plain": [
       "<matplotlib.figure.Figure at 0x10bee7f98>"
      ]
     },
     "metadata": {},
     "output_type": "display_data"
    }
   ],
   "source": [
    "# cambiar a error de clasificación\n",
    "MSE = [1 - x for x in exactitud_vc]\n",
    "\n",
    "# determining best k\n",
    "k_optimo = vecinos[MSE.index(min(MSE))]\n",
    "print(\"El número optimo de vecinos es %d\" % k_optimo)\n",
    "\n",
    "# plot misclassification error vs k\n",
    "plt.plot(vecinos, MSE)\n",
    "plt.xlabel('Número de Vecinos K')\n",
    "plt.ylabel('Error de Clasificación')\n",
    "plt.show()"
   ]
  },
  {
   "cell_type": "markdown",
   "metadata": {},
   "source": [
    "### Graficar las regiones de decisión."
   ]
  },
  {
   "cell_type": "markdown",
   "metadata": {},
   "source": [
    "Para poder visualizar las regiones de decisión usaremos solo dos de los atributos del conjunto de datos Iris"
   ]
  },
  {
   "cell_type": "code",
   "execution_count": 43,
   "metadata": {
    "collapsed": true
   },
   "outputs": [],
   "source": [
    "X2 = iris.data[:, [2, 3]]\n",
    "y2 = iris.target\n",
    "X2_entrenamiento, X2_prueba, y2_entrenamiento, y2_prueba = train_test_split(X2, y2, test_size=0.3, random_state=3)"
   ]
  },
  {
   "cell_type": "markdown",
   "metadata": {},
   "source": [
    "Normalización de los atributos:"
   ]
  },
  {
   "cell_type": "code",
   "execution_count": 44,
   "metadata": {},
   "outputs": [],
   "source": [
    "sc = StandardScaler()\n",
    "sc.fit(X2_entrenamiento)\n",
    "X2_entrenamiento = sc.transform(X2_entrenamiento)\n",
    "X2_prueba = sc.transform(X2_prueba)"
   ]
  },
  {
   "cell_type": "code",
   "execution_count": 45,
   "metadata": {},
   "outputs": [
    {
     "name": "stdout",
     "output_type": "stream",
     "text": [
      "Exactitud: 0.978\n"
     ]
    }
   ],
   "source": [
    "knn7 = KNeighborsClassifier(n_neighbors=13)\n",
    "knn7.fit(X2_entrenamiento, y2_entrenamiento)\n",
    "print(\"Exactitud: {:.3f}\".format(knn7.score(X2_prueba, y2_prueba)))"
   ]
  },
  {
   "cell_type": "markdown",
   "metadata": {},
   "source": [
    "Combinar conjuntos de entrenamiento y conjuntos de prueba"
   ]
  },
  {
   "cell_type": "code",
   "execution_count": 46,
   "metadata": {
    "collapsed": true
   },
   "outputs": [],
   "source": [
    "X2_combinado = np.vstack((X2_entrenamiento, X2_prueba))\n",
    "y2_combinado = np.hstack((y2_entrenamiento, y2_prueba))"
   ]
  },
  {
   "cell_type": "code",
   "execution_count": 47,
   "metadata": {},
   "outputs": [
    {
     "data": {
      "image/png": "[encoded data removed]",
      "text/plain": [
       "<matplotlib.figure.Figure at 0x109ac7ac8>"
      ]
     },
     "metadata": {},
     "output_type": "display_data"
    }
   ],
   "source": [
    "grd.graficar_regiones_decision(X2_combinado, y2_combinado, clasificador=knn7, indices_prueba=range(105,150))\n",
    "plt.xlabel('largo petalo')\n",
    "plt.ylabel('ancho petalo')\n",
    "plt.legend(loc='upper left')\n",
    "plt.show()"
   ]
  },
  {
   "cell_type": "code",
   "execution_count": null,
   "metadata": {
    "collapsed": true
   },
   "outputs": [],
   "source": []
  }
 ],
 "metadata": {
  "kernelspec": {
   "display_name": "Python 3",
   "language": "python",
   "name": "python3"
  },
  "language_info": {
   "codemirror_mode": {
    "name": "ipython",
    "version": 3
   },
   "file_extension": ".py",
   "mimetype": "text/x-python",
   "name": "python",
   "nbconvert_exporter": "python",
   "pygments_lexer": "ipython3",
   "version": "3.6.4"
  }
 },
 "nbformat": 4,
 "nbformat_minor": 2
}
