{
 "cells": [
  {
   "cell_type": "markdown",
   "metadata": {},
   "source": [
    "# Clasificación de Imagenes usando el Conjunto de Datos CIFAR-10"
   ]
  },
  {
   "cell_type": "markdown",
   "metadata": {},
   "source": [
    "Usaremos un conjunto de datos estandarizado llamado CIFAR-10. CIFAR-10 consta de 60000 imágenes. Hay 10 categorías diferentes y 6000 imágenes por categoría. Cada imagen tiene un tamaño de solo 32 por 32 píxeles. El tamaño pequeño hace que a veces sea dificil para los humanos reconocer la categoría correcta, pero simplifica las cosas para nuestro modelo de aprendizaje automático y reduce la carga computacional requerida para analizar las imágenes.\n",
    "\n",
    "<img src=\"figuras/CIFAR-10_examples.png\" width=\"75%\">\n",
    "\n",
    "La forma en que ingresamos estas imágenes en nuestro modelo es alimentando el modelo con una serie de números. Cada píxel se describe mediante tres números de coma flotante que representan los valores rojo, verde y azul para ese píxel. Esto da como resultado un total de 32 x 32 x 3 = 3072 valores para cada imagen.\n",
    "\n",
    "<img src=\"figuras/representacion_imagen.png\" width=\"75%\">"
   ]
  },
  {
   "cell_type": "markdown",
   "metadata": {},
   "source": [
    "## Crear una Red Neuronal de Dos Capas\n",
    "\n",
    "Conjunto de datos CIFAR-10: descargue la versión Python del conjunto de datos de :https://www.cs.toronto.edu/~kriz/cifar.html o use el [enlace directo](https://www.cs.toronto.edu/~kriz/cifar-10-python.tar.gz) al archivo comprimido. Coloque el directorio extraído `cifar-10-batches-py/` en el directorio donde están colocandos los datos del notebook, de modo que la ruta a las imágenes sea `/ruta-a-su-directorio-datos/cifar-10-batches-py/`. En nuestro ejemplo la ruta es `datos/cifar-10-batches-py/`."
   ]
  },
  {
   "cell_type": "code",
   "execution_count": 1,
   "metadata": {},
   "outputs": [
    {
     "name": "stderr",
     "output_type": "stream",
     "text": [
      "/Users/wladimir/anaconda/lib/python3.6/importlib/_bootstrap.py:219: RuntimeWarning: compiletime version 3.5 of module 'tensorflow.python.framework.fast_tensor_util' does not match runtime version 3.6\n",
      "  return f(*args, **kwds)\n"
     ]
    }
   ],
   "source": [
    "import numpy as np\n",
    "import tensorflow as tf\n",
    "import time\n",
    "import pickle"
   ]
  },
  {
   "cell_type": "markdown",
   "metadata": {},
   "source": [
    "Funciones de utilidad para cargar los datos de CIFAR-10 y para codificación one-hot"
   ]
  },
  {
   "cell_type": "code",
   "execution_count": 2,
   "metadata": {},
   "outputs": [],
   "source": [
    "def cargar_lote_CIFAR10(nombre_archivo):\n",
    "  '''carga los datos de un archivo CIFAR-10'''\n",
    "  with open(nombre_archivo, 'rb') as archivo:\n",
    "    diccionario = pickle.load(archivo, encoding='latin1')\n",
    "    x = diccionario['data']\n",
    "    y = diccionario['labels']\n",
    "    x = x.astype(float)\n",
    "    y = np.array(y)\n",
    "  return x, y\n",
    "\n",
    "def cargar_datos():\n",
    "  '''carga los datos de todos los archivos CIFAR-10 y mezcla los lotes de entrenamiento'''\n",
    "\n",
    "  xs = []\n",
    "  ys = []\n",
    "  for i in range(1, 6):\n",
    "    nombre_archivo = 'datos/cifar-10-batches-py/data_batch_' + str(i)\n",
    "    X, Y = cargar_lote_CIFAR10(nombre_archivo)\n",
    "    xs.append(X)\n",
    "    ys.append(Y)\n",
    "\n",
    "  x_entrenamiento = np.concatenate(xs)\n",
    "  y_entrenamiento = np.concatenate(ys)\n",
    "  del xs, ys\n",
    "\n",
    "  x_prueba, y_prueba = cargar_lote_CIFAR10('datos/cifar-10-batches-py/test_batch')\n",
    "\n",
    "  clases = ['avión', 'carro', 'pajaro', 'gato', 'venado', 'perro', 'rana', 'caballo',\n",
    "    'barco', 'camión']\n",
    "\n",
    "  diccionario_datos = {\n",
    "    'imagenes_entrenamiento': x_entrenamiento,\n",
    "    'etiquetas_entrenamiento': y_entrenamiento,\n",
    "    'imagenes_prueba': x_prueba,\n",
    "    'etiquetas_prueba': y_prueba,\n",
    "    'clases': clases\n",
    "  }\n",
    "  return diccionario_datos\n",
    "\n",
    "def onehot(y, n_clases):\n",
    "        \"\"\"Codificar etiquetas en representación one-hot\n",
    "\n",
    "        Parámetros\n",
    "        ------------\n",
    "        y : array, shape = [n_muestras]\n",
    "            Target values.\n",
    "\n",
    "        Retorna\n",
    "        -----------\n",
    "        onehot : array, shape = (n_muestras, n_etiquetas)\n",
    "\n",
    "        \"\"\"\n",
    "        onehot = np.zeros((n_clases, y.shape[0]))\n",
    "        for idx, val in enumerate(y.astype(int)):\n",
    "            onehot[val, idx] = 1.\n",
    "        return onehot.T"
   ]
  },
  {
   "cell_type": "markdown",
   "metadata": {},
   "source": [
    "Cargar los datos y codificar las etiquetas usando \"one-hot\""
   ]
  },
  {
   "cell_type": "code",
   "execution_count": 3,
   "metadata": {},
   "outputs": [
    {
     "name": "stdout",
     "output_type": "stream",
     "text": [
      "(50000, 3072)\n",
      "(50000,)\n",
      "(10000, 3072)\n",
      "(10000,)\n",
      "(50000, 10)\n",
      "(10000, 10)\n"
     ]
    }
   ],
   "source": [
    "# Inicializar la semilla del generado de numeros aleatorios\n",
    "# para obtener los mismos datos para todas las corridas\n",
    "np.random.seed(1)\n",
    "\n",
    "# Preparar los datos\n",
    "conjunto_datos = cargar_datos()\n",
    "print(conjunto_datos['imagenes_entrenamiento'].shape)\n",
    "print(conjunto_datos['etiquetas_entrenamiento'].shape)\n",
    "print(conjunto_datos['imagenes_prueba'].shape)\n",
    "print(conjunto_datos['etiquetas_prueba'].shape)\n",
    "y_entrenamiento = onehot(conjunto_datos['etiquetas_entrenamiento'], 10)\n",
    "y_prueba = onehot(conjunto_datos['etiquetas_prueba'], 10)\n",
    "print(y_entrenamiento.shape)\n",
    "print(y_prueba.shape)"
   ]
  },
  {
   "cell_type": "markdown",
   "metadata": {},
   "source": [
    "`cargar_datos()` devuelve un diccionario que contiene:\n",
    "\n",
    "- imagenes_entrenamiento: el conjunto de datos de entrenamiento como una matriz de valores de 50000 por 3072 (= 32 píxeles x 32 píxeles x 3 canales de color).\n",
    "- etiquetas_entrenamiento: 50000 etiquetas para el conjunto de entrenamiento (cada una representa un número entre 0 y 9 representando a cuál de las 10 clases pertenece la imagen de entrenamiento)\n",
    "- imagenes_prueba: conjunto de prueba (10000 por 3072)\n",
    "- etiquetas_prueba: 10000 etiquetas para el conjunto de prueba\n",
    "- clases: 10 etiquetas de texto para traducir el valor numérico de clase en una palabra (0 para 'avión', 1 para 'carro', etc.)"
   ]
  },
  {
   "cell_type": "markdown",
   "metadata": {},
   "source": [
    "### Visualizar algunas de las imágenes del Conjunto de Prueba "
   ]
  },
  {
   "cell_type": "code",
   "execution_count": 5,
   "metadata": {},
   "outputs": [
    {
     "data": {
      "image/png": "[encoded data removed]",
      "text/plain": [
       "<matplotlib.figure.Figure at 0x109a96160>"
      ]
     },
     "metadata": {},
     "output_type": "display_data"
    }
   ],
   "source": [
    "%matplotlib inline\n",
    "np.random.seed(3)\n",
    "import matplotlib.pyplot as plt\n",
    "# Visualización CIFAR 10\n",
    "X = conjunto_datos['imagenes_prueba'].reshape(10000, 3, 32, 32).transpose(0,2,3,1).astype(\"uint8\")\n",
    "fig, axes1 = plt.subplots(3,3,figsize=(5,5))\n",
    "for j in range(3):\n",
    "    for k in range(3):\n",
    "        i = np.random.choice(range(len(X)))\n",
    "        axes1[j][k].set_axis_off()\n",
    "        axes1[j][k].imshow(X[i:i+1][0])"
   ]
  },
  {
   "cell_type": "markdown",
   "metadata": {},
   "source": [
    "Normalizar las imágenes de entrenamiento y de prueba"
   ]
  },
  {
   "cell_type": "code",
   "execution_count": 6,
   "metadata": {},
   "outputs": [],
   "source": [
    "  # Normalizar los Datos\n",
    "  media_imagen = np.mean(conjunto_datos['imagenes_entrenamiento'], axis=0)\n",
    "  conjunto_datos['imagenes_entrenamiento'] -= media_imagen\n",
    "  conjunto_datos['imagenes_prueba'] -= media_imagen"
   ]
  },
  {
   "cell_type": "markdown",
   "metadata": {},
   "source": [
    "### Arquitectura de la Red Neuronal"
   ]
  },
  {
   "cell_type": "markdown",
   "metadata": {},
   "source": [
    "Vamos a crear una Red Neuronal con dos capas ocultas, cada capa oculta constará de 120 nodos, la capa de entrada es de 30172 nodos y la de salida de 10 nodos:\n",
    "\n",
    "<img src=\"figuras/RedNeuronalCIFAR-10.png\" width=\"75%\">"
   ]
  },
  {
   "cell_type": "markdown",
   "metadata": {},
   "source": [
    "### Inicializar variables y \"placeholders\""
   ]
  },
  {
   "cell_type": "markdown",
   "metadata": {},
   "source": [
    "A continuación, podemos configurar las variables de marcador de posición para los datos de entrenamiento"
   ]
  },
  {
   "cell_type": "code",
   "execution_count": 7,
   "metadata": {},
   "outputs": [],
   "source": [
    "# Preparar el grafo de TensorFlow\n",
    "\n",
    "# Definición de hiperparámetros\n",
    "tamaño_lote = 100\n",
    "tasa_aprendizaje = 0.005\n",
    "epocas = 100\n",
    "nodos_capa_oculta_1 = 120\n",
    "nodos_capa_oculta_2 = 120\n",
    "\n",
    "# Definir los placeholders para las entradas\n",
    "with tf.name_scope('entrada'):\n",
    "    x = tf.placeholder(tf.float32, shape=[None, 3072], name=\"imagenes\")\n",
    "    y = tf.placeholder(tf.float32, shape=[None, 10], name=\"etiquetas\")"
   ]
  },
  {
   "cell_type": "markdown",
   "metadata": {},
   "source": [
    "Ahora necesitamos configurar las variables de pesos y sesgo para la red neuronal de tres capas. Siempre hay un número $L-1$ de tensores de pesos/sesgo, donde $L$ es el número de capas. Entonces, en este caso, necesitamos configurar dos tensores para cada uno:"
   ]
  },
  {
   "cell_type": "code",
   "execution_count": 8,
   "metadata": {},
   "outputs": [],
   "source": [
    "with tf.name_scope('pesos'):\n",
    "    # declarar los pesos conectando la capa de entrada con la capa oculta 1\n",
    "    W1 = tf.Variable(tf.random_normal([3072, nodos_capa_oculta_1], stddev=0.03), name='W1')\n",
    "    # declarar los pesos conectando la capa oculta 1 con la capa oculta 2\n",
    "    W2 = tf.Variable(tf.random_normal([nodos_capa_oculta_1, nodos_capa_oculta_2], stddev=0.03), name='W2')\n",
    "    # y los pesos conectando la capa oculta 2 con la capa de salidad\n",
    "    W3 = tf.Variable(tf.random_normal([nodos_capa_oculta_2, 10], stddev=0.03), name='W3')\n",
    "    \n",
    "with tf.name_scope('sesgos'):\n",
    "    b1 = tf.Variable(tf.random_normal([nodos_capa_oculta_1]), name='b1')\n",
    "    b2 = tf.Variable(tf.random_normal([nodos_capa_oculta_2]), name='b2')\n",
    "    b3 = tf.Variable(tf.random_normal([10]), name='b3')"
   ]
  },
  {
   "cell_type": "markdown",
   "metadata": {},
   "source": [
    "A continuación, tenemos que configurar las entradas netas a los nodos y las funciones de activación de los nodos de capa oculta:"
   ]
  },
  {
   "cell_type": "code",
   "execution_count": 9,
   "metadata": {},
   "outputs": [],
   "source": [
    "with tf.name_scope('capa_oculta_1'):\n",
    "    # calcular la activación de la capa oculta 1\n",
    "    oculta_1_entrada = tf.add(tf.matmul(x, W1), b1)\n",
    "    oculta_1_activacion = tf.nn.relu(oculta_1_entrada)\n",
    "\n",
    "with tf.name_scope('capa_oculta_2'):\n",
    "    # calcular la activación de la capa oculta 2\n",
    "    oculta_2_entrada = tf.add(tf.matmul(oculta_1_activacion, W2), b2)\n",
    "    oculta_2_activacion = tf.nn.relu(oculta_2_entrada)"
   ]
  },
  {
   "cell_type": "markdown",
   "metadata": {},
   "source": [
    "Ahora, configuremos la capa de salida, `activacion_salida`:"
   ]
  },
  {
   "cell_type": "code",
   "execution_count": 10,
   "metadata": {},
   "outputs": [],
   "source": [
    "with tf.name_scope('capa_salida'):\n",
    "    # calcular la activación de la capa de salida - usando la función de activación softmax\n",
    "    activacion_salida = tf.nn.softmax(tf.add(tf.matmul(oculta_2_activacion, W3), b3))"
   ]
  },
  {
   "cell_type": "markdown",
   "metadata": {},
   "source": [
    "También debemos incluir una función de costo o pérdida para poder realizar la propagación hacia atrás. Aquí usaremos la función de costo de entropía cruzada, representada por:\n",
    "\n",
    "$$J(\\boldsymbol{w})=-\\frac{1}{m}\\sum_{i=1}^{m}\\sum_{j=1}^{n}y^{[i]}log(a^{[i]}_j)+(1-y^{[i]}_j)log(1-a^{[i]}_j)$$\n",
    "\n",
    "Podemos implementar esta función de costo de entropía cruzada en TensorFlow con el siguiente código:"
   ]
  },
  {
   "cell_type": "code",
   "execution_count": 11,
   "metadata": {},
   "outputs": [],
   "source": [
    "with tf.name_scope('entropia_cruzada'):\n",
    "    activacion_salida_cortada = tf.clip_by_value(activacion_salida, 1e-10, 0.9999999)\n",
    "    entropia_cruzada = -tf.reduce_mean(tf.reduce_sum(y * tf.log(activacion_salida_cortada)\n",
    "                         + (1 - y) * tf.log(1 - activacion_salida_cortada), axis=1))"
   ]
  },
  {
   "cell_type": "markdown",
   "metadata": {},
   "source": [
    "Ahora vamos a configurar el optimizador en TensorFlow:"
   ]
  },
  {
   "cell_type": "code",
   "execution_count": 12,
   "metadata": {},
   "outputs": [],
   "source": [
    "with tf.name_scope('entrenamiento'):\n",
    "    # agregar un optimizador\n",
    "    optimizador = tf.train.GradientDescentOptimizer(learning_rate=tasa_aprendizaje).minimize(entropia_cruzada)"
   ]
  },
  {
   "cell_type": "markdown",
   "metadata": {},
   "source": [
    "Finalmente configuremos la operación de inicialización variable y una operación para medir la precisión de nuestras predicciones:"
   ]
  },
  {
   "cell_type": "code",
   "execution_count": 13,
   "metadata": {},
   "outputs": [],
   "source": [
    "# inicializar las variables\n",
    "inicializar = tf.global_variables_initializer()\n",
    "\n",
    "with tf.name_scope('Exactitud'):\n",
    "    # definir la operación de exactitud\n",
    "    prediccion_corecta = tf.equal(tf.argmax(y, 1), tf.argmax(activacion_salida, 1))\n",
    "    exactitud = tf.reduce_mean(tf.cast(prediccion_corecta, tf.float32))"
   ]
  },
  {
   "cell_type": "markdown",
   "metadata": {},
   "source": [
    "Función de utilidad para generar lote de datos de entrenamineto"
   ]
  },
  {
   "cell_type": "code",
   "execution_count": 14,
   "metadata": {},
   "outputs": [],
   "source": [
    "def obtener_proximo_lote(lote, batch_size=tamaño_lote):\n",
    "    lote_x = conjunto_datos[\"imagenes_entrenamiento\"][i*tamaño_lote:(i+1)*tamaño_lote]\n",
    "    lote_y = y_entrenamiento[i*tamaño_lote:(i+1)*tamaño_lote]\n",
    "    return lote_x, lote_y"
   ]
  },
  {
   "cell_type": "markdown",
   "metadata": {},
   "source": [
    "Ahora tenemos todo lo que necesitamos para configurar el proceso de entrenamiento de nuestra red neuronal"
   ]
  },
  {
   "cell_type": "code",
   "execution_count": 15,
   "metadata": {},
   "outputs": [],
   "source": [
    "# agregar un resumen para almacenar la precisión\n",
    "tf.summary.scalar('costo', entropia_cruzada)\n",
    "tf.summary.scalar('exactitud', exactitud)\n",
    "\n",
    "unir = tf.summary.merge_all()\n",
    "escritor = tf.summary.FileWriter(\"cifar\", graph=tf.get_default_graph())"
   ]
  },
  {
   "cell_type": "markdown",
   "metadata": {},
   "source": [
    "Este es el grafo generado para la Red Neuronal:\n",
    "\n",
    "<img src='figuras/cifar-10_grafo.png' width=\"75%\">"
   ]
  },
  {
   "cell_type": "code",
   "execution_count": 16,
   "metadata": {},
   "outputs": [
    {
     "name": "stdout",
     "output_type": "stream",
     "text": [
      "Epoca: 1 costo = 3.340\n",
      "Epoca: 2 costo = 2.560\n",
      "Epoca: 3 costo = 2.443\n",
      "Epoca: 4 costo = 2.353\n",
      "Epoca: 5 costo = 2.279\n",
      "Epoca: 6 costo = 2.212\n",
      "Epoca: 7 costo = 2.153\n",
      "Epoca: 8 costo = 2.100\n",
      "Epoca: 9 costo = 2.046\n",
      "Epoca: 10 costo = 1.995\n",
      "Epoca: 11 costo = 1.951\n",
      "Epoca: 12 costo = 1.910\n",
      "Epoca: 13 costo = 1.871\n",
      "Epoca: 14 costo = 1.830\n",
      "Epoca: 15 costo = 1.796\n",
      "Epoca: 16 costo = 1.760\n",
      "Epoca: 17 costo = 1.729\n",
      "Epoca: 18 costo = 1.708\n",
      "Epoca: 19 costo = 1.679\n",
      "Epoca: 20 costo = 1.650\n",
      "Epoca: 21 costo = 1.633\n",
      "Epoca: 22 costo = 1.603\n",
      "Epoca: 23 costo = 1.590\n",
      "Epoca: 24 costo = 1.560\n",
      "Epoca: 25 costo = 1.550\n",
      "Epoca: 26 costo = 1.519\n",
      "Epoca: 27 costo = 1.506\n",
      "Epoca: 28 costo = 1.491\n",
      "Epoca: 29 costo = 1.472\n",
      "Epoca: 30 costo = 1.452\n",
      "Epoca: 31 costo = 1.450\n",
      "Epoca: 32 costo = 1.409\n",
      "Epoca: 33 costo = 1.410\n",
      "Epoca: 34 costo = 1.396\n",
      "Epoca: 35 costo = 1.384\n",
      "Epoca: 36 costo = 1.364\n",
      "Epoca: 37 costo = 1.355\n",
      "Epoca: 38 costo = 1.326\n",
      "Epoca: 39 costo = 1.328\n",
      "Epoca: 40 costo = 1.314\n",
      "Epoca: 41 costo = 1.300\n",
      "Epoca: 42 costo = 1.283\n",
      "Epoca: 43 costo = 1.284\n",
      "Epoca: 44 costo = 1.280\n",
      "Epoca: 45 costo = 1.271\n",
      "Epoca: 46 costo = 1.244\n",
      "Epoca: 47 costo = 1.258\n",
      "Epoca: 48 costo = 1.230\n",
      "Epoca: 49 costo = 1.218\n",
      "Epoca: 50 costo = 1.211\n",
      "Epoca: 51 costo = 1.238\n",
      "Epoca: 52 costo = 1.213\n",
      "Epoca: 53 costo = 1.208\n",
      "Epoca: 54 costo = 1.168\n",
      "Epoca: 55 costo = 1.170\n",
      "Epoca: 56 costo = 1.157\n",
      "Epoca: 57 costo = 1.181\n",
      "Epoca: 58 costo = 1.153\n",
      "Epoca: 59 costo = 1.139\n",
      "Epoca: 60 costo = 1.153\n",
      "Epoca: 61 costo = 1.156\n",
      "Epoca: 62 costo = 1.137\n",
      "Epoca: 63 costo = 1.126\n",
      "Epoca: 64 costo = 1.115\n",
      "Epoca: 65 costo = 1.111\n",
      "Epoca: 66 costo = 1.083\n",
      "Epoca: 67 costo = 1.103\n",
      "Epoca: 68 costo = 1.109\n",
      "Epoca: 69 costo = 1.078\n",
      "Epoca: 70 costo = 1.081\n",
      "Epoca: 71 costo = 1.089\n",
      "Epoca: 72 costo = 1.111\n",
      "Epoca: 73 costo = 1.081\n",
      "Epoca: 74 costo = 1.040\n",
      "Epoca: 75 costo = 1.058\n",
      "Epoca: 76 costo = 1.038\n",
      "Epoca: 77 costo = 1.074\n",
      "Epoca: 78 costo = 1.034\n",
      "Epoca: 79 costo = 1.038\n",
      "Epoca: 80 costo = 1.070\n",
      "Epoca: 81 costo = 1.035\n",
      "Epoca: 82 costo = 1.092\n",
      "Epoca: 83 costo = 1.039\n",
      "Epoca: 84 costo = 0.981\n",
      "Epoca: 85 costo = 1.021\n",
      "Epoca: 86 costo = 1.014\n",
      "Epoca: 87 costo = 1.067\n",
      "Epoca: 88 costo = 1.047\n",
      "Epoca: 89 costo = 0.987\n",
      "Epoca: 90 costo = 0.989\n",
      "Epoca: 91 costo = 0.992\n",
      "Epoca: 92 costo = 1.000\n",
      "Epoca: 93 costo = 0.991\n",
      "Epoca: 94 costo = 1.000\n",
      "Epoca: 95 costo = 0.977\n",
      "Epoca: 96 costo = 0.975\n",
      "Epoca: 97 costo = 0.987\n",
      "Epoca: 98 costo = 1.007\n",
      "Epoca: 99 costo = 1.002\n",
      "Epoca: 100 costo = 1.011\n",
      "\n",
      "Entrenamiento finalizado!\n",
      "Tiempo Total: 619.56s\n",
      "Exactitud Entrenamiento:  0.73804\n",
      "Exactitud Prueba:  0.4271\n"
     ]
    }
   ],
   "source": [
    "tiempoInicio = time.time()\n",
    "# arrancar la sesión\n",
    "with tf.Session() as sess:\n",
    "    # inicializar las variables\n",
    "    sess.run(inicializar)\n",
    "    total_lotes = int(len(conjunto_datos[\"imagenes_entrenamiento\"]) / tamaño_lote)\n",
    "    for epoca in range(epocas):\n",
    "        costo_promedio = 0\n",
    "        for i in range(total_lotes):\n",
    "            lote_x, lote_y = obtener_proximo_lote(lote=i, batch_size=tamaño_lote)\n",
    "            _, c = sess.run([optimizador, entropia_cruzada], feed_dict={x: lote_x, y: lote_y})\n",
    "            costo_promedio += c / total_lotes\n",
    "        print(\"Epoca:\", (epoca + 1), \"costo =\", \"{:.3f}\".format(costo_promedio))\n",
    "        sumario = sess.run(unir, feed_dict={x: conjunto_datos[\"imagenes_entrenamiento\"], y: y_entrenamiento})\n",
    "        escritor.add_summary(sumario, epoca)\n",
    "\n",
    "    tiempoFin = time.time()\n",
    "    print(\"\\nEntrenamiento finalizado!\")\n",
    "    print('Tiempo Total: {:5.2f}s'.format(tiempoFin - tiempoInicio))\n",
    "    escritor.add_graph(sess.graph)\n",
    "    print(\"Exactitud Entrenamiento: \",sess.run(exactitud, feed_dict={x: conjunto_datos[\"imagenes_entrenamiento\"], y: y_entrenamiento}))\n",
    "    print(\"Exactitud Prueba: \",sess.run(exactitud, feed_dict={x: conjunto_datos[\"imagenes_prueba\"], y: y_prueba}))"
   ]
  },
  {
   "cell_type": "markdown",
   "metadata": {},
   "source": [
    "### Gráficos"
   ]
  },
  {
   "cell_type": "markdown",
   "metadata": {},
   "source": [
    "Gráfico del Costo por Epocas:\n",
    "\n",
    "<img src='figuras/costo_cifar-10.png' width=\"75%\">"
   ]
  },
  {
   "cell_type": "markdown",
   "metadata": {},
   "source": [
    "Gráfico de la Exactitud sobre el Conjunto de Entrenamiento por Epocas:\n",
    "\n",
    "<img src='figuras/exactitud_cifar-10.png' width=\"75%\">"
   ]
  },
  {
   "cell_type": "code",
   "execution_count": null,
   "metadata": {},
   "outputs": [],
   "source": []
  }
 ],
 "metadata": {
  "kernelspec": {
   "display_name": "Python 3",
   "language": "python",
   "name": "python3"
  },
  "language_info": {
   "codemirror_mode": {
    "name": "ipython",
    "version": 3
   },
   "file_extension": ".py",
   "mimetype": "text/x-python",
   "name": "python",
   "nbconvert_exporter": "python",
   "pygments_lexer": "ipython3",
   "version": "3.6.5"
  }
 },
 "nbformat": 4,
 "nbformat_minor": 2
}
