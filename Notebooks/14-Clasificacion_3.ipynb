{
 "cells": [
  {
   "cell_type": "markdown",
   "metadata": {},
   "source": [
    "# Algoritmos de Clasificación: Regresión Logística"
   ]
  },
  {
   "cell_type": "markdown",
   "metadata": {},
   "source": [
    "## Regresión Logística"
   ]
  },
  {
   "cell_type": "markdown",
   "metadata": {},
   "source": [
    "La Regresión Logística es un modelo de clasificación que es muy fácil de implementar, pero que funciona muy bien en clases linealmente separables. Es uno de los algoritmos más utilizados para la clasificación. Al igual que el Perceptron y el Adaline, el modelo de regresión logística es también un modelo lineal para la clasificación binaria que puede extenderse a la clasificación multiclass mediante la técnica OvR (Uno contra el resto).\n",
    "\n",
    "En Regresión Logística se trata de predecir la probabilidad que un ejemplo dado pertenezca a la clase \"1\" versus la probabilidad de que pertenezca a la clase \"0\". Especificamente, se trata de aprender una función de la forma:\n",
    "\n",
    "$$P(y=1|x)=h_w(x)=\\frac{1}{1+exp(-w^Tx)}\\equiv\\sigma(w^Tx)$$\n",
    "\n",
    "$$P(y=0|x)=1-P(y=1|x)=1-h_{w}(x)$$\n",
    "\n",
    "La función\n",
    "\n",
    "$$\\sigma(z) \\equiv \\frac{1}{1+exp(-z)}$$\n",
    "\n",
    "se llama a menudo función \"sigmoide\" o \"logística\", es una función en S que \"aplana\" el valor de $w^Tx$ al rango [0,1] para que se pueda interpretar $h_w(x)$ como una probabilidad. La meta es buscar un valor de $w$ para que la probabilidad $P(y=1|x)=h_w(x)$ sea grande cuando $x$ pertenece a la clase \"1\" y pequeña cuando $x$ pertenece a la clase \"0\" (de manera que $P(y=0|x)$ es grande). Para un conjunto de ejemplos de entrenamiento con etiquetas binarias $\\{(x^{(i)}, y^{(i)}): i = 1, ..., m\\}$ la siguiente función de coste mide cuán bien una $h_w$ dada hace esto:\n",
    "\n",
    "$$J(w)=-\\sum{(y^{(i)}log(h_{w}x^{(i)}))+(1-y^{(i)})log(1-h_{w}x^{(i)}))}$$\n",
    "\n",
    "Sólo uno de los dos términos de la suma es diferente de cero para cada ejemplo de entrenamiento (dependiendo de si la etiqueta $y^{(i)}$ es 0 o 1). Cuando $y^{(i)}= 1$ minimizar la función de coste significa que es necesario hacer $h_{w}(x^{(i)})$ grande, y cuando $y^{(i)} = 0$ se debe hacer $1-h_{w}$ grande.\n",
    "\n",
    "La función de costo mide cuán bien una hipótesis $h_{w}$ se ajusta a los datos de entrenamiento. Se puede aprender a clasificar los datos de entrenamiento minimizando $J(w)$ para encontrar la mejor opción de $w$. Una vez hecho esto, se puede clasificar un nuevo punto de prueba como \"1\" o \"0\" comprobando cuál de estas dos etiquetas de clase es más probable: si $P (y = 1 | x)> P (y = 0 | x )$ entonces etiquetamos el ejemplo como \"1\", y \"0\" de lo contrario. Esto es lo mismo que comprobar si $h_{w} (x)> 0.5$.\n",
    "\n",
    "El gradiente de la función de coste es igual a:\n",
    "\n",
    "$$\\frac{∂J}{∂w_j} = -\\sum_{i}(y^{(i)}-\\sigma(z^{(i)}))x_j^{(i)}$$"
   ]
  },
  {
   "cell_type": "markdown",
   "metadata": {},
   "source": [
    "### Arquitectura de la Regresión Logística\n",
    "\n",
    "La arquitectura de un clasifcador de Regresión Logística se puede relacionar con la del Adaline, simplemente sustituyendo la función de activación por la función sigmoide\n",
    "\n",
    "<img src=\"figuras/RegresionLogistica.png\" width=\"75%\">"
   ]
  },
  {
   "cell_type": "markdown",
   "metadata": {},
   "source": [
    "### Función Sigmoide\n",
    "A continuación se muestra una gráfico de la función sigmoide para algunos valores en el rango de -10 a 10."
   ]
  },
  {
   "cell_type": "code",
   "execution_count": 1,
   "metadata": {
    "collapsed": true
   },
   "outputs": [],
   "source": [
    "import matplotlib.pyplot as plt\n",
    "import numpy as np\n",
    "\n",
    "\n",
    "def sigmoide(z):\n",
    "    return 1.0 / (1.0 + np.exp(-z))\n",
    "\n",
    "z = np.arange(-10, 10, 0.1)\n",
    "phi_z = sigmoide(z)\n",
    "\n",
    "plt.plot(z, phi_z)\n",
    "plt.axvline(0.0, color='k')\n",
    "plt.ylim(-0.05, 1.05)\n",
    "plt.xlabel('z')\n",
    "plt.ylabel('$\\phi (z)$')\n",
    "\n",
    "plt.yticks([0.0, 0.5, 1.0])\n",
    "ax = plt.gca()\n",
    "ax.yaxis.grid(True)\n",
    "\n",
    "plt.show()"
   ]
  },
  {
   "cell_type": "markdown",
   "metadata": {},
   "source": [
    "## Gráfica de la Función de Coste"
   ]
  },
  {
   "cell_type": "markdown",
   "metadata": {},
   "source": [
    "La siguiente gráfica siguiente ilustra el coste para la clasificación de una instancia de una sola muestra para diferentes valores de $\\sigma(z)$\n",
    "\n",
    "Se puede observar que el costo se aproxima a 0 (línea azul simple) si se predice correctamente que un ejemplo pertenece a la clase 1. Del mismo modo, podemos ver en el eje $y$ que el coste también se aproxima a 0 si predecimos correctamente $y = 0$ (línea discontinua). Sin embargo, si la predicción es incorrecta, el costo va hacia infinito. La moraleja es que se penaliza predicciones erróneas con un costo cada vez mayor"
   ]
  },
  {
   "cell_type": "code",
   "execution_count": 2,
   "metadata": {
    "collapsed": true
   },
   "outputs": [],
   "source": [
    "def coste_1(z):\n",
    "    return - np.log(sigmoide(z))\n",
    "\n",
    "\n",
    "def coste_0(z):\n",
    "    return - np.log(1 - sigmoide(z))\n",
    "\n",
    "z = np.arange(-10, 10, 0.1)\n",
    "phi_z = sigmoide(z)\n",
    "\n",
    "c1 = [coste_1(x) for x in z]\n",
    "plt.plot(phi_z, c1, label='J(w) si y=1')\n",
    "\n",
    "c0 = [coste_0(x) for x in z]\n",
    "plt.plot(phi_z, c0, linestyle='--', label='J(w) si y=0')\n",
    "\n",
    "plt.ylim(0.0, 5.1)\n",
    "plt.xlim([0, 1])\n",
    "plt.xlabel('$\\sigma$(z)')\n",
    "plt.ylabel('J(w)')\n",
    "plt.legend(loc='best')\n",
    "plt.tight_layout()\n",
    "plt.show()"
   ]
  },
  {
   "cell_type": "markdown",
   "metadata": {},
   "source": [
    "## Ventajas y desventajas de la Regresión Logística"
   ]
  },
  {
   "cell_type": "markdown",
   "metadata": {},
   "source": [
    "### Ventajas:\n",
    "+ Rapido y fácil para entrenar\n",
    "+ Rapido para aplicar\n",
    "+ Robusto al ruido\n",
    "+ La varianza es baja\n",
    "+ La salida se puede interpretar como una probabilidad"
   ]
  },
  {
   "cell_type": "markdown",
   "metadata": {},
   "source": [
    "### Desventajas:\n",
    "+ Menos preciso que otros métodos\n",
    "+ No se pueden resolver problemas no lineales ya que su superficie de decisión es lineal\n",
    "+ El espacio de hipotesis es limitado ya que es un modelo lineal generalizado\n",
    "+ Alto sesgo"
   ]
  },
  {
   "cell_type": "code",
   "execution_count": 3,
   "metadata": {
    "collapsed": true
   },
   "outputs": [],
   "source": [
    "from matplotlib.colors import ListedColormap\n",
    "\n",
    "\n",
    "def graficar_regiones_decision(X, y, clasificador, resolucion=0.02):\n",
    "\n",
    "    # fijar los marcadores y el mapa de colores\n",
    "    marcadores = ('s', 'x', 'o', '^', 'v')\n",
    "    colores = ('red', 'blue', 'lightgreen', 'gray', 'cyan')\n",
    "    mapa_colores = ListedColormap(colores[:len(np.unique(y))])\n",
    "\n",
    "    # plot the decision surface\n",
    "    x1_min, x1_max = X[:, 0].min() - 1, X[:, 0].max() + 1\n",
    "    x2_min, x2_max = X[:, 1].min() - 1, X[:, 1].max() + 1\n",
    "    xx1, xx2 = np.meshgrid(np.arange(x1_min, x1_max, resolucion),\n",
    "                           np.arange(x2_min, x2_max, resolucion))\n",
    "    Z = clasificador.predict(np.array([xx1.ravel(), xx2.ravel()]).T)\n",
    "    Z = Z.reshape(xx1.shape)\n",
    "    plt.contourf(xx1, xx2, Z, alpha=0.4, cmap=mapa_colores)\n",
    "    plt.xlim(xx1.min(), xx1.max())\n",
    "    plt.ylim(xx2.min(), xx2.max())\n",
    "\n",
    "    # graficar los ejemplos de clases\n",
    "    for idx, cl in enumerate(np.unique(y)):\n",
    "        plt.scatter(x=X[y == cl, 0], y=X[y == cl, 1],\n",
    "                    alpha=0.8, c=mapa_colores(idx),\n",
    "                    edgecolor='black',\n",
    "                    marker=marcadores[idx], \n",
    "                    label=cl)"
   ]
  },
  {
   "cell_type": "markdown",
   "metadata": {},
   "source": [
    "## Algoritmo de Regresión Logística"
   ]
  },
  {
   "cell_type": "markdown",
   "metadata": {},
   "source": [
    "La siguiente implementación esta basada en el algoritmo del Adaline, solamente modificando la función de actualizacion."
   ]
  },
  {
   "cell_type": "code",
   "execution_count": 4,
   "metadata": {
    "collapsed": true
   },
   "outputs": [],
   "source": [
    "class RegresionLogistica(object):\n",
    "    \n",
    "    def __init__(self, eta=0.01, num_iteraciones=50):\n",
    "        self.eta = eta\n",
    "        self.num_iteraciones = num_iteraciones\n",
    "\n",
    "    def fit(self, X, y):\n",
    "        \n",
    "        self.w_ = np.zeros(1 + X.shape[1])\n",
    "        self.coste_ = []\n",
    "\n",
    "        for i in range(self.num_iteraciones):\n",
    "            entrada = self.entrada(X)\n",
    "            # En este caso el método \"activacion\" es la función sigmoide\n",
    "            salida = self.activacion(X)\n",
    "            errores = (y - salida)\n",
    "            self.w_[1:] += self.eta * X.T.dot(errores)\n",
    "            self.w_[0] += self.eta * errores.sum()\n",
    "            coste = (errores**2).sum() / 2.0\n",
    "            self.coste_.append(coste)\n",
    "        return self\n",
    "\n",
    "    def entrada(self, X):\n",
    "        #Calcular la entrada\n",
    "        return np.dot(X, self.w_[1:]) + self.w_[0]\n",
    "\n",
    "    def activacion(self, X):\n",
    "        #Calcular la activación lineal\n",
    "        return sigmoide(self.entrada(X))\n",
    "\n",
    "    def predict(self, X):\n",
    "        # Retornar la etiqueta de la clase\n",
    "        return np.where(self.activacion(X) >= 0.5, 1, 0)"
   ]
  },
  {
   "cell_type": "markdown",
   "metadata": {},
   "source": [
    "### Probar el algoritmo con el conjunto de datos de Iris"
   ]
  },
  {
   "cell_type": "markdown",
   "metadata": {},
   "source": [
    "Se tomarán solo los primeros 100 ejemplos del conjunto de datos. Los ejemplos con las flores Iris-setosa e Iris-vericolor. Y solo dos de los atributos el largo del sepalo y el largo del petalo. Con estos datos el problema es linealmente separable"
   ]
  },
  {
   "cell_type": "code",
   "execution_count": 23,
   "metadata": {},
   "outputs": [
    {
     "data": {
      "text/plain": [
       "numpy.ndarray"
      ]
     },
     "execution_count": 23,
     "metadata": {},
     "output_type": "execute_result"
    }
   ],
   "source": [
    "import pandas as pd\n",
    "\n",
    "df = pd.read_csv('./datos/iris.csv', header=None)\n",
    "df.tail()"
   ]
  },
  {
   "cell_type": "markdown",
   "metadata": {},
   "source": [
    "Crear los conjuntos X e y. Y normalizar los X usando el `StandardScalar` de sklearn. Graficar los datos para poder observar que son linealmente separables."
   ]
  },
  {
   "cell_type": "code",
   "execution_count": 6,
   "metadata": {},
   "outputs": [
    {
     "data": {
      "image/png": "[encoded data removed]",
      "text/plain": [
       "<matplotlib.figure.Figure at 0x11d89b390>"
      ]
     },
     "metadata": {},
     "output_type": "display_data"
    }
   ],
   "source": [
    "%matplotlib inline\n",
    "import matplotlib.pyplot as plt\n",
    "import numpy as np\n",
    "from sklearn.preprocessing import StandardScaler\n",
    "\n",
    "# seleccionar setosa y versicolor\n",
    "y = df.iloc[0:100, 4].values\n",
    "y = np.where(y == 'Iris-setosa', 0, 1)\n",
    "\n",
    "# extraer el largo del sepalo y el largo del petalo\n",
    "X = df.iloc[0:100, [0, 2]].values\n",
    "sc = StandardScaler()\n",
    "X = sc.fit_transform(X)\n",
    "# graficar la data\n",
    "plt.scatter(X[:50, 0], X[:50, 1],\n",
    "            color='red', marker='o', label='setosa')\n",
    "plt.scatter(X[50:100, 0], X[50:100, 1],\n",
    "            color='blue', marker='x', label='versicolor')\n",
    "\n",
    "plt.xlabel('largo sepalo [cm]')\n",
    "plt.ylabel('largo petalo [cm]')\n",
    "plt.legend(loc='upper left')\n",
    "\n",
    "plt.tight_layout()\n",
    "plt.show()"
   ]
  },
  {
   "cell_type": "markdown",
   "metadata": {},
   "source": [
    "### Aplicar el algoritmo de Regresión Logística\n",
    "\n",
    "Mostrar gráfico de las regiones de decisión y de la función de coste"
   ]
  },
  {
   "cell_type": "code",
   "execution_count": 7,
   "metadata": {},
   "outputs": [
    {
     "data": {
      "image/png": "[encoded data removed]",
      "text/plain": [
       "<matplotlib.figure.Figure at 0x11d803a20>"
      ]
     },
     "metadata": {},
     "output_type": "display_data"
    },
    {
     "data": {
      "image/png": "[encoded data removed]",
      "text/plain": [
       "<matplotlib.figure.Figure at 0x1a1f81e198>"
      ]
     },
     "metadata": {},
     "output_type": "display_data"
    }
   ],
   "source": [
    "rl = RegresionLogistica(num_iteraciones=50, eta=0.01)\n",
    "rl.fit(X, y)\n",
    "graficar_regiones_decision(X, y, clasificador=rl)\n",
    "plt.title('Regresión Logística - Descenso de Gradiente')\n",
    "plt.xlabel('largo sepalo [normalizado]')\n",
    "plt.ylabel('largo petalo [normalizado]')\n",
    "plt.legend(loc='upper left')\n",
    "plt.tight_layout()\n",
    "plt.show()\n",
    "\n",
    "plt.plot(range(1, len(rl.coste_) + 1), rl.coste_, marker='o')\n",
    "plt.xlabel('Epocas')\n",
    "plt.ylabel('Suma-Cuadrados-Errores')\n",
    "\n",
    "plt.tight_layout()\n",
    "plt.show()"
   ]
  },
  {
   "cell_type": "markdown",
   "metadata": {},
   "source": [
    "### Aplicar el algoritmo de Regresión Logística de sklearn\n",
    "\n",
    "Mostrar gráfico de las regiones de decisión"
   ]
  },
  {
   "cell_type": "code",
   "execution_count": 17,
   "metadata": {},
   "outputs": [
    {
     "data": {
      "image/png": "[encoded data removed]",
      "text/plain": [
       "<matplotlib.figure.Figure at 0x11ddb2400>"
      ]
     },
     "metadata": {},
     "output_type": "display_data"
    }
   ],
   "source": [
    "from sklearn.linear_model import LogisticRegression\n",
    "lr = LogisticRegression()\n",
    "lr.fit(X, y)\n",
    "graficar_regiones_decision(X, y, clasificador=lr)\n",
    "plt.title('Regresión Logística - Descenso de Gradiente')\n",
    "plt.xlabel('largo sepalo [normalizado]')\n",
    "plt.ylabel('largo petalo [normalizado]')\n",
    "plt.legend(loc='upper left')\n",
    "plt.tight_layout()\n",
    "plt.show()"
   ]
  }
 ],
 "metadata": {
  "anaconda-cloud": {},
  "kernelspec": {
   "display_name": "Python 3",
   "language": "python",
   "name": "python3"
  },
  "language_info": {
   "codemirror_mode": {
    "name": "ipython",
    "version": 3
   },
   "file_extension": ".py",
   "mimetype": "text/x-python",
   "name": "python",
   "nbconvert_exporter": "python",
   "pygments_lexer": "ipython3",
   "version": "3.6.4"
  }
 },
 "nbformat": 4,
 "nbformat_minor": 2
}
