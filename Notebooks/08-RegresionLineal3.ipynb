{
 "cells": [
  {
   "cell_type": "markdown",
   "metadata": {},
   "source": [
    "# Regresión Lineal:\n",
    "\n",
    "## Ingeniería de Atributos (Feature Engineering)\n",
    "\n",
    "La ingeniería de atributos es el proceso de utilizar el conocimiento del dominio de los datos para crear atributos o variables que se pueden usar en el aprendizaje automático. La ingeniería de atributos es fundamental para que los modelos de aprendizaje automático hagan predicciones precisas e incluye, desde completar datos faltantes dentro de una variable hasta transformación variable mediante funciones o discretización, codificación de variables categóricas y creación de nuevas variables a partir de variables existentes.\n",
    "\n",
    "\n",
    "<img src=\"figuras/IngenieriaAtributos.png\" width=\"75%\"/>\n",
    "\n",
    "Por lo general, un **atributo** es una representación específica sobre los datos sin procesar, que es una propiedad individual medible, representado típicamente por una columna en un conjunto de datos.\n",
    "\n",
    "Algunas citas relevantes para la ingeniería de atributos de varias personas de renombre en el mundo de la Ciencia de Datos.\n",
    "\n",
    "- _Prof. Andrew Ng_:\n",
    "\n",
    "> \"Encontrar los atributos es difícil, lleva mucho tiempo, requiere conocimiento experto. _Aprendizaje automático aplicado_ es básicamente ingeniería de atributos\".\n",
    "\n",
    "- _Dr. Jason Brownlee_:\n",
    "\n",
    "> \"La ingeniería de atributos es el proceso de transformar datos brutos en los atributos que mejor representan el problema subyacente a los modelos predictivos, lo que resulta en una mejor precisión del modelo en datos no vistos\". \n",
    "\n",
    "- _Prof. Pedro Domingos_:\n",
    "\n",
    ">\"Al final del día, algunos proyectos de aprendizaje automático tienen éxito y algunos fracasan. ¿Qué hace la diferencia? Fácilmente, el factor más importante son los atributos utilizadas \".\n",
    "\n",
    "- _Xavier Conort_:\n",
    "\n",
    "> \"Los algoritmos que usamos son muy estándar para Kagglers. ... Dedicamos la mayor parte de nuestros esfuerzos en la ingeniería de atributos. ... También fuimos muy cuidadosos al descartar los atributos que probablemente nos expongan al riesgo de sobreajustar nuestro modelo \".\n",
    "\n",
    "En el caso de la regresión múltiple se incluyen atributos diferentes (por ejemplo, número de dormitorios, pies cuadrados y número de baños), pero también podemos considerar las transformaciones de los atributos existentes, por ejemplo, el logaritmo de los pies cuadrados e incluso \"interacción\" entre atributos como el producto de dormitorios y baños.\n",
    "\n"
   ]
  },
  {
   "cell_type": "markdown",
   "metadata": {},
   "source": [
    "## Evaluar los modelos usando RSS (Suma al Cuadrado de los Residuales)\n",
    "\n",
    "Una medida de evaluación de los modelos es la suma al cuadrado de los residuales, donde residual es la diferencia entre los valores reales de la salida y las predicciones:\n",
    "\n",
    "$$RSS = \\sum_{i=1}^{N}(\\hat{y}_i-y_i)^2$$\n",
    "\n",
    "Si dividimos RSS por el número de observaciones, obtenemos el MSE o error cuadrado promedio:\n",
    "\n",
    "$$MSE = \\frac{1}{N}\\sum_{i=1}^{N}(\\hat{y}_i-y_i)^2$$\n",
    "\n",
    "Si tomamos la raiz cuadrada del MSE obtendremos el RMSE o raiz cuadrada del error cuadrado promedio:\n",
    "\n",
    "$$RMSE = \\sqrt{\\frac{1}{N}\\sum_{i=1}^{N}(\\hat{y}_i-y_i)^2}$$\n"
   ]
  },
  {
   "cell_type": "code",
   "execution_count": 1,
   "metadata": {},
   "outputs": [],
   "source": [
    "# importar\n",
    "import pandas as pd\n",
    "import matplotlib.pyplot as plt\n",
    "import numpy as np\n",
    "from math import log, sqrt\n",
    "# Esto permite que los gráficos aparezcan directamente en el cuaderno\n",
    "%matplotlib inline"
   ]
  },
  {
   "cell_type": "markdown",
   "metadata": {},
   "source": [
    "# Cargar algunos datos de ventas de casas\n",
    "Los datos son de las ventas de casas en el Condado de King, la región donde se encuentra la ciudad de Seattle"
   ]
  },
  {
   "cell_type": "code",
   "execution_count": 2,
   "metadata": {},
   "outputs": [],
   "source": [
    "ventas = pd.read_csv('datos/kc_house_data.csv')"
   ]
  },
  {
   "cell_type": "markdown",
   "metadata": {},
   "source": [
    "## Crear un modelo de regresión multiple con `sqft_living`, `bedrooms`, `bathrooms` y `price`\n",
    "\n",
    "Dividir datos en entrenamiento y prueba."
   ]
  },
  {
   "cell_type": "code",
   "execution_count": 3,
   "metadata": {},
   "outputs": [],
   "source": [
    "from sklearn.model_selection import train_test_split\n",
    "atributos_cols = ['sqft_living', 'bedrooms', 'bathrooms']\n",
    "X = ventas[atributos_cols]\n",
    "y = ventas.price\n",
    "X_entrenamiento, X_prueba, y_entrenamiento, y_prueba = train_test_split(\n",
    "    X, y, random_state=0)"
   ]
  },
  {
   "cell_type": "markdown",
   "metadata": {},
   "source": [
    "Instanciar el modelo de regresión lineal y llamar la función de ajuste"
   ]
  },
  {
   "cell_type": "code",
   "execution_count": 4,
   "metadata": {},
   "outputs": [
    {
     "name": "stdout",
     "output_type": "stream",
     "text": [
      "72730.96392812347\n",
      "[   310.84340649 -54376.31667078   2498.26665289]\n"
     ]
    }
   ],
   "source": [
    "# seguir el patron de uso de sklearn: importar, instanciar, ajustar\n",
    "from sklearn.linear_model import LinearRegression\n",
    "lm = LinearRegression()\n",
    "lm.fit(X_entrenamiento, y_entrenamiento)\n",
    "\n",
    "# imprimir intercepto y coeficientes\n",
    "print (lm.intercept_)\n",
    "print (lm.coef_)"
   ]
  },
  {
   "cell_type": "markdown",
   "metadata": {},
   "source": [
    "Evaluar el modelo"
   ]
  },
  {
   "cell_type": "code",
   "execution_count": 5,
   "metadata": {},
   "outputs": [
    {
     "data": {
      "text/plain": [
       "0.5003571796501294"
      ]
     },
     "execution_count": 5,
     "metadata": {},
     "output_type": "execute_result"
    }
   ],
   "source": [
    "lm.score(X_prueba, y_prueba)"
   ]
  },
  {
   "cell_type": "markdown",
   "metadata": {},
   "source": [
    "Realizar las predicciones"
   ]
  },
  {
   "cell_type": "code",
   "execution_count": 6,
   "metadata": {},
   "outputs": [
    {
     "data": {
      "text/plain": [
       "17384    115231.801844\n",
       "722     -263016.227833\n",
       "2680    -148633.464081\n",
       "18754   -313770.353429\n",
       "14554     69953.396510\n",
       "Name: price, dtype: float64"
      ]
     },
     "execution_count": 6,
     "metadata": {},
     "output_type": "execute_result"
    }
   ],
   "source": [
    "predicciones = lm.predict(X_prueba)\n",
    "predicciones[0:5] - y_prueba[0:5]"
   ]
  },
  {
   "cell_type": "markdown",
   "metadata": {},
   "source": [
    "## Calcular RSS\n",
    "\n",
    "Ahora que podemos hacer predicciones dado el modelo, vamos a escribir una función para calcular el RSS del modelo."
   ]
  },
  {
   "cell_type": "code",
   "execution_count": 7,
   "metadata": {},
   "outputs": [],
   "source": [
    "def obtener_RSS(modelo, datos, salida):\n",
    "    # Primero obtener las predicciones\n",
    "    predicciones = modelo.predict(datos)\n",
    "    # Calcular los residuales \n",
    "    residuales = salida - predicciones\n",
    "    # Elevarlos al cuadrado y sumarlos\n",
    "    RSS = (residuales * residuales).sum()\n",
    "    return(RSS) "
   ]
  },
  {
   "cell_type": "markdown",
   "metadata": {},
   "source": [
    "Calcular RSS, MSE y RMSE del modelo"
   ]
  },
  {
   "cell_type": "code",
   "execution_count": 8,
   "metadata": {},
   "outputs": [
    {
     "name": "stdout",
     "output_type": "stream",
     "text": [
      "RSS =  358678859678731.06\n",
      "MSE =  66372845980.52018\n",
      "RMSE = 257629.2801304234\n"
     ]
    }
   ],
   "source": [
    "RSS = obtener_RSS(lm, X_prueba, y_prueba)\n",
    "MSE = RSS/(len(y_prueba))\n",
    "RMSE = sqrt(MSE)\n",
    "print('RSS = ', RSS)\n",
    "print('MSE = ', MSE)\n",
    "print('RMSE =', RMSE)"
   ]
  },
  {
   "cell_type": "markdown",
   "metadata": {},
   "source": [
    "## Crear algunos nuevos atributos\n",
    "\n",
    "Utilizaremos la función logaritmo para crear una nuevo atributo. Por lo que primero se debe importar de la biblioteca de matemáticas."
   ]
  },
  {
   "cell_type": "markdown",
   "metadata": {},
   "source": [
    "A continuación, crear los siguientes 4 nuevos atributos como columna en los datos de Entrenamiento y Prueba:\n",
    "- bedrooms_squared = bedrooms * bedrooms\n",
    "- bed_bath_rooms = bedrooms * bathrooms\n",
    "- log_sqft_living = log(sqft_living)\n",
    "- lat_plus_long = lat + long"
   ]
  },
  {
   "cell_type": "code",
   "execution_count": 9,
   "metadata": {},
   "outputs": [],
   "source": [
    "# bedrooms_squared\n",
    "ventas['bedrooms_squared'] = ventas['bedrooms'].apply(lambda x: x**2)\n",
    "# bed_bath_rooms\n",
    "ventas['bed_bath_rooms'] = ventas['bedrooms'] * ventas['bathrooms']\n",
    "# log_sqft_living\n",
    "ventas['log_sqft_living'] = ventas['sqft_living'].apply(lambda x: log(x))\n",
    "# lat_plus_long\n",
    "ventas['lat_plus_long'] = ventas['lat'] + ventas['long']"
   ]
  },
  {
   "cell_type": "code",
   "execution_count": 10,
   "metadata": {},
   "outputs": [
    {
     "data": {
      "text/html": [
       "<div>\n",
       "<style scoped>\n",
       "    .dataframe tbody tr th:only-of-type {\n",
       "        vertical-align: middle;\n",
       "    }\n",
       "\n",
       "    .dataframe tbody tr th {\n",
       "        vertical-align: top;\n",
       "    }\n",
       "\n",
       "    .dataframe thead th {\n",
       "        text-align: right;\n",
       "    }\n",
       "</style>\n",
       "<table border=\"1\" class=\"dataframe\">\n",
       "  <thead>\n",
       "    <tr style=\"text-align: right;\">\n",
       "      <th></th>\n",
       "      <th>id</th>\n",
       "      <th>date</th>\n",
       "      <th>price</th>\n",
       "      <th>bedrooms</th>\n",
       "      <th>bathrooms</th>\n",
       "      <th>sqft_living</th>\n",
       "      <th>sqft_lot</th>\n",
       "      <th>floors</th>\n",
       "      <th>waterfront</th>\n",
       "      <th>view</th>\n",
       "      <th>...</th>\n",
       "      <th>yr_renovated</th>\n",
       "      <th>zipcode</th>\n",
       "      <th>lat</th>\n",
       "      <th>long</th>\n",
       "      <th>sqft_living15</th>\n",
       "      <th>sqft_lot15</th>\n",
       "      <th>bedrooms_squared</th>\n",
       "      <th>bed_bath_rooms</th>\n",
       "      <th>log_sqft_living</th>\n",
       "      <th>lat_plus_long</th>\n",
       "    </tr>\n",
       "  </thead>\n",
       "  <tbody>\n",
       "    <tr>\n",
       "      <th>0</th>\n",
       "      <td>7129300520</td>\n",
       "      <td>20141013T000000</td>\n",
       "      <td>221900.0</td>\n",
       "      <td>3</td>\n",
       "      <td>1.00</td>\n",
       "      <td>1180</td>\n",
       "      <td>5650</td>\n",
       "      <td>1.0</td>\n",
       "      <td>0</td>\n",
       "      <td>0</td>\n",
       "      <td>...</td>\n",
       "      <td>0</td>\n",
       "      <td>98178</td>\n",
       "      <td>47.5112</td>\n",
       "      <td>-122.257</td>\n",
       "      <td>1340</td>\n",
       "      <td>5650</td>\n",
       "      <td>9</td>\n",
       "      <td>3.00</td>\n",
       "      <td>7.073270</td>\n",
       "      <td>-74.7458</td>\n",
       "    </tr>\n",
       "    <tr>\n",
       "      <th>1</th>\n",
       "      <td>6414100192</td>\n",
       "      <td>20141209T000000</td>\n",
       "      <td>538000.0</td>\n",
       "      <td>3</td>\n",
       "      <td>2.25</td>\n",
       "      <td>2570</td>\n",
       "      <td>7242</td>\n",
       "      <td>2.0</td>\n",
       "      <td>0</td>\n",
       "      <td>0</td>\n",
       "      <td>...</td>\n",
       "      <td>1991</td>\n",
       "      <td>98125</td>\n",
       "      <td>47.7210</td>\n",
       "      <td>-122.319</td>\n",
       "      <td>1690</td>\n",
       "      <td>7639</td>\n",
       "      <td>9</td>\n",
       "      <td>6.75</td>\n",
       "      <td>7.851661</td>\n",
       "      <td>-74.5980</td>\n",
       "    </tr>\n",
       "    <tr>\n",
       "      <th>2</th>\n",
       "      <td>5631500400</td>\n",
       "      <td>20150225T000000</td>\n",
       "      <td>180000.0</td>\n",
       "      <td>2</td>\n",
       "      <td>1.00</td>\n",
       "      <td>770</td>\n",
       "      <td>10000</td>\n",
       "      <td>1.0</td>\n",
       "      <td>0</td>\n",
       "      <td>0</td>\n",
       "      <td>...</td>\n",
       "      <td>0</td>\n",
       "      <td>98028</td>\n",
       "      <td>47.7379</td>\n",
       "      <td>-122.233</td>\n",
       "      <td>2720</td>\n",
       "      <td>8062</td>\n",
       "      <td>4</td>\n",
       "      <td>2.00</td>\n",
       "      <td>6.646391</td>\n",
       "      <td>-74.4951</td>\n",
       "    </tr>\n",
       "    <tr>\n",
       "      <th>3</th>\n",
       "      <td>2487200875</td>\n",
       "      <td>20141209T000000</td>\n",
       "      <td>604000.0</td>\n",
       "      <td>4</td>\n",
       "      <td>3.00</td>\n",
       "      <td>1960</td>\n",
       "      <td>5000</td>\n",
       "      <td>1.0</td>\n",
       "      <td>0</td>\n",
       "      <td>0</td>\n",
       "      <td>...</td>\n",
       "      <td>0</td>\n",
       "      <td>98136</td>\n",
       "      <td>47.5208</td>\n",
       "      <td>-122.393</td>\n",
       "      <td>1360</td>\n",
       "      <td>5000</td>\n",
       "      <td>16</td>\n",
       "      <td>12.00</td>\n",
       "      <td>7.580700</td>\n",
       "      <td>-74.8722</td>\n",
       "    </tr>\n",
       "    <tr>\n",
       "      <th>4</th>\n",
       "      <td>1954400510</td>\n",
       "      <td>20150218T000000</td>\n",
       "      <td>510000.0</td>\n",
       "      <td>3</td>\n",
       "      <td>2.00</td>\n",
       "      <td>1680</td>\n",
       "      <td>8080</td>\n",
       "      <td>1.0</td>\n",
       "      <td>0</td>\n",
       "      <td>0</td>\n",
       "      <td>...</td>\n",
       "      <td>0</td>\n",
       "      <td>98074</td>\n",
       "      <td>47.6168</td>\n",
       "      <td>-122.045</td>\n",
       "      <td>1800</td>\n",
       "      <td>7503</td>\n",
       "      <td>9</td>\n",
       "      <td>6.00</td>\n",
       "      <td>7.426549</td>\n",
       "      <td>-74.4282</td>\n",
       "    </tr>\n",
       "  </tbody>\n",
       "</table>\n",
       "<p>5 rows × 25 columns</p>\n",
       "</div>"
      ],
      "text/plain": [
       "           id             date     price  bedrooms  bathrooms  sqft_living  \\\n",
       "0  7129300520  20141013T000000  221900.0         3       1.00         1180   \n",
       "1  6414100192  20141209T000000  538000.0         3       2.25         2570   \n",
       "2  5631500400  20150225T000000  180000.0         2       1.00          770   \n",
       "3  2487200875  20141209T000000  604000.0         4       3.00         1960   \n",
       "4  1954400510  20150218T000000  510000.0         3       2.00         1680   \n",
       "\n",
       "   sqft_lot  floors  waterfront  view      ...        yr_renovated  zipcode  \\\n",
       "0      5650     1.0           0     0      ...                   0    98178   \n",
       "1      7242     2.0           0     0      ...                1991    98125   \n",
       "2     10000     1.0           0     0      ...                   0    98028   \n",
       "3      5000     1.0           0     0      ...                   0    98136   \n",
       "4      8080     1.0           0     0      ...                   0    98074   \n",
       "\n",
       "       lat     long  sqft_living15  sqft_lot15  bedrooms_squared  \\\n",
       "0  47.5112 -122.257           1340        5650                 9   \n",
       "1  47.7210 -122.319           1690        7639                 9   \n",
       "2  47.7379 -122.233           2720        8062                 4   \n",
       "3  47.5208 -122.393           1360        5000                16   \n",
       "4  47.6168 -122.045           1800        7503                 9   \n",
       "\n",
       "   bed_bath_rooms  log_sqft_living  lat_plus_long  \n",
       "0            3.00         7.073270       -74.7458  \n",
       "1            6.75         7.851661       -74.5980  \n",
       "2            2.00         6.646391       -74.4951  \n",
       "3           12.00         7.580700       -74.8722  \n",
       "4            6.00         7.426549       -74.4282  \n",
       "\n",
       "[5 rows x 25 columns]"
      ]
     },
     "execution_count": 10,
     "metadata": {},
     "output_type": "execute_result"
    }
   ],
   "source": [
    "ventas.head()"
   ]
  },
  {
   "cell_type": "markdown",
   "metadata": {},
   "source": [
    "## Aprender múltiples modelos"
   ]
  },
  {
   "cell_type": "markdown",
   "metadata": {},
   "source": [
    "Ahora aprenderemos los pesos de tres modelos para la predicción de los precios de las viviendas. El primer modelo tendra menos atributos, el segundo tendra más atributos y el tercer aún más:\n",
    "\n",
    "* Modelo 1: pies cuadrados, # cuartos, # baños, latitud y longitud\n",
    "* Modelo 2: agregar cuartos\\*baños\n",
    "* Modelo 3: agregar logaritmo de pies cuadrados, cuartos al cuadrado, y latitud + longitud"
   ]
  },
  {
   "cell_type": "code",
   "execution_count": 11,
   "metadata": {},
   "outputs": [],
   "source": [
    "atributos_modelo_1 = ['sqft_living', 'bedrooms', 'bathrooms', 'lat', 'long']\n",
    "atributos_modelo_2 = atributos_modelo_1 + ['bed_bath_rooms']\n",
    "atributos_modelo_3 = atributos_modelo_2 + ['bedrooms_squared', 'log_sqft_living', 'lat_plus_long']"
   ]
  },
  {
   "cell_type": "markdown",
   "metadata": {},
   "source": [
    "Entrenar los modelos"
   ]
  },
  {
   "cell_type": "code",
   "execution_count": 12,
   "metadata": {},
   "outputs": [
    {
     "data": {
      "text/plain": [
       "LinearRegression(copy_X=True, fit_intercept=True, n_jobs=1, normalize=False)"
      ]
     },
     "execution_count": 12,
     "metadata": {},
     "output_type": "execute_result"
    }
   ],
   "source": [
    "# Modelo 1\n",
    "X = ventas[atributos_modelo_1]\n",
    "y = ventas.price\n",
    "X_entrenamiento_1, X_prueba_1, y_entrenamiento_1, y_prueba_1 = train_test_split(\n",
    "    X, y, random_state=0)\n",
    "modelo_1 = LinearRegression()\n",
    "modelo_1.fit(X_entrenamiento_1, y_entrenamiento_1)\n",
    "\n",
    "# Modelo 2\n",
    "X = ventas[atributos_modelo_2]\n",
    "y = ventas.price\n",
    "X_entrenamiento_2, X_prueba_2, y_entrenamiento_2, y_prueba_2 = train_test_split(\n",
    "    X, y, random_state=0)\n",
    "modelo_2 = LinearRegression()\n",
    "modelo_2.fit(X_entrenamiento_2, y_entrenamiento_2)\n",
    "\n",
    "# Modelo 3\n",
    "X = ventas[atributos_modelo_3]\n",
    "y = ventas.price\n",
    "X_entrenamiento_3, X_prueba_3, y_entrenamiento_3, y_prueba_3 = train_test_split(\n",
    "    X, y, random_state=0)\n",
    "modelo_3 = LinearRegression()\n",
    "modelo_3.fit(X_entrenamiento_3, y_entrenamiento_3)"
   ]
  },
  {
   "cell_type": "markdown",
   "metadata": {},
   "source": [
    "Imprimir los coefficientes de los modelos"
   ]
  },
  {
   "cell_type": "code",
   "execution_count": 13,
   "metadata": {},
   "outputs": [
    {
     "name": "stdout",
     "output_type": "stream",
     "text": [
      "Intercepto del modelo 1:  -69608916.95726308\n",
      "Coeficientes del modelo 1:  [ 3.10566733e+02 -5.10367183e+04  1.05379831e+04  6.58338538e+05\n",
      " -3.13738189e+05]\n",
      "-----\n",
      "Intercepto del modelo 2:  -67659382.42910394\n",
      "Coeficientes del modelo 2:  [ 3.05252753e+02 -9.62486642e+04 -6.36695424e+04  6.55305007e+05\n",
      " -3.00246407e+05  2.18523473e+04]\n",
      "-----\n",
      "Intercepto del modelo 3:  -61836300.07724376\n",
      "Coeficientes del modelo 3:  [ 5.27027733e+02  6.00015664e+03  1.00904040e+05  5.30241264e+05\n",
      " -4.04817684e+05 -1.93276059e+04  7.30538627e+02 -5.49137385e+05\n",
      "  1.25423580e+05]\n"
     ]
    }
   ],
   "source": [
    "# imprimir intercepto y coeficientes de los modelos\n",
    "print ('Intercepto del modelo 1: ', modelo_1.intercept_)\n",
    "print ('Coeficientes del modelo 1: ', modelo_1.coef_)\n",
    "print ('-----')\n",
    "print ('Intercepto del modelo 2: ', modelo_2.intercept_)\n",
    "print ('Coeficientes del modelo 2: ', modelo_2.coef_)\n",
    "print ('-----')\n",
    "print ('Intercepto del modelo 3: ', modelo_3.intercept_)\n",
    "print ('Coeficientes del modelo 3: ', modelo_3.coef_)"
   ]
  },
  {
   "cell_type": "markdown",
   "metadata": {},
   "source": [
    "Evaluar los modelos usando la función `score()`"
   ]
  },
  {
   "cell_type": "code",
   "execution_count": 14,
   "metadata": {},
   "outputs": [
    {
     "name": "stdout",
     "output_type": "stream",
     "text": [
      "Modelo 1:  0.58318364073149\n",
      "Modelo 2:  0.5902005376018937\n",
      "Modelo 3:  0.6098700229835656\n"
     ]
    }
   ],
   "source": [
    "print('Modelo 1: ', modelo_1.score(X_prueba_1, y_prueba_1))\n",
    "print('Modelo 2: ', modelo_2.score(X_prueba_2, y_prueba_2))\n",
    "print('Modelo 3: ', modelo_3.score(X_prueba_3, y_prueba_3))"
   ]
  },
  {
   "cell_type": "markdown",
   "metadata": {},
   "source": [
    "Evaluar los modelos usando RSS sobre el conjunto de entrenamiento"
   ]
  },
  {
   "cell_type": "code",
   "execution_count": 15,
   "metadata": {},
   "outputs": [
    {
     "name": "stdout",
     "output_type": "stream",
     "text": [
      "RSS del modelo 1:  893961175725604.5\n",
      "RSS del modelo 2:  887518277002359.5\n",
      "RSS del modelo 3:  837547939204509.5\n"
     ]
    }
   ],
   "source": [
    "print('RSS del modelo 1: ', obtener_RSS(modelo_1, X_entrenamiento_1, y_entrenamiento_1))\n",
    "print('RSS del modelo 2: ', obtener_RSS(modelo_2, X_entrenamiento_2, y_entrenamiento_2))\n",
    "print('RSS del modelo 3: ', obtener_RSS(modelo_3, X_entrenamiento_3, y_entrenamiento_3))"
   ]
  },
  {
   "cell_type": "markdown",
   "metadata": {},
   "source": [
    "Evaluar los modelos usando RSS sobre el conjunto de prueba"
   ]
  },
  {
   "cell_type": "code",
   "execution_count": 16,
   "metadata": {},
   "outputs": [
    {
     "name": "stdout",
     "output_type": "stream",
     "text": [
      "RSS del modelo 1:  299220183596716.3\n",
      "RSS del modelo 2:  294182960073325.5\n",
      "RSS del modelo 3:  280062816042785.25\n"
     ]
    }
   ],
   "source": [
    "print('RSS del modelo 1: ', obtener_RSS(modelo_1, X_prueba_1, y_prueba_1))\n",
    "print('RSS del modelo 2: ', obtener_RSS(modelo_2, X_prueba_2, y_prueba_2))\n",
    "print('RSS del modelo 3: ', obtener_RSS(modelo_3, X_prueba_3, y_prueba_3))"
   ]
  },
  {
   "cell_type": "markdown",
   "metadata": {},
   "source": [
    "## Seleccionar el grado del polinomio de la Regresión Polinomial, usando un conjunto de validación"
   ]
  },
  {
   "cell_type": "markdown",
   "metadata": {},
   "source": [
    "Vamos a aplicar una técnica para la selección del grado del polinomio.\n",
    "\n",
    "Esta técnica es la de dividir el conjunto de datos en tres conjuntos: uno de entrenamiento, uno de validación y uno de prueba.\n",
    "\n",
    "- Primero dividiremos los datos en un conjunto de Entrenamiento_Validación y uno de Prueba\n",
    "- Segundo dividiremos el conjunto de Entrenamineto_Validación en uno de Entrenamiento y uno de Validación"
   ]
  },
  {
   "cell_type": "code",
   "execution_count": 17,
   "metadata": {},
   "outputs": [
    {
     "data": {
      "text/html": [
       "<div>\n",
       "<style scoped>\n",
       "    .dataframe tbody tr th:only-of-type {\n",
       "        vertical-align: middle;\n",
       "    }\n",
       "\n",
       "    .dataframe tbody tr th {\n",
       "        vertical-align: top;\n",
       "    }\n",
       "\n",
       "    .dataframe thead th {\n",
       "        text-align: right;\n",
       "    }\n",
       "</style>\n",
       "<table border=\"1\" class=\"dataframe\">\n",
       "  <thead>\n",
       "    <tr style=\"text-align: right;\">\n",
       "      <th></th>\n",
       "      <th>id</th>\n",
       "      <th>date</th>\n",
       "      <th>price</th>\n",
       "      <th>bedrooms</th>\n",
       "      <th>bathrooms</th>\n",
       "      <th>sqft_living</th>\n",
       "      <th>sqft_lot</th>\n",
       "      <th>floors</th>\n",
       "      <th>waterfront</th>\n",
       "      <th>view</th>\n",
       "      <th>...</th>\n",
       "      <th>yr_renovated</th>\n",
       "      <th>zipcode</th>\n",
       "      <th>lat</th>\n",
       "      <th>long</th>\n",
       "      <th>sqft_living15</th>\n",
       "      <th>sqft_lot15</th>\n",
       "      <th>bedrooms_squared</th>\n",
       "      <th>bed_bath_rooms</th>\n",
       "      <th>log_sqft_living</th>\n",
       "      <th>lat_plus_long</th>\n",
       "    </tr>\n",
       "  </thead>\n",
       "  <tbody>\n",
       "    <tr>\n",
       "      <th>0</th>\n",
       "      <td>7129300520</td>\n",
       "      <td>20141013T000000</td>\n",
       "      <td>221900.0</td>\n",
       "      <td>3</td>\n",
       "      <td>1.00</td>\n",
       "      <td>1180</td>\n",
       "      <td>5650</td>\n",
       "      <td>1.0</td>\n",
       "      <td>0</td>\n",
       "      <td>0</td>\n",
       "      <td>...</td>\n",
       "      <td>0</td>\n",
       "      <td>98178</td>\n",
       "      <td>47.5112</td>\n",
       "      <td>-122.257</td>\n",
       "      <td>1340</td>\n",
       "      <td>5650</td>\n",
       "      <td>9</td>\n",
       "      <td>3.00</td>\n",
       "      <td>7.073270</td>\n",
       "      <td>-74.7458</td>\n",
       "    </tr>\n",
       "    <tr>\n",
       "      <th>1</th>\n",
       "      <td>6414100192</td>\n",
       "      <td>20141209T000000</td>\n",
       "      <td>538000.0</td>\n",
       "      <td>3</td>\n",
       "      <td>2.25</td>\n",
       "      <td>2570</td>\n",
       "      <td>7242</td>\n",
       "      <td>2.0</td>\n",
       "      <td>0</td>\n",
       "      <td>0</td>\n",
       "      <td>...</td>\n",
       "      <td>1991</td>\n",
       "      <td>98125</td>\n",
       "      <td>47.7210</td>\n",
       "      <td>-122.319</td>\n",
       "      <td>1690</td>\n",
       "      <td>7639</td>\n",
       "      <td>9</td>\n",
       "      <td>6.75</td>\n",
       "      <td>7.851661</td>\n",
       "      <td>-74.5980</td>\n",
       "    </tr>\n",
       "    <tr>\n",
       "      <th>2</th>\n",
       "      <td>5631500400</td>\n",
       "      <td>20150225T000000</td>\n",
       "      <td>180000.0</td>\n",
       "      <td>2</td>\n",
       "      <td>1.00</td>\n",
       "      <td>770</td>\n",
       "      <td>10000</td>\n",
       "      <td>1.0</td>\n",
       "      <td>0</td>\n",
       "      <td>0</td>\n",
       "      <td>...</td>\n",
       "      <td>0</td>\n",
       "      <td>98028</td>\n",
       "      <td>47.7379</td>\n",
       "      <td>-122.233</td>\n",
       "      <td>2720</td>\n",
       "      <td>8062</td>\n",
       "      <td>4</td>\n",
       "      <td>2.00</td>\n",
       "      <td>6.646391</td>\n",
       "      <td>-74.4951</td>\n",
       "    </tr>\n",
       "    <tr>\n",
       "      <th>3</th>\n",
       "      <td>2487200875</td>\n",
       "      <td>20141209T000000</td>\n",
       "      <td>604000.0</td>\n",
       "      <td>4</td>\n",
       "      <td>3.00</td>\n",
       "      <td>1960</td>\n",
       "      <td>5000</td>\n",
       "      <td>1.0</td>\n",
       "      <td>0</td>\n",
       "      <td>0</td>\n",
       "      <td>...</td>\n",
       "      <td>0</td>\n",
       "      <td>98136</td>\n",
       "      <td>47.5208</td>\n",
       "      <td>-122.393</td>\n",
       "      <td>1360</td>\n",
       "      <td>5000</td>\n",
       "      <td>16</td>\n",
       "      <td>12.00</td>\n",
       "      <td>7.580700</td>\n",
       "      <td>-74.8722</td>\n",
       "    </tr>\n",
       "    <tr>\n",
       "      <th>4</th>\n",
       "      <td>1954400510</td>\n",
       "      <td>20150218T000000</td>\n",
       "      <td>510000.0</td>\n",
       "      <td>3</td>\n",
       "      <td>2.00</td>\n",
       "      <td>1680</td>\n",
       "      <td>8080</td>\n",
       "      <td>1.0</td>\n",
       "      <td>0</td>\n",
       "      <td>0</td>\n",
       "      <td>...</td>\n",
       "      <td>0</td>\n",
       "      <td>98074</td>\n",
       "      <td>47.6168</td>\n",
       "      <td>-122.045</td>\n",
       "      <td>1800</td>\n",
       "      <td>7503</td>\n",
       "      <td>9</td>\n",
       "      <td>6.00</td>\n",
       "      <td>7.426549</td>\n",
       "      <td>-74.4282</td>\n",
       "    </tr>\n",
       "  </tbody>\n",
       "</table>\n",
       "<p>5 rows × 25 columns</p>\n",
       "</div>"
      ],
      "text/plain": [
       "           id             date     price  bedrooms  bathrooms  sqft_living  \\\n",
       "0  7129300520  20141013T000000  221900.0         3       1.00         1180   \n",
       "1  6414100192  20141209T000000  538000.0         3       2.25         2570   \n",
       "2  5631500400  20150225T000000  180000.0         2       1.00          770   \n",
       "3  2487200875  20141209T000000  604000.0         4       3.00         1960   \n",
       "4  1954400510  20150218T000000  510000.0         3       2.00         1680   \n",
       "\n",
       "   sqft_lot  floors  waterfront  view      ...        yr_renovated  zipcode  \\\n",
       "0      5650     1.0           0     0      ...                   0    98178   \n",
       "1      7242     2.0           0     0      ...                1991    98125   \n",
       "2     10000     1.0           0     0      ...                   0    98028   \n",
       "3      5000     1.0           0     0      ...                   0    98136   \n",
       "4      8080     1.0           0     0      ...                   0    98074   \n",
       "\n",
       "       lat     long  sqft_living15  sqft_lot15  bedrooms_squared  \\\n",
       "0  47.5112 -122.257           1340        5650                 9   \n",
       "1  47.7210 -122.319           1690        7639                 9   \n",
       "2  47.7379 -122.233           2720        8062                 4   \n",
       "3  47.5208 -122.393           1360        5000                16   \n",
       "4  47.6168 -122.045           1800        7503                 9   \n",
       "\n",
       "   bed_bath_rooms  log_sqft_living  lat_plus_long  \n",
       "0            3.00         7.073270       -74.7458  \n",
       "1            6.75         7.851661       -74.5980  \n",
       "2            2.00         6.646391       -74.4951  \n",
       "3           12.00         7.580700       -74.8722  \n",
       "4            6.00         7.426549       -74.4282  \n",
       "\n",
       "[5 rows x 25 columns]"
      ]
     },
     "execution_count": 17,
     "metadata": {},
     "output_type": "execute_result"
    }
   ],
   "source": [
    "ventas.head()"
   ]
  },
  {
   "cell_type": "code",
   "execution_count": 18,
   "metadata": {},
   "outputs": [],
   "source": [
    "X = ventas[['sqft_living', 'price']]\n",
    "y = ventas.price\n",
    "X_entrenamiento_validacion, X_prueba, y_entrenamiento_validacion, y_prueba = train_test_split(\n",
    "    X, y, random_state=0)\n",
    "X_entrenamiento, X_validacion, y_entrenamiento, y_validacion = train_test_split(\n",
    "    X_entrenamiento_validacion, y_entrenamiento_validacion, random_state=0)"
   ]
  },
  {
   "cell_type": "markdown",
   "metadata": {},
   "source": [
    "Usaremos la función: `polinomial_dataframe(atributo, grado)`"
   ]
  },
  {
   "cell_type": "code",
   "execution_count": 19,
   "metadata": {},
   "outputs": [],
   "source": [
    "def polinomial_dataframe(atributo, grado):\n",
    "    # asumir que grado es >= 1\n",
    "    # inicializar el DataFrame:\n",
    "    poli_dataframe = pd.DataFrame()\n",
    "    # fijar poli_dataframe['potencia_1'] igual al atributo pasado\n",
    "    poli_dataframe['potencia_1'] = atributo\n",
    "    # chequear si grado > 1\n",
    "    if grado > 1:\n",
    "        # realizar un lazo con los grados restantes:\n",
    "        for potencia in range(2, grado+1): \n",
    "            # primero le damos el nombre a la columna:\n",
    "            nombre = 'potencia_' + str(potencia)\n",
    "            # luego asignamos a poli_dataframe[nombre] la potencia del atributo apropiada\n",
    "            poli_dataframe[nombre] = atributo**potencia\n",
    "    return poli_dataframe"
   ]
  },
  {
   "cell_type": "markdown",
   "metadata": {},
   "source": [
    "Ahora ejecutaremos un lazo de 1 a 15. Donde crearemos un modelo para cada uno de los grados del polinomio.\n",
    "\n",
    "Y calcularemos el RSS de cada uno para seleccionar el modelo con el valor de RSS menor."
   ]
  },
  {
   "cell_type": "code",
   "execution_count": 20,
   "metadata": {},
   "outputs": [
    {
     "data": {
      "text/plain": [
       "[260505781895110.06,\n",
       " 245450866121813.12,\n",
       " 244533267461319.56,\n",
       " 249410525542365.44,\n",
       " 246225208129882.12,\n",
       " 246432029153208.12,\n",
       " 246521262113335.12,\n",
       " 246507255171751.56,\n",
       " 246463224687802.75,\n",
       " 246740053577533.62,\n",
       " 246763520150289.2,\n",
       " 246972883418959.94,\n",
       " 246989437199364.22,\n",
       " 247113545240350.03,\n",
       " 247094504626728.34]"
      ]
     },
     "execution_count": 20,
     "metadata": {},
     "output_type": "execute_result"
    }
   ],
   "source": [
    "rss = []\n",
    "potencias = list(range(1, 15+1))\n",
    "\n",
    "for grado in potencias:\n",
    "    poli_data_X = polinomial_dataframe(X_entrenamiento.sqft_living, grado)\n",
    "    poli_validacion_X = polinomial_dataframe(X_validacion.sqft_living, grado)\n",
    "    modelo = LinearRegression()\n",
    "    modelo.fit(poli_data_X, y_entrenamiento)\n",
    "    rss.append(obtener_RSS(modelo, poli_validacion_X, y_validacion))\n",
    "rss    "
   ]
  },
  {
   "cell_type": "code",
   "execution_count": 21,
   "metadata": {},
   "outputs": [
    {
     "data": {
      "text/plain": [
       "[<matplotlib.lines.Line2D at 0x1a16242da0>]"
      ]
     },
     "execution_count": 21,
     "metadata": {},
     "output_type": "execute_result"
    },
    {
     "data": {
      "image/png": "[encoded data removed]",
      "text/plain": [
       "<matplotlib.figure.Figure at 0x1a16644438>"
      ]
     },
     "metadata": {},
     "output_type": "display_data"
    }
   ],
   "source": [
    "plt.plot(potencias, rss)"
   ]
  },
  {
   "cell_type": "markdown",
   "metadata": {},
   "source": [
    "Seleccionar el grado del polinomio con el valor mínimo de RSS"
   ]
  },
  {
   "cell_type": "code",
   "execution_count": 22,
   "metadata": {},
   "outputs": [
    {
     "data": {
      "text/plain": [
       "3"
      ]
     },
     "execution_count": 22,
     "metadata": {},
     "output_type": "execute_result"
    }
   ],
   "source": [
    "grado = np.argmin(rss) + 1\n",
    "grado"
   ]
  },
  {
   "cell_type": "markdown",
   "metadata": {},
   "source": [
    "Ahora que hemos seleccionado el grado del polinomio con los datos de validación.\n",
    "\n",
    "Calcularemos el RSS con los datos de prueba"
   ]
  },
  {
   "cell_type": "code",
   "execution_count": 23,
   "metadata": {},
   "outputs": [
    {
     "name": "stdout",
     "output_type": "stream",
     "text": [
      "250004.0999751144\n"
     ]
    }
   ],
   "source": [
    "poli_data_X = polinomial_dataframe(X_entrenamiento.sqft_living, grado)\n",
    "poli_prueba_X = polinomial_dataframe(X_prueba.sqft_living, grado)\n",
    "modelo = LinearRegression()\n",
    "modelo.fit(poli_data_X, y_entrenamiento)\n",
    "rss = obtener_RSS(modelo, poli_prueba_X, y_prueba)\n",
    "print (sqrt(rss/len(poli_prueba_X)))"
   ]
  },
  {
   "cell_type": "markdown",
   "metadata": {},
   "source": [
    "Agregar una nueva columna al conjunto de datos que contenga `sqft_living` elevado al grado correspondiente al valor mínimo del RSS"
   ]
  },
  {
   "cell_type": "code",
   "execution_count": 31,
   "metadata": {},
   "outputs": [],
   "source": [
    "ventas['sqft_living**grado'] = ventas['sqft_living'].apply(lambda x: x**grado)\n",
    "atributos_cols = ['sqft_living**grado', 'sqft_living', 'bedrooms', 'bathrooms']\n",
    "X = ventas[atributos_cols]\n",
    "y = ventas.price\n",
    "X_entrenamiento, X_prueba, y_entrenamiento, y_prueba = train_test_split(\n",
    "    X, y, random_state=0)"
   ]
  },
  {
   "cell_type": "code",
   "execution_count": 32,
   "metadata": {},
   "outputs": [
    {
     "name": "stdout",
     "output_type": "stream",
     "text": [
      "128085.11979641032\n",
      "[ 1.90820004e-06  2.44265303e+02 -4.37746082e+04  1.09294380e+04]\n"
     ]
    }
   ],
   "source": [
    "lm = LinearRegression()\n",
    "lm.fit(X_entrenamiento, y_entrenamiento)\n",
    "\n",
    "# imprimir intercepto y coeficientes\n",
    "print (lm.intercept_)\n",
    "print (lm.coef_)"
   ]
  },
  {
   "cell_type": "code",
   "execution_count": 33,
   "metadata": {},
   "outputs": [
    {
     "data": {
      "text/plain": [
       "0.5324888964126959"
      ]
     },
     "execution_count": 33,
     "metadata": {},
     "output_type": "execute_result"
    }
   ],
   "source": [
    "lm.score(X_prueba, y_prueba)"
   ]
  },
  {
   "cell_type": "markdown",
   "metadata": {},
   "source": [
    "Podemos observar que al agregar esta nuevo atributo se mejoro el `score` del modelo con respecto al modelo que solo contenia los atributos `sqft_living`, `bedrooms`, y `bathrooms`.\n",
    "\n",
    "`score = 0.5003571796501294`"
   ]
  },
  {
   "cell_type": "markdown",
   "metadata": {},
   "source": [
    "### Referencias"
   ]
  },
  {
   "cell_type": "markdown",
   "metadata": {},
   "source": [
    "- Curso de Coursera [Machine Learning: Regression](https://www.coursera.org/learn/ml-regression)"
   ]
  }
 ],
 "metadata": {
  "anaconda-cloud": {},
  "kernelspec": {
   "display_name": "Python 3",
   "language": "python",
   "name": "python3"
  },
  "language_info": {
   "codemirror_mode": {
    "name": "ipython",
    "version": 3
   },
   "file_extension": ".py",
   "mimetype": "text/x-python",
   "name": "python",
   "nbconvert_exporter": "python",
   "pygments_lexer": "ipython3",
   "version": "3.6.4"
  }
 },
 "nbformat": 4,
 "nbformat_minor": 2
}
