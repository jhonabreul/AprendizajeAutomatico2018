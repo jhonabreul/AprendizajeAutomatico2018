{
 "cells": [
  {
   "cell_type": "markdown",
   "metadata": {},
   "source": [
    "# Introducción a Numpy y Matplotlib"
   ]
  },
  {
   "cell_type": "markdown",
   "metadata": {},
   "source": [
    "## Diferencia entre una variable en C y en Python"
   ]
  },
  {
   "cell_type": "markdown",
   "metadata": {},
   "source": [
    "La diferencia entre una variable C (estoy usando C como un representante para lenguajes compilados) y una variable Python se resume en este diagrama:\n",
    "\n",
    "<img src=\"figuras/cint_vs_pyint.png\" width=\"50%\">"
   ]
  },
  {
   "cell_type": "markdown",
   "metadata": {},
   "source": [
    "## ¿Porqué es Python más lento que C en operaciones numéricas?"
   ]
  },
  {
   "cell_type": "markdown",
   "metadata": {},
   "source": [
    "Si escribimos el siguiente código en C:\n",
    "\n",
    "/* código C */\n",
    "\n",
    "int a = 1;\n",
    "\n",
    "int b = 2;\n",
    "\n",
    "int c = a + b;\n",
    "\n",
    "El compilador C sabe desde el principio que a y b son enteros: simplemente no pueden ser otra cosa! Con este conocimiento, puede llamar a la rutina que suma dos enteros, devolviendo otro entero que es simplemente un valor simple en la memoria. La secuencia de eventos es más o menos así:\n",
    "\n",
    "### Suma en C\n",
    "\n",
    "    Asignar <int> 1 a a\n",
    "    Asignar <int> 2 a b\n",
    "    llamar binary_add<int, int>(a, b)\n",
    "    Asignar el resultado a c\n",
    "\n",
    "El código equivalente en Python se ve así:\n",
    "\n",
    "/# código python\n",
    "\n",
    "a = 1\n",
    "\n",
    "b = 2\n",
    "\n",
    "c = a + b\n",
    "\n",
    "Aquí el intérprete sólo sabe que 1 y 2 son objetos, pero no qué tipo de objeto son. El intérprete debe inspeccionar PyObject_HEAD para cada variable para encontrar la información de tipo y, a continuación, llamar a la rutina de suma adecuada para los dos tipos. Finalmente, debe crear e inicializar un nuevo objeto Python para contener el valor devuelto. La secuencia de eventos es más o menos así:\n",
    "\n",
    "### Suma en Python \n",
    "\n",
    "    Asignar 1 a a\n",
    "\n",
    "    1a. Fijar a->PyObject_HEAD->typecode a entero\n",
    "    1b. Fijar a->val = 1\n",
    "\n",
    "    Asignar 2 to b\n",
    "\n",
    "    2a. Fijar b->PyObject_HEAD->typecode a entero\n",
    "    2b. Fijar b->val = 2\n",
    "\n",
    "    llamar binary_add(a, b)\n",
    "\n",
    "    3a. encontrar typecode en a->PyObject_HEAD\n",
    "    3b. a es un entero; valor es a->val\n",
    "    3c. encontrar typecode en b->PyObject_HEAD\n",
    "    3d. b es un entero; valor es b->val\n",
    "    3e. llamar binary_add<int, int>(a->val, b->val)\n",
    "    3f. resultado es un entero.\n",
    "\n",
    "    Crear un objeto Python c\n",
    "\n",
    "    4a. Fijar c->PyObject_HEAD->typecode a entero\n",
    "    4b. Fijar c->val a resultado\n",
    "\n",
    "El tipado dinámico significa que hay muchos más pasos implicados con cualquier operación. Esta es una razón principal por la cual Python es lento comparado con C para operaciones con datos numéricos."
   ]
  },
  {
   "cell_type": "markdown",
   "metadata": {
    "deletable": true,
    "editable": true
   },
   "source": [
    "## Numpy"
   ]
  },
  {
   "cell_type": "markdown",
   "metadata": {
    "deletable": true,
    "editable": true
   },
   "source": [
    "Numpy es la biblioteca principal para la computación científica en Python. Proporciona un objeto arreglo multidimensional de alto rendimiento y herramientas para trabajar con estos arreglos."
   ]
  },
  {
   "cell_type": "markdown",
   "metadata": {
    "deletable": true,
    "editable": true
   },
   "source": [
    "Para usar Numpy, Primero necesitamos importar el paquete `numpy`:"
   ]
  },
  {
   "cell_type": "code",
   "execution_count": 1,
   "metadata": {
    "collapsed": false,
    "deletable": true,
    "editable": true
   },
   "outputs": [],
   "source": [
    "import numpy as np"
   ]
  },
  {
   "cell_type": "markdown",
   "metadata": {
    "deletable": true,
    "editable": true
   },
   "source": [
    "### Arreglos"
   ]
  },
  {
   "cell_type": "markdown",
   "metadata": {
    "deletable": true,
    "editable": true
   },
   "source": [
    "Una matriz numpy es una cuadrícula de valores, todos del mismo tipo, e indexada por una tupla de enteros no negativos. El número de dimensiones es el rango de la matriz; La forma de una matriz es una tupla de enteros que da el tamaño de la matriz a lo largo de cada dimensión."
   ]
  },
  {
   "cell_type": "markdown",
   "metadata": {},
   "source": [
    "Una matriz NumPy en su forma más simple es un objeto Python construido alrededor de una matriz C. Es decir, tiene un puntero a un búfer de datos contiguo de valores. Una lista de Python, por otro lado, tiene un puntero a un búfer contiguo de punteros, cada uno de los cuales apunta a un objeto Python que a su vez tiene referencias a sus datos (en este caso, enteros). Como se muestra en le siguiente esquema:\n",
    "\n",
    "<img src=\"figuras/Picture1.png\" width=\"75%\">"
   ]
  },
  {
   "cell_type": "markdown",
   "metadata": {
    "deletable": true,
    "editable": true
   },
   "source": [
    "Podemos inicializar la matriz numpy de las listas anidadas de Python y acceder a los elementos usando corchetes:"
   ]
  },
  {
   "cell_type": "code",
   "execution_count": 2,
   "metadata": {
    "collapsed": false,
    "deletable": true,
    "editable": true
   },
   "outputs": [
    {
     "name": "stdout",
     "output_type": "stream",
     "text": [
      "<class 'numpy.ndarray'> (3,) 1 2 3\n",
      "[5 2 3]\n"
     ]
    }
   ],
   "source": [
    "a = np.array([1, 2, 3])  # Crear un arreglo de rango 1\n",
    "print(type(a), a.shape, a[0], a[1], a[2])\n",
    "a[0] = 5                 # Cambiar un elemento del arreglo\n",
    "print(a)                  "
   ]
  },
  {
   "cell_type": "code",
   "execution_count": 3,
   "metadata": {
    "collapsed": false,
    "deletable": true,
    "editable": true
   },
   "outputs": [
    {
     "name": "stdout",
     "output_type": "stream",
     "text": [
      "[[1 2 3]\n",
      " [4 5 6]]\n"
     ]
    }
   ],
   "source": [
    "b = np.array([[1,2,3],[4,5,6]])   # Crear un arreglo de rango 2 (matriz)\n",
    "print(b)"
   ]
  },
  {
   "cell_type": "code",
   "execution_count": 4,
   "metadata": {
    "collapsed": false,
    "deletable": true,
    "editable": true
   },
   "outputs": [
    {
     "name": "stdout",
     "output_type": "stream",
     "text": [
      "(2, 3)\n",
      "1 2 4\n"
     ]
    }
   ],
   "source": [
    "print (b.shape)                   \n",
    "print (b[0, 0], b[0, 1], b[1, 0])"
   ]
  },
  {
   "cell_type": "markdown",
   "metadata": {
    "deletable": true,
    "editable": true
   },
   "source": [
    "Numpy también proporciona muchas funciones para crear matrices:"
   ]
  },
  {
   "cell_type": "code",
   "execution_count": 5,
   "metadata": {
    "collapsed": false,
    "deletable": true,
    "editable": true
   },
   "outputs": [
    {
     "name": "stdout",
     "output_type": "stream",
     "text": [
      "[[ 0.  0.]\n",
      " [ 0.  0.]]\n"
     ]
    }
   ],
   "source": [
    "a = np.zeros((2,2))  # Crear una matriz de ceros\n",
    "print (a)"
   ]
  },
  {
   "cell_type": "code",
   "execution_count": 6,
   "metadata": {
    "collapsed": false,
    "deletable": true,
    "editable": true
   },
   "outputs": [
    {
     "name": "stdout",
     "output_type": "stream",
     "text": [
      "[[ 1.  1.]]\n"
     ]
    }
   ],
   "source": [
    "b = np.ones((1,2))   # Crear una matriz de unos\n",
    "print (b)"
   ]
  },
  {
   "cell_type": "code",
   "execution_count": 7,
   "metadata": {
    "collapsed": false,
    "deletable": true,
    "editable": true
   },
   "outputs": [
    {
     "name": "stdout",
     "output_type": "stream",
     "text": [
      "[[ 7.  7.]\n",
      " [ 7.  7.]]\n"
     ]
    },
    {
     "name": "stderr",
     "output_type": "stream",
     "text": [
      "/Users/wladimir/anaconda/lib/python3.5/site-packages/numpy/core/numeric.py:301: FutureWarning: in the future, full((2, 2), 7) will return an array of dtype('int64')\n",
      "  format(shape, fill_value, array(fill_value).dtype), FutureWarning)\n"
     ]
    }
   ],
   "source": [
    "c = np.full((2,2), 7) # Crear una matriz de constantes\n",
    "print (c) "
   ]
  },
  {
   "cell_type": "code",
   "execution_count": 8,
   "metadata": {
    "collapsed": false,
    "deletable": true,
    "editable": true
   },
   "outputs": [
    {
     "name": "stdout",
     "output_type": "stream",
     "text": [
      "[[ 1.  0.]\n",
      " [ 0.  1.]]\n"
     ]
    }
   ],
   "source": [
    "d = np.eye(2)        # Crear una matriz de indentidad 2x2\n",
    "print (d)"
   ]
  },
  {
   "cell_type": "code",
   "execution_count": 9,
   "metadata": {
    "collapsed": false,
    "deletable": true,
    "editable": true
   },
   "outputs": [
    {
     "name": "stdout",
     "output_type": "stream",
     "text": [
      "[[ 0.89661879  0.88807479]\n",
      " [ 0.92621052  0.89295386]]\n"
     ]
    }
   ],
   "source": [
    "e = np.random.random((2,2)) # Crear una matriz con valores aleatorios\n",
    "print (e)"
   ]
  },
  {
   "cell_type": "code",
   "execution_count": 10,
   "metadata": {
    "collapsed": false
   },
   "outputs": [
    {
     "name": "stdout",
     "output_type": "stream",
     "text": [
      "[[  4.94065646e-324   9.88131292e-324   1.48219694e-323]\n",
      " [  1.97626258e-323   2.47032823e-323   2.96439388e-323]]\n"
     ]
    }
   ],
   "source": [
    "f = np.empty((2, 3))  # Crear una matriz vacía, con valores residuales de la memoria\n",
    "print (f)"
   ]
  },
  {
   "cell_type": "markdown",
   "metadata": {
    "deletable": true,
    "editable": true
   },
   "source": [
    "### Indexado de las matrices"
   ]
  },
  {
   "cell_type": "markdown",
   "metadata": {
    "deletable": true,
    "editable": true
   },
   "source": [
    "Numpy ofrece varias formas de indexar las matrices."
   ]
  },
  {
   "cell_type": "markdown",
   "metadata": {
    "deletable": true,
    "editable": true
   },
   "source": [
    "Rebanado: Similar a las listas de Python, las matrices numpy se pueden cortar. Dado que las matrices pueden ser multidimensionales, debe especificar una división para cada dimensión de la matriz:"
   ]
  },
  {
   "cell_type": "code",
   "execution_count": 11,
   "metadata": {
    "collapsed": false,
    "deletable": true,
    "editable": true
   },
   "outputs": [
    {
     "name": "stdout",
     "output_type": "stream",
     "text": [
      "[[2 3]\n",
      " [6 7]]\n"
     ]
    }
   ],
   "source": [
    "import numpy as np\n",
    "\n",
    "# Crear la siguiente matriz de rango 2 con forma (3, 4)\n",
    "# [[ 1  2  3  4]\n",
    "#  [ 5  6  7  8]\n",
    "#  [ 9 10 11 12]]\n",
    "a = np.array([[1,2,3,4], [5,6,7,8], [9,10,11,12]])\n",
    "\n",
    "# Usando rebanado extraer la sub-matrix que consta de las primeras 2 filas\n",
    "# y las columnas 1 y 2\n",
    "# [[2 3]\n",
    "#  [6 7]]\n",
    "b = a[:2, 1:3]\n",
    "print (b)"
   ]
  },
  {
   "cell_type": "markdown",
   "metadata": {
    "deletable": true,
    "editable": true
   },
   "source": [
    "Una porción de una matriz es una vista de los mismos datos, por lo que la modificación modificará la matriz original."
   ]
  },
  {
   "cell_type": "code",
   "execution_count": 12,
   "metadata": {
    "collapsed": false,
    "deletable": true,
    "editable": true
   },
   "outputs": [
    {
     "name": "stdout",
     "output_type": "stream",
     "text": [
      "2\n",
      "[[77  3]\n",
      " [ 6  7]]\n"
     ]
    }
   ],
   "source": [
    "print (a[0, 1])  \n",
    "b[0, 0] = 77    # b[0, 0] es el mismo dato que a[0, 1]\n",
    "print (b) "
   ]
  },
  {
   "cell_type": "markdown",
   "metadata": {
    "deletable": true,
    "editable": true
   },
   "source": [
    "También puede mezclar índices enteros con indexación por sectores. Sin embargo, al hacerlo, se obtendrá una matriz de menor rango que la matriz original:"
   ]
  },
  {
   "cell_type": "code",
   "execution_count": null,
   "metadata": {
    "collapsed": false,
    "deletable": true,
    "editable": true
   },
   "outputs": [],
   "source": [
    "# Crear la siguiente matrix de rango 2 con forma (3, 4)\n",
    "a = np.array([[1,2,3,4], [5,6,7,8], [9,10,11,12]])\n",
    "print (a)"
   ]
  },
  {
   "cell_type": "markdown",
   "metadata": {
    "deletable": true,
    "editable": true
   },
   "source": [
    "Dos formas de acceder a los datos en la fila central de la matriz. La mezcla de índices enteros con rebanadas produce una matriz de menor rango, mientras que el uso de sólo rebanadas produce una matriz del mismo rango que la matriz original:"
   ]
  },
  {
   "cell_type": "code",
   "execution_count": 13,
   "metadata": {
    "collapsed": false,
    "deletable": true,
    "editable": true
   },
   "outputs": [
    {
     "name": "stdout",
     "output_type": "stream",
     "text": [
      "[5 6 7 8] (4,)\n",
      "[[5 6 7 8]] (1, 4)\n",
      "[[5 6 7 8]] (1, 4)\n"
     ]
    }
   ],
   "source": [
    "row_r1 = a[1, :]    # Rango 1 vista de la segunda fila de a  \n",
    "row_r2 = a[1:2, :]  # Rango 2 vista de la segunda fila de a\n",
    "row_r3 = a[[1], :]  # Rango 2 vista de la segunda fila de a\n",
    "print (row_r1, row_r1.shape) \n",
    "print (row_r2, row_r2.shape)\n",
    "print (row_r3, row_r3.shape)"
   ]
  },
  {
   "cell_type": "code",
   "execution_count": 14,
   "metadata": {
    "collapsed": false,
    "deletable": true,
    "editable": true
   },
   "outputs": [
    {
     "name": "stdout",
     "output_type": "stream",
     "text": [
      "[77  6 10] (3,)\n",
      "[[77]\n",
      " [ 6]\n",
      " [10]] (3, 1)\n"
     ]
    }
   ],
   "source": [
    "# Podemos hacer la misma distinción al acceder a las columnas de una matriz:\n",
    "col_r1 = a[:, 1]\n",
    "col_r2 = a[:, 1:2]\n",
    "print (col_r1, col_r1.shape)\n",
    "print\n",
    "print (col_r2, col_r2.shape)"
   ]
  },
  {
   "cell_type": "markdown",
   "metadata": {
    "deletable": true,
    "editable": true
   },
   "source": [
    "Indexación de matriz con números enteros: Cuando se indexa en matrices numpy utilizando rebanado, la vista de la matriz resultante siempre será una sub-matriz de la matriz original. Por el contrario, la indización de matriz con números enteros permite construir matrices arbitrarias utilizando los datos de otra matriz. Por ejemplo:"
   ]
  },
  {
   "cell_type": "code",
   "execution_count": 15,
   "metadata": {
    "collapsed": false,
    "deletable": true,
    "editable": true
   },
   "outputs": [
    {
     "name": "stdout",
     "output_type": "stream",
     "text": [
      "[1 4 5]\n",
      "[1 4 5]\n"
     ]
    }
   ],
   "source": [
    "a = np.array([[1,2], [3, 4], [5, 6]])\n",
    "\n",
    "# Un ejemplo con indezado entero.\n",
    "# La matriz resultante tendra la forma (3,) y \n",
    "print (a[[0, 1, 2], [0, 1, 0]])\n",
    "\n",
    "# El ejemplo de arriba con indexado entero es equivalente a:\n",
    "print (np.array([a[0, 0], a[1, 1], a[2, 0]]))"
   ]
  },
  {
   "cell_type": "code",
   "execution_count": 16,
   "metadata": {
    "collapsed": false,
    "deletable": true,
    "editable": true
   },
   "outputs": [
    {
     "name": "stdout",
     "output_type": "stream",
     "text": [
      "[2 2]\n",
      "[2 2]\n"
     ]
    }
   ],
   "source": [
    "# Cuando utilice la indización de matriz con números enteros, puede reutilizar el mismo\n",
    "# elemento de la matriz original:\n",
    "print (a[[0, 0], [1, 1]])\n",
    "\n",
    "# Equivalent to the previous integer array indexing example\n",
    "print (np.array([a[0, 1], a[0, 1]]))"
   ]
  },
  {
   "cell_type": "markdown",
   "metadata": {
    "deletable": true,
    "editable": true
   },
   "source": [
    "Un truco útil con la indización de matriz con números enteros es la selección o mutación de un elemento de cada fila de una matriz:"
   ]
  },
  {
   "cell_type": "code",
   "execution_count": 17,
   "metadata": {
    "collapsed": false,
    "deletable": true,
    "editable": true
   },
   "outputs": [
    {
     "name": "stdout",
     "output_type": "stream",
     "text": [
      "[[ 1  2  3]\n",
      " [ 4  5  6]\n",
      " [ 7  8  9]\n",
      " [10 11 12]]\n"
     ]
    }
   ],
   "source": [
    "# Crear una matriz de la cual seleccionaremos elementos\n",
    "a = np.array([[1,2,3], [4,5,6], [7,8,9], [10, 11, 12]])\n",
    "print (a)"
   ]
  },
  {
   "cell_type": "code",
   "execution_count": 18,
   "metadata": {
    "collapsed": false,
    "deletable": true,
    "editable": true
   },
   "outputs": [
    {
     "name": "stdout",
     "output_type": "stream",
     "text": [
      "[ 1  6  7 11]\n"
     ]
    }
   ],
   "source": [
    "# Crear un arreglo de indices\n",
    "b = np.array([0, 2, 0, 1])\n",
    "\n",
    "# Seleccionar un elemento de cada fila usando los indices en b\n",
    "print (a[np.arange(4), b])  # Imprime \"[ 1  6  7 11]\""
   ]
  },
  {
   "cell_type": "code",
   "execution_count": 19,
   "metadata": {
    "collapsed": false,
    "deletable": true,
    "editable": true
   },
   "outputs": [
    {
     "name": "stdout",
     "output_type": "stream",
     "text": [
      "[[11  2  3]\n",
      " [ 4  5 16]\n",
      " [17  8  9]\n",
      " [10 21 12]]\n"
     ]
    }
   ],
   "source": [
    "# Mutar un elemento de cada fila de a usando los índices en b\n",
    "a[np.arange(4), b] += 10\n",
    "print (a)"
   ]
  },
  {
   "cell_type": "markdown",
   "metadata": {
    "deletable": true,
    "editable": true
   },
   "source": [
    "Indexación boolena de matriz: La indexación boleana de matriz permite seleccionar elementos arbitrarios de una matriz. Con frecuencia, este tipo de indexación se utiliza para seleccionar los elementos de una matriz que satisfacen alguna condición. Por ejemplo:"
   ]
  },
  {
   "cell_type": "code",
   "execution_count": 20,
   "metadata": {
    "collapsed": false,
    "deletable": true,
    "editable": true
   },
   "outputs": [
    {
     "name": "stdout",
     "output_type": "stream",
     "text": [
      "[[False False]\n",
      " [ True  True]\n",
      " [ True  True]]\n"
     ]
    }
   ],
   "source": [
    "#import numpy as np\n",
    "\n",
    "a = np.array([[1,2], [3, 4], [5, 6]])\n",
    "\n",
    "bool_idx = (a > 2)  # Encontrar los elementos de a que sean mayores que 2;\n",
    "                    # Esto devuelve una matriz numpy de booleanos con la misma\n",
    "                    # forma que a, donde cada celda de bool_idx indica\n",
    "                    # si ese elemento de a es > 2.\n",
    "\n",
    "print (bool_idx)"
   ]
  },
  {
   "cell_type": "code",
   "execution_count": 21,
   "metadata": {
    "collapsed": false,
    "deletable": true,
    "editable": true
   },
   "outputs": [
    {
     "name": "stdout",
     "output_type": "stream",
     "text": [
      "[3 4 5 6]\n",
      "[3 4 5 6]\n"
     ]
    }
   ],
   "source": [
    "# Utilizamos indexación booleana de matriz para construir una matriz de rango 1\n",
    "# Consistente en los elementos de a correspondientes a los valores Verdaderos\n",
    "# de bool_idx\n",
    "print (a[bool_idx])\n",
    "\n",
    "# Podemos hacer todo lo anterior en una sola declaración concisa:\n",
    "print (a[a > 2])"
   ]
  },
  {
   "cell_type": "markdown",
   "metadata": {
    "deletable": true,
    "editable": true
   },
   "source": [
    "### Tipos de Datos"
   ]
  },
  {
   "cell_type": "markdown",
   "metadata": {
    "deletable": true,
    "editable": true
   },
   "source": [
    "Cada matriz numpy es una cuadrícula de elementos del mismo tipo. Numpy proporciona un gran conjunto de tipos de datos numéricos que puede utilizar para construir matrices. Numpy intenta adivinar un tipo de datos cuando se crea una matriz, pero las funciones que construyen matrices también suelen incluir un argumento opcional para especificar explícitamente el tipo de datos. Por ejemplo:"
   ]
  },
  {
   "cell_type": "code",
   "execution_count": 22,
   "metadata": {
    "collapsed": false,
    "deletable": true,
    "editable": true
   },
   "outputs": [
    {
     "name": "stdout",
     "output_type": "stream",
     "text": [
      "int64 float64 float64\n"
     ]
    }
   ],
   "source": [
    "x = np.array([1, 2])  # Deja que numpy elija el tipo de datos\n",
    "y = np.array([1.0, 2.0])  # Deja que numpy elija el tipo de datos\n",
    "z = np.array([1, 2], dtype=np.float64)  # Forzar un tipo de datos particular\n",
    "\n",
    "print (x.dtype, y.dtype, z.dtype)"
   ]
  },
  {
   "cell_type": "markdown",
   "metadata": {
    "deletable": true,
    "editable": true
   },
   "source": [
    "Puede leer todo acerca de los tipos de datos numpy en la [documentación](http://docs.scipy.org/doc/numpy/reference/arrays.dtypes.html)."
   ]
  },
  {
   "cell_type": "markdown",
   "metadata": {
    "deletable": true,
    "editable": true
   },
   "source": [
    "### Matemática con Matrices"
   ]
  },
  {
   "cell_type": "markdown",
   "metadata": {
    "deletable": true,
    "editable": true
   },
   "source": [
    "Las funciones matemáticas básicas operan por cada elemento de las matrices, y están disponibles tanto como operadores sobrecargados o como funciones en el módulo numpy:"
   ]
  },
  {
   "cell_type": "code",
   "execution_count": 23,
   "metadata": {
    "collapsed": false,
    "deletable": true,
    "editable": true
   },
   "outputs": [
    {
     "name": "stdout",
     "output_type": "stream",
     "text": [
      "[[  6.   8.]\n",
      " [ 10.  12.]]\n",
      "[[  6.   8.]\n",
      " [ 10.  12.]]\n"
     ]
    }
   ],
   "source": [
    "x = np.array([[1,2],[3,4]], dtype=np.float64)\n",
    "y = np.array([[5,6],[7,8]], dtype=np.float64)\n",
    "\n",
    "# Suma por elementos; ambas producen la matriz\n",
    "print (x + y)\n",
    "print (np.add(x, y))"
   ]
  },
  {
   "cell_type": "code",
   "execution_count": 24,
   "metadata": {
    "collapsed": false,
    "deletable": true,
    "editable": true
   },
   "outputs": [
    {
     "name": "stdout",
     "output_type": "stream",
     "text": [
      "[[-4. -4.]\n",
      " [-4. -4.]]\n",
      "[[-4. -4.]\n",
      " [-4. -4.]]\n"
     ]
    }
   ],
   "source": [
    "# Resta por elementos; ambas producen la matriz\n",
    "print (x - y)\n",
    "print (np.subtract(x, y))"
   ]
  },
  {
   "cell_type": "code",
   "execution_count": 25,
   "metadata": {
    "collapsed": false,
    "deletable": true,
    "editable": true
   },
   "outputs": [
    {
     "name": "stdout",
     "output_type": "stream",
     "text": [
      "[[  5.  12.]\n",
      " [ 21.  32.]]\n",
      "[[  5.  12.]\n",
      " [ 21.  32.]]\n"
     ]
    }
   ],
   "source": [
    "# Multiplicación por elementos; ambas producen la matriz\n",
    "print (x * y)\n",
    "print (np.multiply(x, y))"
   ]
  },
  {
   "cell_type": "code",
   "execution_count": 26,
   "metadata": {
    "collapsed": false,
    "deletable": true,
    "editable": true
   },
   "outputs": [
    {
     "name": "stdout",
     "output_type": "stream",
     "text": [
      "[[ 0.2         0.33333333]\n",
      " [ 0.42857143  0.5       ]]\n",
      "[[ 0.2         0.33333333]\n",
      " [ 0.42857143  0.5       ]]\n"
     ]
    }
   ],
   "source": [
    "# División por elementos; ambas producen la matriz\n",
    "# [[ 0.2         0.33333333]\n",
    "#  [ 0.42857143  0.5       ]]\n",
    "print (x / y)\n",
    "print (np.divide(x, y))"
   ]
  },
  {
   "cell_type": "code",
   "execution_count": 27,
   "metadata": {
    "collapsed": false,
    "deletable": true,
    "editable": true
   },
   "outputs": [
    {
     "name": "stdout",
     "output_type": "stream",
     "text": [
      "[[ 1.          1.41421356]\n",
      " [ 1.73205081  2.        ]]\n"
     ]
    }
   ],
   "source": [
    "# Raiz cuadrada por elementos; produce la matriz\n",
    "# [[ 1.          1.41421356]\n",
    "#  [ 1.73205081  2.        ]]\n",
    "print (np.sqrt(x))"
   ]
  },
  {
   "cell_type": "markdown",
   "metadata": {
    "deletable": true,
    "editable": true
   },
   "source": [
    "Tenga en cuenta que a diferencia de MATLAB, * es multiplicación elemento por elemento, no es multiplicación de matrices. Utilizamos la función `dot` para calcular productos internos de vectores, multiplicar un vector por una matriz y multiplicar matrices. `dot` está disponible tanto como una función en el módulo `numpy` como un método de instancia de objetos de matriz:"
   ]
  },
  {
   "cell_type": "code",
   "execution_count": 28,
   "metadata": {
    "collapsed": false,
    "deletable": true,
    "editable": true
   },
   "outputs": [
    {
     "name": "stdout",
     "output_type": "stream",
     "text": [
      "219\n",
      "219\n"
     ]
    }
   ],
   "source": [
    "x = np.array([[1,2],[3,4]])\n",
    "y = np.array([[5,6],[7,8]])\n",
    "\n",
    "v = np.array([9,10])\n",
    "w = np.array([11, 12])\n",
    "\n",
    "# Producto interno de vectores; ambas producen 219\n",
    "print (v.dot(w))\n",
    "print (np.dot(v, w))"
   ]
  },
  {
   "cell_type": "code",
   "execution_count": null,
   "metadata": {
    "collapsed": false,
    "deletable": true,
    "editable": true
   },
   "outputs": [],
   "source": [
    "# Producto de Matriz por vector; ambas producen la matrix de rango 1 [29 67]\n",
    "print (x.dot(v))\n",
    "print (np.dot(x, v))"
   ]
  },
  {
   "cell_type": "code",
   "execution_count": 29,
   "metadata": {
    "collapsed": false,
    "deletable": true,
    "editable": true
   },
   "outputs": [
    {
     "name": "stdout",
     "output_type": "stream",
     "text": [
      "[[19 22]\n",
      " [43 50]]\n",
      "[[19 22]\n",
      " [43 50]]\n"
     ]
    }
   ],
   "source": [
    "# Producto de Matriz por Matriz; ambas producen la matrix de rango 1\n",
    "# [[19 22]\n",
    "#  [43 50]]\n",
    "print (x.dot(y))\n",
    "print (np.dot(x, y))"
   ]
  },
  {
   "cell_type": "markdown",
   "metadata": {
    "deletable": true,
    "editable": true
   },
   "source": [
    "Numpy proporciona muchas funciones útiles para realizar cálculos en matrices; Una de los más útiles es `sum`:"
   ]
  },
  {
   "cell_type": "code",
   "execution_count": 30,
   "metadata": {
    "collapsed": false,
    "deletable": true,
    "editable": true
   },
   "outputs": [
    {
     "name": "stdout",
     "output_type": "stream",
     "text": [
      "10\n",
      "[4 6]\n",
      "[3 7]\n"
     ]
    }
   ],
   "source": [
    "x = np.array([[1,2],[3,4]])\n",
    "\n",
    "print (np.sum(x))  # Calcular la suma de todos los elementos; imprime \"10\"\n",
    "print (np.sum(x, axis=0))  # Calcular la suma de cada columna; imprime \"[4 6]\"\n",
    "print (np.sum(x, axis=1))  # Calcular la suma de cada fila; imprime \"[3 7]\""
   ]
  },
  {
   "cell_type": "markdown",
   "metadata": {
    "deletable": true,
    "editable": true
   },
   "source": [
    "Puede encontrar las funciones matemáticas proporcionadas por numpy en la [documentación](http://docs.scipy.org/doc/numpy/reference/routines.math.html).\n",
    "\n",
    "Aparte de la computación de funciones matemáticas utilizando matrices, con frecuencia necesitamos cambiar la forma o de otra manera manipular datos en matrices. El ejemplo más simple de este tipo de operación es la transposición de una matriz; Para transponer una matriz, simplemente use el atributo T de un objeto de matriz:"
   ]
  },
  {
   "cell_type": "code",
   "execution_count": 31,
   "metadata": {
    "collapsed": false,
    "deletable": true,
    "editable": true
   },
   "outputs": [
    {
     "name": "stdout",
     "output_type": "stream",
     "text": [
      "[[1 2]\n",
      " [3 4]]\n",
      "[[1 3]\n",
      " [2 4]]\n"
     ]
    }
   ],
   "source": [
    "print (x)\n",
    "print (x.T)"
   ]
  },
  {
   "cell_type": "code",
   "execution_count": 32,
   "metadata": {
    "collapsed": false,
    "deletable": true,
    "editable": true
   },
   "outputs": [
    {
     "name": "stdout",
     "output_type": "stream",
     "text": [
      "[[1 2 3]]\n",
      "[[1]\n",
      " [2]\n",
      " [3]]\n"
     ]
    }
   ],
   "source": [
    "v = np.array([[1,2,3]])\n",
    "print (v) \n",
    "print (v.T)"
   ]
  },
  {
   "cell_type": "markdown",
   "metadata": {
    "deletable": true,
    "editable": true
   },
   "source": [
    "### Broadcasting"
   ]
  },
  {
   "cell_type": "markdown",
   "metadata": {
    "deletable": true,
    "editable": true
   },
   "source": [
    "Broadcasting es un potente mecanismo que permite a numpy trabajar con matrices de diferentes formas al realizar operaciones aritméticas. Con frecuencia tenemos una matriz más pequeña y una matriz más grande, y queremos usar la matriz más pequeña varias veces para realizar alguna operación en la matriz más grande.\n",
    "\n",
    "Por ejemplo, supongamos que queremos agregar un vector constante a cada fila de una matriz. Podríamos hacerlo así:"
   ]
  },
  {
   "cell_type": "code",
   "execution_count": 33,
   "metadata": {
    "collapsed": false,
    "deletable": true,
    "editable": true
   },
   "outputs": [
    {
     "name": "stdout",
     "output_type": "stream",
     "text": [
      "[[ 2  2  4]\n",
      " [ 5  5  7]\n",
      " [ 8  8 10]\n",
      " [11 11 13]]\n"
     ]
    }
   ],
   "source": [
    "# Sumar el vector v a cada fila de la matriz x,\n",
    "# almacenando el resultado en la matriz y\n",
    "x = np.array([[1,2,3], [4,5,6], [7,8,9], [10, 11, 12]])\n",
    "v = np.array([1, 0, 1])\n",
    "y = np.empty_like(x)   # Crear una matriz vacía con la misma forma que x\n",
    "\n",
    "# Sume el vector v a cada fila de la matriz x con un bucle explícito\n",
    "for i in range(4):\n",
    "    y[i, :] = x[i, :] + v\n",
    "\n",
    "print (y)"
   ]
  },
  {
   "cell_type": "markdown",
   "metadata": {
    "deletable": true,
    "editable": true
   },
   "source": [
    "Esto funciona; Sin embargo, cuando la matriz `x` es muy grande, el cálculo de un bucle explícito en Python podría ser lento. Tenga en cuenta que la adición del vector `v` a cada fila de la matriz `x` es equivalente a formar una matriz `vv` apilando múltiples copias de `v` verticalmente, realizando entonces la suma elemental de `x` y `vv`. Podríamos implementar este enfoque de la siguiente manera:"
   ]
  },
  {
   "cell_type": "code",
   "execution_count": 34,
   "metadata": {
    "collapsed": false,
    "deletable": true,
    "editable": true
   },
   "outputs": [
    {
     "name": "stdout",
     "output_type": "stream",
     "text": [
      "[[1 0 1]\n",
      " [1 0 1]\n",
      " [1 0 1]\n",
      " [1 0 1]]\n"
     ]
    }
   ],
   "source": [
    "vv = np.tile(v, (4, 1))  # Apilar 4 copias de v una encima de otra\n",
    "print (vv)               # Imprime \"[[1 0 1]\n",
    "                         #          [1 0 1]\n",
    "                         #          [1 0 1]\n",
    "                         #          [1 0 1]]\""
   ]
  },
  {
   "cell_type": "code",
   "execution_count": 35,
   "metadata": {
    "collapsed": false,
    "deletable": true,
    "editable": true
   },
   "outputs": [
    {
     "name": "stdout",
     "output_type": "stream",
     "text": [
      "[[ 2  2  4]\n",
      " [ 5  5  7]\n",
      " [ 8  8 10]\n",
      " [11 11 13]]\n"
     ]
    }
   ],
   "source": [
    "y = x + vv  # Sumar x y vv elemento por elemento\n",
    "print (y)"
   ]
  },
  {
   "cell_type": "markdown",
   "metadata": {
    "deletable": true,
    "editable": true
   },
   "source": [
    "Numpy broadcasting nos permite realizar este cálculo sin realmente crear múltiples copias de v. Considere esta versión, utilizando la broadcasting:"
   ]
  },
  {
   "cell_type": "code",
   "execution_count": 36,
   "metadata": {
    "collapsed": false,
    "deletable": true,
    "editable": true
   },
   "outputs": [
    {
     "name": "stdout",
     "output_type": "stream",
     "text": [
      "[[ 2  2  4]\n",
      " [ 5  5  7]\n",
      " [ 8  8 10]\n",
      " [11 11 13]]\n"
     ]
    }
   ],
   "source": [
    "# Sumar el vector v a cada fila de la matriz x,\n",
    "# almacenando el resultado en la matriz y\n",
    "x = np.array([[1,2,3], [4,5,6], [7,8,9], [10, 11, 12]])\n",
    "v = np.array([1, 0, 1])\n",
    "y = x + v  # Sumar v a cada fila de x usando broadcasting\n",
    "print (y)"
   ]
  },
  {
   "cell_type": "markdown",
   "metadata": {
    "deletable": true,
    "editable": true
   },
   "source": [
    "La línea `y = x + v` funciona a pesar que `x` tiene forma `(4, 3)` y `v` tiene forma `(3,)` debido al broadcasting; esta línea funciona como si `v` tubiese la forma `(4, 3)`, donde cada fila es una copia de `v`, y la suma se realiza elemento por elemento.\n",
    "\n",
    "Broadcasting dos matrices sigue las siguientes reglas:\n",
    "\n",
    "1. Un escalar siempre se puede operar con cualquier matriz.\n",
    "2. Dos dimensiones son compatibles en las operaciones aritméticas cuando son iguales o cuando una de ellas es 1. Los tamaños de las dimensiones que son 1 se extienden hasta completar el tamaño de la otra matriz.\n",
    "3. Cuando el número de dimensiones de las matrices es diferente, se compara el tamaño de las dimensiones empezando por la derecha, y entonces los tamaños deben ser iguales, extendiéndose la matriz más corta hasta completar el tamaño de la más larga.\n",
    "4. Las reglas anteriores pueden combinarse\n",
    "\n",
    "Puede encontrar todo los refenente a broadcasting en la [documentación](http://docs.scipy.org/doc/numpy/user/basics.broadcasting.html).\n",
    "\n",
    "Funciones que permiten broadcasting son conocidas como funciones universales. Puede encontrar la lista de todas las funciones universales en la [documentación](http://docs.scipy.org/doc/numpy/reference/ufuncs.html#available-ufuncs).\n",
    "\n",
    "A continuación están algunas aplicaciones de broadcasting:"
   ]
  },
  {
   "cell_type": "code",
   "execution_count": 37,
   "metadata": {
    "collapsed": false,
    "deletable": true,
    "editable": true
   },
   "outputs": [
    {
     "name": "stdout",
     "output_type": "stream",
     "text": [
      "[[ 4  5]\n",
      " [ 8 10]\n",
      " [12 15]]\n"
     ]
    }
   ],
   "source": [
    "# Calcular el producto externo de los vectores\n",
    "v = np.array([1,2,3])  # v tiene forma (3,)\n",
    "w = np.array([4,5])    # w tiene forma (2,)\n",
    "# Para calcular un producto externo, primero reformamos v para que sea un vector\n",
    "# columna con forma (3, 1); despues lo podemos broadcast con w para obtener\n",
    "# una salida con forma (3, 2), que es el producto externo de v y w:\n",
    "\n",
    "print (np.reshape(v, (3, 1)) * w)"
   ]
  },
  {
   "cell_type": "code",
   "execution_count": 38,
   "metadata": {
    "collapsed": false,
    "deletable": true,
    "editable": true
   },
   "outputs": [
    {
     "name": "stdout",
     "output_type": "stream",
     "text": [
      "[[2 4 6]\n",
      " [5 7 9]]\n"
     ]
    }
   ],
   "source": [
    "# Sumar un vector a cada fila de una matriz \n",
    "x = np.array([[1,2,3], [4,5,6]])\n",
    "# x tiene forma (2, 3) y v tiene forma (3,) asi que se obtiene una salida (2, 3),\n",
    "# con la siguiente matriz:\n",
    "\n",
    "print (x + v)"
   ]
  },
  {
   "cell_type": "code",
   "execution_count": 39,
   "metadata": {
    "collapsed": false,
    "deletable": true,
    "editable": true
   },
   "outputs": [
    {
     "name": "stdout",
     "output_type": "stream",
     "text": [
      "[[ 5  6  7]\n",
      " [ 9 10 11]]\n"
     ]
    }
   ],
   "source": [
    "# Sumar un vector a cada columna de una matriz\n",
    "# x tiene forma (2, 3) y w tien forma (2,).\n",
    "# Si le aplicamos la transpuesta a x entonces tiene forma (3, 2) y lo podemos broadcast\n",
    "# con w para obtener un resultado con forma (3, 2); aplicando la transpuesta a este resultado\n",
    "# obtenemos el resultado final con forma (2, 3) que es la matriz x con\n",
    "# el vector w sumado a cada columna. Obteniendo la siguiente matriz:\n",
    "\n",
    "print ((x.T + w).T)"
   ]
  },
  {
   "cell_type": "code",
   "execution_count": 40,
   "metadata": {
    "collapsed": false,
    "deletable": true,
    "editable": true
   },
   "outputs": [
    {
     "name": "stdout",
     "output_type": "stream",
     "text": [
      "[[ 5  6  7]\n",
      " [ 9 10 11]]\n"
     ]
    }
   ],
   "source": [
    "# Otra solución es reformar w para que sea un vector por fila con la forma (2, 1);\n",
    "# entonces lo podemos broadcast directamente con x para producir la misma\n",
    "# salida.\n",
    "print (x + np.reshape(w, (2, 1)))"
   ]
  },
  {
   "cell_type": "code",
   "execution_count": 41,
   "metadata": {
    "collapsed": false,
    "deletable": true,
    "editable": true
   },
   "outputs": [
    {
     "name": "stdout",
     "output_type": "stream",
     "text": [
      "[[ 2  4  6]\n",
      " [ 8 10 12]]\n"
     ]
    }
   ],
   "source": [
    "# Multiplicar una matriz por una constante:\n",
    "# x tiene forma (2, 3). Numpy trata los escalares como matrices con forma ();\n",
    "# esto puede ser broadcast con forma (2, 3), produciendo la\n",
    "# siguiente matriz:\n",
    "print (x * 2)"
   ]
  },
  {
   "cell_type": "markdown",
   "metadata": {
    "deletable": true,
    "editable": true
   },
   "source": [
    "Por lo general, broadcasting hace que su código sea más conciso y rápido, por lo que debe esforzarse por utilizarlo cuando sea posible."
   ]
  },
  {
   "cell_type": "markdown",
   "metadata": {
    "deletable": true,
    "editable": true
   },
   "source": [
    "Este breve resumen ha tocado muchas de las cosas importantes que usted necesita saber acerca de numpy, pero está lejos de ser completa. Revise la [referencia de numpy](http://docs.scipy.org/doc/numpy/reference/) aara averiguar mucho más sobre numpy."
   ]
  },
  {
   "cell_type": "markdown",
   "metadata": {
    "deletable": true,
    "editable": true
   },
   "source": [
    "## Matplotlib"
   ]
  },
  {
   "cell_type": "markdown",
   "metadata": {
    "deletable": true,
    "editable": true
   },
   "source": [
    "Matplotlib es una librería de gráficos. En esta sección, se hace una breve introducción al módulo `matplotlib.pyplot` el cual proporciona un sistema de gráficos similar al de MATLAB."
   ]
  },
  {
   "cell_type": "code",
   "execution_count": 42,
   "metadata": {
    "collapsed": false,
    "deletable": true,
    "editable": true
   },
   "outputs": [],
   "source": [
    "import matplotlib.pyplot as plt"
   ]
  },
  {
   "cell_type": "markdown",
   "metadata": {
    "deletable": true,
    "editable": true
   },
   "source": [
    "Al ejecutar este comando especial de iPython, vamos a mostrar los gráficos en línea:"
   ]
  },
  {
   "cell_type": "code",
   "execution_count": 44,
   "metadata": {
    "collapsed": false,
    "deletable": true,
    "editable": true
   },
   "outputs": [],
   "source": [
    "%matplotlib inline"
   ]
  },
  {
   "cell_type": "markdown",
   "metadata": {
    "deletable": true,
    "editable": true
   },
   "source": [
    "### Graficar"
   ]
  },
  {
   "cell_type": "markdown",
   "metadata": {
    "deletable": true,
    "editable": true
   },
   "source": [
    "La función mas importante de `matplotlib` es `plot`, la cual permite graficar datos en 2D. Por ejemplo:"
   ]
  },
  {
   "cell_type": "code",
   "execution_count": 45,
   "metadata": {
    "collapsed": false,
    "deletable": true,
    "editable": true
   },
   "outputs": [
    {
     "data": {
      "text/plain": [
       "[<matplotlib.lines.Line2D at 0x10a12ba90>]"
      ]
     },
     "execution_count": 45,
     "metadata": {},
     "output_type": "execute_result"
    },
    {
     "data": {
      "image/png": "[encoded data removed]",
      "text/plain": [
       "<matplotlib.figure.Figure at 0x10a082cc0>"
      ]
     },
     "metadata": {},
     "output_type": "display_data"
    }
   ],
   "source": [
    "# Calcular las coordenadas x e y para puntos en una curva senoidal\n",
    "x = np.arange(0, 3 * np.pi, 0.1)\n",
    "y = np.sin(x)\n",
    "\n",
    "# Graficar los puntos usando matplotlib\n",
    "plt.plot(x, y)"
   ]
  },
  {
   "cell_type": "markdown",
   "metadata": {
    "deletable": true,
    "editable": true
   },
   "source": [
    "Con solo un poco de trabajo extra, podemos trazar varias líneas a la vez y agregar etiquetas de título, leyenda y a los ejes:"
   ]
  },
  {
   "cell_type": "code",
   "execution_count": 46,
   "metadata": {
    "collapsed": false,
    "deletable": true,
    "editable": true
   },
   "outputs": [
    {
     "data": {
      "text/plain": [
       "<matplotlib.legend.Legend at 0x10a235588>"
      ]
     },
     "execution_count": 46,
     "metadata": {},
     "output_type": "execute_result"
    },
    {
     "data": {
      "image/png": "[encoded data removed]",
      "text/plain": [
       "<matplotlib.figure.Figure at 0x10a166438>"
      ]
     },
     "metadata": {},
     "output_type": "display_data"
    }
   ],
   "source": [
    "y_sin = np.sin(x)\n",
    "y_cos = np.cos(x)\n",
    "\n",
    "# Graficar los puntos usando matplotlib\n",
    "plt.plot(x, y_sin, color=\"blue\", linewidth=2.5, linestyle=\"-\")\n",
    "plt.plot(x, y_cos, color=\"red\",  linewidth=2.5, linestyle=\"-\")\n",
    "plt.xlabel('etiqueta eje x')\n",
    "plt.ylabel('etiqueta eje y')\n",
    "plt.title('Seno y Coseno')\n",
    "plt.legend(['Seno', 'Coseno'])"
   ]
  },
  {
   "cell_type": "code",
   "execution_count": 47,
   "metadata": {
    "collapsed": false
   },
   "outputs": [
    {
     "data": {
      "image/png": "[encoded data removed]",
      "text/plain": [
       "<matplotlib.figure.Figure at 0x10a131828>"
      ]
     },
     "metadata": {},
     "output_type": "display_data"
    }
   ],
   "source": [
    "# Graficar puntos\n",
    "x = np.random.normal(size=500)\n",
    "y = np.random.normal(size=500)\n",
    "plt.scatter(x, y);"
   ]
  },
  {
   "cell_type": "code",
   "execution_count": 48,
   "metadata": {
    "collapsed": false
   },
   "outputs": [
    {
     "data": {
      "text/plain": [
       "(array([  1.00000000e+00,   3.00000000e+00,   3.00000000e+00,\n",
       "          1.30000000e+01,   5.10000000e+01,   1.23000000e+02,\n",
       "          2.65000000e+02,   4.58000000e+02,   7.88000000e+02,\n",
       "          1.17500000e+03,   1.43100000e+03,   1.51700000e+03,\n",
       "          1.41000000e+03,   1.12600000e+03,   7.69000000e+02,\n",
       "          4.74000000e+02,   2.39000000e+02,   1.14000000e+02,\n",
       "          2.90000000e+01,   1.10000000e+01]),\n",
       " array([-4.41679524, -4.03124108, -3.64568693, -3.26013277, -2.87457862,\n",
       "        -2.48902446, -2.10347031, -1.71791615, -1.33236199, -0.94680784,\n",
       "        -0.56125368, -0.17569953,  0.20985463,  0.59540878,  0.98096294,\n",
       "         1.3665171 ,  1.75207125,  2.13762541,  2.52317956,  2.90873372,\n",
       "         3.29428788]),\n",
       " <a list of 20 Patch objects>)"
      ]
     },
     "execution_count": 48,
     "metadata": {},
     "output_type": "execute_result"
    },
    {
     "data": {
      "image/png": "[encoded data removed]",
      "text/plain": [
       "<matplotlib.figure.Figure at 0x10a365c18>"
      ]
     },
     "metadata": {},
     "output_type": "display_data"
    }
   ],
   "source": [
    "# Graficar histogramas\n",
    "x = np.random.randn(10000)  # Definimos un vector de números aleatorios de una distribución normal\n",
    "plt.hist(x, bins = 20)  # Dibuja un histograma dividiendo el vector x en 20 intervalos"
   ]
  },
  {
   "cell_type": "markdown",
   "metadata": {
    "deletable": true,
    "editable": true
   },
   "source": [
    "### Subplots "
   ]
  },
  {
   "cell_type": "markdown",
   "metadata": {
    "deletable": true,
    "editable": true
   },
   "source": [
    "Puedes graficar diferentes cosas en la misma figura usando la función `subplot`. Por ejemplo:"
   ]
  },
  {
   "cell_type": "code",
   "execution_count": 49,
   "metadata": {
    "collapsed": false,
    "deletable": true,
    "editable": true
   },
   "outputs": [
    {
     "data": {
      "image/png": "[encoded data removed]",
      "text/plain": [
       "<matplotlib.figure.Figure at 0x10a469400>"
      ]
     },
     "metadata": {},
     "output_type": "display_data"
    }
   ],
   "source": [
    "# Calcular las coordenadas x e y de los puntos de las curvas seno y coseno\n",
    "x = np.arange(0, 3 * np.pi, 0.1)\n",
    "y_sin = np.sin(x)\n",
    "y_cos = np.cos(x)\n",
    "\n",
    "# Configure una reticula subplot con altura 2 y ancho 1,\n",
    "# y seleccione el primer subplot como activo.\n",
    "plt.subplot(2, 1, 1)\n",
    "\n",
    "# Realice el primer gráfico\n",
    "plt.plot(x, y_sin)\n",
    "plt.title('Seno')\n",
    "\n",
    "# Seleccione el segundo subplot como activo, y haga el segundo gráfico.\n",
    "plt.subplot(2, 1, 2)\n",
    "plt.plot(x, y_cos)\n",
    "plt.title('Coseno')\n",
    "\n",
    "# Muestre la figura.\n",
    "plt.show()"
   ]
  },
  {
   "cell_type": "markdown",
   "metadata": {
    "deletable": true,
    "editable": true
   },
   "source": [
    "Puedes leer mucho más sobre la función `subplot` en la [documentación](http://matplotlib.org/api/pyplot_api.html#matplotlib.pyplot.subplot)."
   ]
  },
  {
   "cell_type": "code",
   "execution_count": 55,
   "metadata": {
    "collapsed": false,
    "deletable": true,
    "editable": true
   },
   "outputs": [
    {
     "data": {
      "text/plain": [
       "<matplotlib.legend.Legend at 0x10a8ea240>"
      ]
     },
     "execution_count": 55,
     "metadata": {},
     "output_type": "execute_result"
    },
    {
     "data": {
      "image/png": "[encoded data removed]",
      "text/plain": [
       "<matplotlib.figure.Figure at 0x10a47ddd8>"
      ]
     },
     "metadata": {},
     "output_type": "display_data"
    }
   ],
   "source": [
    "# Configurar estilo de las líneas\n",
    "lista1 = [11,2,3,15,8,13,21,34]\n",
    "lista2 = [2,3,4,2,3,6,4,10]\n",
    "lista3 = [9,15,9,15,9,15,9,15]\n",
    "plt.plot(lista1, marker='x', linestyle=':', color='b', label = \"Enero\")\n",
    "plt.plot(lista2, marker='*', linestyle='-', color='g', label = \"Febrero\")\n",
    "plt.plot(lista3, marker='o', linestyle='--', color='r', label = \"Marzo\")\n",
    "plt.legend()"
   ]
  },
  {
   "cell_type": "code",
   "execution_count": 56,
   "metadata": {
    "collapsed": false
   },
   "outputs": [
    {
     "data": {
      "text/plain": [
       "<matplotlib.text.Text at 0x10a93b470>"
      ]
     },
     "execution_count": 56,
     "metadata": {},
     "output_type": "execute_result"
    },
    {
     "data": {
      "image/png": "[encoded data removed]",
      "text/plain": [
       "<matplotlib.figure.Figure at 0x10a473208>"
      ]
     },
     "metadata": {},
     "output_type": "display_data"
    }
   ],
   "source": [
    "# Gráficos de Barras Horizontales\n",
    "paises = (\"Alemania\", \"España\", \"Francia\", \"Portugal\")\n",
    "posicion_y = np.arange(len(paises))\n",
    "unidades = (342, 321, 192, 402)\n",
    "plt.barh(posicion_y, unidades, align = \"center\")\n",
    "plt.yticks(posicion_y, paises)\n",
    "plt.xlabel('Unidades vendidas')\n",
    "plt.title(\"Ventas en Europa\")"
   ]
  },
  {
   "cell_type": "code",
   "execution_count": 57,
   "metadata": {
    "collapsed": false
   },
   "outputs": [
    {
     "data": {
      "text/plain": [
       "([<matplotlib.axis.XTick at 0x10a9dd278>,\n",
       "  <matplotlib.axis.XTick at 0x10a4733c8>,\n",
       "  <matplotlib.axis.XTick at 0x10a9e1e80>,\n",
       "  <matplotlib.axis.XTick at 0x10aad8080>],\n",
       " <a list of 4 Text xticklabel objects>)"
      ]
     },
     "execution_count": 57,
     "metadata": {},
     "output_type": "execute_result"
    },
    {
     "data": {
      "image/png": "[encoded data removed]",
      "text/plain": [
       "<matplotlib.figure.Figure at 0x10a361630>"
      ]
     },
     "metadata": {},
     "output_type": "display_data"
    }
   ],
   "source": [
    "# Gráficos de Multiples Barras Verticales\n",
    "datos = [[1, 2, 3, 4], [3, 5, 3, 5], [8, 6, 4, 2]]\n",
    "X = np.arange(4)\n",
    "plt.bar(X + 0.00, datos[0], color = \"b\", width = 0.25)\n",
    "plt.bar(X + 0.25, datos[1], color = \"g\", width = 0.25)\n",
    "plt.bar(X + 0.50, datos[2], color = \"r\", width = 0.25)\n",
    "plt.xticks(X+0.38, [\"A\",\"B\",\"C\",\"D\"])"
   ]
  },
  {
   "cell_type": "code",
   "execution_count": 60,
   "metadata": {
    "collapsed": false
   },
   "outputs": [
    {
     "data": {
      "text/plain": [
       "<matplotlib.legend.Legend at 0x10acd7898>"
      ]
     },
     "execution_count": 60,
     "metadata": {},
     "output_type": "execute_result"
    },
    {
     "data": {
      "image/png": "[encoded data removed]",
      "text/plain": [
       "<matplotlib.figure.Figure at 0x10acb2898>"
      ]
     },
     "metadata": {},
     "output_type": "display_data"
    }
   ],
   "source": [
    "# Gráficos de Torta\n",
    "impr = [\"b/n\", \"color\", \"dúplex\", \"A3\"]\n",
    "vol = [25, 31, 46, 10]\n",
    "expl =(0, 0.05, 0.1, 0)\n",
    "plt.pie(vol, explode=expl, labels=impr, autopct='%1.1f%%', shadow=True)\n",
    "plt.title(\"Impresión\", bbox={\"facecolor\":\"0.8\", \"pad\":10})\n",
    "plt.legend()"
   ]
  }
 ],
 "metadata": {
  "anaconda-cloud": {},
  "kernelspec": {
   "display_name": "Python 3",
   "language": "python",
   "name": "python3"
  },
  "language_info": {
   "codemirror_mode": {
    "name": "ipython",
    "version": 3
   },
   "file_extension": ".py",
   "mimetype": "text/x-python",
   "name": "python",
   "nbconvert_exporter": "python",
   "pygments_lexer": "ipython3",
   "version": "3.6.2"
  }
 },
 "nbformat": 4,
 "nbformat_minor": 2
}
